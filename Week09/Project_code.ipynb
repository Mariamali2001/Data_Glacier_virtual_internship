{
 "cells": [
  {
   "cell_type": "markdown",
   "metadata": {},
   "source": [
    "# **Problem Statement**"
   ]
  },
  {
   "cell_type": "markdown",
   "metadata": {},
   "source": [
    "One of the challenge for all Pharmaceutical companies is to understand the persistency of drug as per the physician prescription. \n",
    "\n",
    "\n",
    "To solve this problem ABC pharma company approached an analytics company to automate this process of identification\n"
   ]
  },
  {
   "cell_type": "markdown",
   "metadata": {},
   "source": [
    "# Import Libraries"
   ]
  },
  {
   "cell_type": "code",
   "execution_count": 2,
   "metadata": {},
   "outputs": [],
   "source": [
    "import numpy as np\n",
    "import pandas as pd\n",
    "import matplotlib.pyplot as plt\n",
    "%matplotlib inline\n",
    "import seaborn as sns\n",
    "from scipy.stats import skew "
   ]
  },
  {
   "cell_type": "markdown",
   "metadata": {},
   "source": [
    "# Read Dataset"
   ]
  },
  {
   "cell_type": "code",
   "execution_count": 3,
   "metadata": {},
   "outputs": [
    {
     "data": {
      "text/html": [
       "<div>\n",
       "<style scoped>\n",
       "    .dataframe tbody tr th:only-of-type {\n",
       "        vertical-align: middle;\n",
       "    }\n",
       "\n",
       "    .dataframe tbody tr th {\n",
       "        vertical-align: top;\n",
       "    }\n",
       "\n",
       "    .dataframe thead th {\n",
       "        text-align: right;\n",
       "    }\n",
       "</style>\n",
       "<table border=\"1\" class=\"dataframe\">\n",
       "  <thead>\n",
       "    <tr style=\"text-align: right;\">\n",
       "      <th></th>\n",
       "      <th>Ptid</th>\n",
       "      <th>Persistency_Flag</th>\n",
       "      <th>Gender</th>\n",
       "      <th>Race</th>\n",
       "      <th>Ethnicity</th>\n",
       "      <th>Region</th>\n",
       "      <th>Age_Bucket</th>\n",
       "      <th>Ntm_Speciality</th>\n",
       "      <th>Ntm_Specialist_Flag</th>\n",
       "      <th>Ntm_Speciality_Bucket</th>\n",
       "      <th>...</th>\n",
       "      <th>Risk_Family_History_Of_Osteoporosis</th>\n",
       "      <th>Risk_Low_Calcium_Intake</th>\n",
       "      <th>Risk_Vitamin_D_Insufficiency</th>\n",
       "      <th>Risk_Poor_Health_Frailty</th>\n",
       "      <th>Risk_Excessive_Thinness</th>\n",
       "      <th>Risk_Hysterectomy_Oophorectomy</th>\n",
       "      <th>Risk_Estrogen_Deficiency</th>\n",
       "      <th>Risk_Immobilization</th>\n",
       "      <th>Risk_Recurring_Falls</th>\n",
       "      <th>Count_Of_Risks</th>\n",
       "    </tr>\n",
       "  </thead>\n",
       "  <tbody>\n",
       "    <tr>\n",
       "      <th>0</th>\n",
       "      <td>P1</td>\n",
       "      <td>Persistent</td>\n",
       "      <td>Male</td>\n",
       "      <td>Caucasian</td>\n",
       "      <td>Not Hispanic</td>\n",
       "      <td>West</td>\n",
       "      <td>&gt;75</td>\n",
       "      <td>GENERAL PRACTITIONER</td>\n",
       "      <td>Others</td>\n",
       "      <td>OB/GYN/Others/PCP/Unknown</td>\n",
       "      <td>...</td>\n",
       "      <td>N</td>\n",
       "      <td>N</td>\n",
       "      <td>N</td>\n",
       "      <td>N</td>\n",
       "      <td>N</td>\n",
       "      <td>N</td>\n",
       "      <td>N</td>\n",
       "      <td>N</td>\n",
       "      <td>N</td>\n",
       "      <td>0</td>\n",
       "    </tr>\n",
       "    <tr>\n",
       "      <th>1</th>\n",
       "      <td>P2</td>\n",
       "      <td>Non-Persistent</td>\n",
       "      <td>Male</td>\n",
       "      <td>Asian</td>\n",
       "      <td>Not Hispanic</td>\n",
       "      <td>West</td>\n",
       "      <td>55-65</td>\n",
       "      <td>GENERAL PRACTITIONER</td>\n",
       "      <td>Others</td>\n",
       "      <td>OB/GYN/Others/PCP/Unknown</td>\n",
       "      <td>...</td>\n",
       "      <td>N</td>\n",
       "      <td>N</td>\n",
       "      <td>N</td>\n",
       "      <td>N</td>\n",
       "      <td>N</td>\n",
       "      <td>N</td>\n",
       "      <td>N</td>\n",
       "      <td>N</td>\n",
       "      <td>N</td>\n",
       "      <td>0</td>\n",
       "    </tr>\n",
       "    <tr>\n",
       "      <th>2</th>\n",
       "      <td>P3</td>\n",
       "      <td>Non-Persistent</td>\n",
       "      <td>Female</td>\n",
       "      <td>Other/Unknown</td>\n",
       "      <td>Hispanic</td>\n",
       "      <td>Midwest</td>\n",
       "      <td>65-75</td>\n",
       "      <td>GENERAL PRACTITIONER</td>\n",
       "      <td>Others</td>\n",
       "      <td>OB/GYN/Others/PCP/Unknown</td>\n",
       "      <td>...</td>\n",
       "      <td>N</td>\n",
       "      <td>Y</td>\n",
       "      <td>N</td>\n",
       "      <td>N</td>\n",
       "      <td>N</td>\n",
       "      <td>N</td>\n",
       "      <td>N</td>\n",
       "      <td>N</td>\n",
       "      <td>N</td>\n",
       "      <td>2</td>\n",
       "    </tr>\n",
       "    <tr>\n",
       "      <th>3</th>\n",
       "      <td>P4</td>\n",
       "      <td>Non-Persistent</td>\n",
       "      <td>Female</td>\n",
       "      <td>Caucasian</td>\n",
       "      <td>Not Hispanic</td>\n",
       "      <td>Midwest</td>\n",
       "      <td>&gt;75</td>\n",
       "      <td>GENERAL PRACTITIONER</td>\n",
       "      <td>Others</td>\n",
       "      <td>OB/GYN/Others/PCP/Unknown</td>\n",
       "      <td>...</td>\n",
       "      <td>N</td>\n",
       "      <td>N</td>\n",
       "      <td>N</td>\n",
       "      <td>N</td>\n",
       "      <td>N</td>\n",
       "      <td>N</td>\n",
       "      <td>N</td>\n",
       "      <td>N</td>\n",
       "      <td>N</td>\n",
       "      <td>1</td>\n",
       "    </tr>\n",
       "    <tr>\n",
       "      <th>4</th>\n",
       "      <td>P5</td>\n",
       "      <td>Non-Persistent</td>\n",
       "      <td>Female</td>\n",
       "      <td>Caucasian</td>\n",
       "      <td>Not Hispanic</td>\n",
       "      <td>Midwest</td>\n",
       "      <td>&gt;75</td>\n",
       "      <td>GENERAL PRACTITIONER</td>\n",
       "      <td>Others</td>\n",
       "      <td>OB/GYN/Others/PCP/Unknown</td>\n",
       "      <td>...</td>\n",
       "      <td>N</td>\n",
       "      <td>N</td>\n",
       "      <td>N</td>\n",
       "      <td>N</td>\n",
       "      <td>N</td>\n",
       "      <td>N</td>\n",
       "      <td>N</td>\n",
       "      <td>N</td>\n",
       "      <td>N</td>\n",
       "      <td>1</td>\n",
       "    </tr>\n",
       "  </tbody>\n",
       "</table>\n",
       "<p>5 rows × 69 columns</p>\n",
       "</div>"
      ],
      "text/plain": [
       "  Ptid Persistency_Flag  Gender           Race     Ethnicity   Region  \\\n",
       "0   P1       Persistent    Male      Caucasian  Not Hispanic     West   \n",
       "1   P2   Non-Persistent    Male          Asian  Not Hispanic     West   \n",
       "2   P3   Non-Persistent  Female  Other/Unknown      Hispanic  Midwest   \n",
       "3   P4   Non-Persistent  Female      Caucasian  Not Hispanic  Midwest   \n",
       "4   P5   Non-Persistent  Female      Caucasian  Not Hispanic  Midwest   \n",
       "\n",
       "  Age_Bucket        Ntm_Speciality Ntm_Specialist_Flag  \\\n",
       "0        >75  GENERAL PRACTITIONER              Others   \n",
       "1      55-65  GENERAL PRACTITIONER              Others   \n",
       "2      65-75  GENERAL PRACTITIONER              Others   \n",
       "3        >75  GENERAL PRACTITIONER              Others   \n",
       "4        >75  GENERAL PRACTITIONER              Others   \n",
       "\n",
       "       Ntm_Speciality_Bucket  ... Risk_Family_History_Of_Osteoporosis  \\\n",
       "0  OB/GYN/Others/PCP/Unknown  ...                                   N   \n",
       "1  OB/GYN/Others/PCP/Unknown  ...                                   N   \n",
       "2  OB/GYN/Others/PCP/Unknown  ...                                   N   \n",
       "3  OB/GYN/Others/PCP/Unknown  ...                                   N   \n",
       "4  OB/GYN/Others/PCP/Unknown  ...                                   N   \n",
       "\n",
       "  Risk_Low_Calcium_Intake  Risk_Vitamin_D_Insufficiency  \\\n",
       "0                       N                             N   \n",
       "1                       N                             N   \n",
       "2                       Y                             N   \n",
       "3                       N                             N   \n",
       "4                       N                             N   \n",
       "\n",
       "  Risk_Poor_Health_Frailty Risk_Excessive_Thinness  \\\n",
       "0                        N                       N   \n",
       "1                        N                       N   \n",
       "2                        N                       N   \n",
       "3                        N                       N   \n",
       "4                        N                       N   \n",
       "\n",
       "  Risk_Hysterectomy_Oophorectomy Risk_Estrogen_Deficiency Risk_Immobilization  \\\n",
       "0                              N                        N                   N   \n",
       "1                              N                        N                   N   \n",
       "2                              N                        N                   N   \n",
       "3                              N                        N                   N   \n",
       "4                              N                        N                   N   \n",
       "\n",
       "  Risk_Recurring_Falls Count_Of_Risks  \n",
       "0                    N              0  \n",
       "1                    N              0  \n",
       "2                    N              2  \n",
       "3                    N              1  \n",
       "4                    N              1  \n",
       "\n",
       "[5 rows x 69 columns]"
      ]
     },
     "execution_count": 3,
     "metadata": {},
     "output_type": "execute_result"
    }
   ],
   "source": [
    "data_H= pd.read_csv('E:/solo projects/Data_Glacier_virtual_internship/Data_Glacier_virtual_internship/Week08/Healthcare_dataset.csv')\n",
    "data_H.head() "
   ]
  },
  {
   "cell_type": "markdown",
   "metadata": {},
   "source": [
    "#  **Data Understanding**\n",
    "(Preprocessing)"
   ]
  },
  {
   "cell_type": "code",
   "execution_count": 4,
   "metadata": {},
   "outputs": [
    {
     "name": "stdout",
     "output_type": "stream",
     "text": [
      "Number of Observations: 3424\n",
      "Number of Features: 69\n"
     ]
    }
   ],
   "source": [
    "print(f'Number of Observations: {data_H.shape[0]}')\n",
    "print(f'Number of Features: {data_H.shape[1]}')"
   ]
  },
  {
   "cell_type": "markdown",
   "metadata": {},
   "source": [
    "**Data Info**"
   ]
  },
  {
   "cell_type": "code",
   "execution_count": 5,
   "metadata": {},
   "outputs": [
    {
     "name": "stdout",
     "output_type": "stream",
     "text": [
      "<class 'pandas.core.frame.DataFrame'>\n",
      "RangeIndex: 3424 entries, 0 to 3423\n",
      "Data columns (total 69 columns):\n",
      " #   Column                                                              Non-Null Count  Dtype \n",
      "---  ------                                                              --------------  ----- \n",
      " 0   Ptid                                                                3424 non-null   object\n",
      " 1   Persistency_Flag                                                    3424 non-null   object\n",
      " 2   Gender                                                              3424 non-null   object\n",
      " 3   Race                                                                3424 non-null   object\n",
      " 4   Ethnicity                                                           3424 non-null   object\n",
      " 5   Region                                                              3424 non-null   object\n",
      " 6   Age_Bucket                                                          3424 non-null   object\n",
      " 7   Ntm_Speciality                                                      3424 non-null   object\n",
      " 8   Ntm_Specialist_Flag                                                 3424 non-null   object\n",
      " 9   Ntm_Speciality_Bucket                                               3424 non-null   object\n",
      " 10  Gluco_Record_Prior_Ntm                                              3424 non-null   object\n",
      " 11  Gluco_Record_During_Rx                                              3424 non-null   object\n",
      " 12  Dexa_Freq_During_Rx                                                 3424 non-null   int64 \n",
      " 13  Dexa_During_Rx                                                      3424 non-null   object\n",
      " 14  Frag_Frac_Prior_Ntm                                                 3424 non-null   object\n",
      " 15  Frag_Frac_During_Rx                                                 3424 non-null   object\n",
      " 16  Risk_Segment_Prior_Ntm                                              3424 non-null   object\n",
      " 17  Tscore_Bucket_Prior_Ntm                                             3424 non-null   object\n",
      " 18  Risk_Segment_During_Rx                                              3424 non-null   object\n",
      " 19  Tscore_Bucket_During_Rx                                             3424 non-null   object\n",
      " 20  Change_T_Score                                                      3424 non-null   object\n",
      " 21  Change_Risk_Segment                                                 3424 non-null   object\n",
      " 22  Adherent_Flag                                                       3424 non-null   object\n",
      " 23  Idn_Indicator                                                       3424 non-null   object\n",
      " 24  Injectable_Experience_During_Rx                                     3424 non-null   object\n",
      " 25  Comorb_Encounter_For_Screening_For_Malignant_Neoplasms              3424 non-null   object\n",
      " 26  Comorb_Encounter_For_Immunization                                   3424 non-null   object\n",
      " 27  Comorb_Encntr_For_General_Exam_W_O_Complaint,_Susp_Or_Reprtd_Dx     3424 non-null   object\n",
      " 28  Comorb_Vitamin_D_Deficiency                                         3424 non-null   object\n",
      " 29  Comorb_Other_Joint_Disorder_Not_Elsewhere_Classified                3424 non-null   object\n",
      " 30  Comorb_Encntr_For_Oth_Sp_Exam_W_O_Complaint_Suspected_Or_Reprtd_Dx  3424 non-null   object\n",
      " 31  Comorb_Long_Term_Current_Drug_Therapy                               3424 non-null   object\n",
      " 32  Comorb_Dorsalgia                                                    3424 non-null   object\n",
      " 33  Comorb_Personal_History_Of_Other_Diseases_And_Conditions            3424 non-null   object\n",
      " 34  Comorb_Other_Disorders_Of_Bone_Density_And_Structure                3424 non-null   object\n",
      " 35  Comorb_Disorders_of_lipoprotein_metabolism_and_other_lipidemias     3424 non-null   object\n",
      " 36  Comorb_Osteoporosis_without_current_pathological_fracture           3424 non-null   object\n",
      " 37  Comorb_Personal_history_of_malignant_neoplasm                       3424 non-null   object\n",
      " 38  Comorb_Gastro_esophageal_reflux_disease                             3424 non-null   object\n",
      " 39  Concom_Cholesterol_And_Triglyceride_Regulating_Preparations         3424 non-null   object\n",
      " 40  Concom_Narcotics                                                    3424 non-null   object\n",
      " 41  Concom_Systemic_Corticosteroids_Plain                               3424 non-null   object\n",
      " 42  Concom_Anti_Depressants_And_Mood_Stabilisers                        3424 non-null   object\n",
      " 43  Concom_Fluoroquinolones                                             3424 non-null   object\n",
      " 44  Concom_Cephalosporins                                               3424 non-null   object\n",
      " 45  Concom_Macrolides_And_Similar_Types                                 3424 non-null   object\n",
      " 46  Concom_Broad_Spectrum_Penicillins                                   3424 non-null   object\n",
      " 47  Concom_Anaesthetics_General                                         3424 non-null   object\n",
      " 48  Concom_Viral_Vaccines                                               3424 non-null   object\n",
      " 49  Risk_Type_1_Insulin_Dependent_Diabetes                              3424 non-null   object\n",
      " 50  Risk_Osteogenesis_Imperfecta                                        3424 non-null   object\n",
      " 51  Risk_Rheumatoid_Arthritis                                           3424 non-null   object\n",
      " 52  Risk_Untreated_Chronic_Hyperthyroidism                              3424 non-null   object\n",
      " 53  Risk_Untreated_Chronic_Hypogonadism                                 3424 non-null   object\n",
      " 54  Risk_Untreated_Early_Menopause                                      3424 non-null   object\n",
      " 55  Risk_Patient_Parent_Fractured_Their_Hip                             3424 non-null   object\n",
      " 56  Risk_Smoking_Tobacco                                                3424 non-null   object\n",
      " 57  Risk_Chronic_Malnutrition_Or_Malabsorption                          3424 non-null   object\n",
      " 58  Risk_Chronic_Liver_Disease                                          3424 non-null   object\n",
      " 59  Risk_Family_History_Of_Osteoporosis                                 3424 non-null   object\n",
      " 60  Risk_Low_Calcium_Intake                                             3424 non-null   object\n",
      " 61  Risk_Vitamin_D_Insufficiency                                        3424 non-null   object\n",
      " 62  Risk_Poor_Health_Frailty                                            3424 non-null   object\n",
      " 63  Risk_Excessive_Thinness                                             3424 non-null   object\n",
      " 64  Risk_Hysterectomy_Oophorectomy                                      3424 non-null   object\n",
      " 65  Risk_Estrogen_Deficiency                                            3424 non-null   object\n",
      " 66  Risk_Immobilization                                                 3424 non-null   object\n",
      " 67  Risk_Recurring_Falls                                                3424 non-null   object\n",
      " 68  Count_Of_Risks                                                      3424 non-null   int64 \n",
      "dtypes: int64(2), object(67)\n",
      "memory usage: 1.8+ MB\n"
     ]
    }
   ],
   "source": [
    "data_H.info()"
   ]
  },
  {
   "cell_type": "markdown",
   "metadata": {},
   "source": [
    "**Features**"
   ]
  },
  {
   "cell_type": "code",
   "execution_count": 6,
   "metadata": {},
   "outputs": [
    {
     "data": {
      "text/plain": [
       "Index(['Ptid', 'Persistency_Flag', 'Gender', 'Race', 'Ethnicity', 'Region',\n",
       "       'Age_Bucket', 'Ntm_Speciality', 'Ntm_Specialist_Flag',\n",
       "       'Ntm_Speciality_Bucket', 'Gluco_Record_Prior_Ntm',\n",
       "       'Gluco_Record_During_Rx', 'Dexa_Freq_During_Rx', 'Dexa_During_Rx',\n",
       "       'Frag_Frac_Prior_Ntm', 'Frag_Frac_During_Rx', 'Risk_Segment_Prior_Ntm',\n",
       "       'Tscore_Bucket_Prior_Ntm', 'Risk_Segment_During_Rx',\n",
       "       'Tscore_Bucket_During_Rx', 'Change_T_Score', 'Change_Risk_Segment',\n",
       "       'Adherent_Flag', 'Idn_Indicator', 'Injectable_Experience_During_Rx',\n",
       "       'Comorb_Encounter_For_Screening_For_Malignant_Neoplasms',\n",
       "       'Comorb_Encounter_For_Immunization',\n",
       "       'Comorb_Encntr_For_General_Exam_W_O_Complaint,_Susp_Or_Reprtd_Dx',\n",
       "       'Comorb_Vitamin_D_Deficiency',\n",
       "       'Comorb_Other_Joint_Disorder_Not_Elsewhere_Classified',\n",
       "       'Comorb_Encntr_For_Oth_Sp_Exam_W_O_Complaint_Suspected_Or_Reprtd_Dx',\n",
       "       'Comorb_Long_Term_Current_Drug_Therapy', 'Comorb_Dorsalgia',\n",
       "       'Comorb_Personal_History_Of_Other_Diseases_And_Conditions',\n",
       "       'Comorb_Other_Disorders_Of_Bone_Density_And_Structure',\n",
       "       'Comorb_Disorders_of_lipoprotein_metabolism_and_other_lipidemias',\n",
       "       'Comorb_Osteoporosis_without_current_pathological_fracture',\n",
       "       'Comorb_Personal_history_of_malignant_neoplasm',\n",
       "       'Comorb_Gastro_esophageal_reflux_disease',\n",
       "       'Concom_Cholesterol_And_Triglyceride_Regulating_Preparations',\n",
       "       'Concom_Narcotics', 'Concom_Systemic_Corticosteroids_Plain',\n",
       "       'Concom_Anti_Depressants_And_Mood_Stabilisers',\n",
       "       'Concom_Fluoroquinolones', 'Concom_Cephalosporins',\n",
       "       'Concom_Macrolides_And_Similar_Types',\n",
       "       'Concom_Broad_Spectrum_Penicillins', 'Concom_Anaesthetics_General',\n",
       "       'Concom_Viral_Vaccines', 'Risk_Type_1_Insulin_Dependent_Diabetes',\n",
       "       'Risk_Osteogenesis_Imperfecta', 'Risk_Rheumatoid_Arthritis',\n",
       "       'Risk_Untreated_Chronic_Hyperthyroidism',\n",
       "       'Risk_Untreated_Chronic_Hypogonadism', 'Risk_Untreated_Early_Menopause',\n",
       "       'Risk_Patient_Parent_Fractured_Their_Hip', 'Risk_Smoking_Tobacco',\n",
       "       'Risk_Chronic_Malnutrition_Or_Malabsorption',\n",
       "       'Risk_Chronic_Liver_Disease', 'Risk_Family_History_Of_Osteoporosis',\n",
       "       'Risk_Low_Calcium_Intake', 'Risk_Vitamin_D_Insufficiency',\n",
       "       'Risk_Poor_Health_Frailty', 'Risk_Excessive_Thinness',\n",
       "       'Risk_Hysterectomy_Oophorectomy', 'Risk_Estrogen_Deficiency',\n",
       "       'Risk_Immobilization', 'Risk_Recurring_Falls', 'Count_Of_Risks'],\n",
       "      dtype='object')"
      ]
     },
     "execution_count": 6,
     "metadata": {},
     "output_type": "execute_result"
    }
   ],
   "source": [
    "data_H.columns"
   ]
  },
  {
   "cell_type": "markdown",
   "metadata": {},
   "source": [
    "\n",
    "**Data types**"
   ]
  },
  {
   "cell_type": "code",
   "execution_count": 7,
   "metadata": {},
   "outputs": [
    {
     "data": {
      "text/plain": [
       "Ptid                              object\n",
       "Persistency_Flag                  object\n",
       "Gender                            object\n",
       "Race                              object\n",
       "Ethnicity                         object\n",
       "                                   ...  \n",
       "Risk_Hysterectomy_Oophorectomy    object\n",
       "Risk_Estrogen_Deficiency          object\n",
       "Risk_Immobilization               object\n",
       "Risk_Recurring_Falls              object\n",
       "Count_Of_Risks                     int64\n",
       "Length: 69, dtype: object"
      ]
     },
     "execution_count": 7,
     "metadata": {},
     "output_type": "execute_result"
    }
   ],
   "source": [
    "data_H.dtypes"
   ]
  },
  {
   "cell_type": "code",
   "execution_count": 8,
   "metadata": {},
   "outputs": [
    {
     "name": "stdout",
     "output_type": "stream",
     "text": [
      "Object Columns:  Index(['Ptid', 'Persistency_Flag', 'Gender', 'Race', 'Ethnicity', 'Region',\n",
      "       'Age_Bucket', 'Ntm_Speciality', 'Ntm_Specialist_Flag',\n",
      "       'Ntm_Speciality_Bucket', 'Gluco_Record_Prior_Ntm',\n",
      "       'Gluco_Record_During_Rx', 'Dexa_During_Rx', 'Frag_Frac_Prior_Ntm',\n",
      "       'Frag_Frac_During_Rx', 'Risk_Segment_Prior_Ntm',\n",
      "       'Tscore_Bucket_Prior_Ntm', 'Risk_Segment_During_Rx',\n",
      "       'Tscore_Bucket_During_Rx', 'Change_T_Score', 'Change_Risk_Segment',\n",
      "       'Adherent_Flag', 'Idn_Indicator', 'Injectable_Experience_During_Rx',\n",
      "       'Comorb_Encounter_For_Screening_For_Malignant_Neoplasms',\n",
      "       'Comorb_Encounter_For_Immunization',\n",
      "       'Comorb_Encntr_For_General_Exam_W_O_Complaint,_Susp_Or_Reprtd_Dx',\n",
      "       'Comorb_Vitamin_D_Deficiency',\n",
      "       'Comorb_Other_Joint_Disorder_Not_Elsewhere_Classified',\n",
      "       'Comorb_Encntr_For_Oth_Sp_Exam_W_O_Complaint_Suspected_Or_Reprtd_Dx',\n",
      "       'Comorb_Long_Term_Current_Drug_Therapy', 'Comorb_Dorsalgia',\n",
      "       'Comorb_Personal_History_Of_Other_Diseases_And_Conditions',\n",
      "       'Comorb_Other_Disorders_Of_Bone_Density_And_Structure',\n",
      "       'Comorb_Disorders_of_lipoprotein_metabolism_and_other_lipidemias',\n",
      "       'Comorb_Osteoporosis_without_current_pathological_fracture',\n",
      "       'Comorb_Personal_history_of_malignant_neoplasm',\n",
      "       'Comorb_Gastro_esophageal_reflux_disease',\n",
      "       'Concom_Cholesterol_And_Triglyceride_Regulating_Preparations',\n",
      "       'Concom_Narcotics', 'Concom_Systemic_Corticosteroids_Plain',\n",
      "       'Concom_Anti_Depressants_And_Mood_Stabilisers',\n",
      "       'Concom_Fluoroquinolones', 'Concom_Cephalosporins',\n",
      "       'Concom_Macrolides_And_Similar_Types',\n",
      "       'Concom_Broad_Spectrum_Penicillins', 'Concom_Anaesthetics_General',\n",
      "       'Concom_Viral_Vaccines', 'Risk_Type_1_Insulin_Dependent_Diabetes',\n",
      "       'Risk_Osteogenesis_Imperfecta', 'Risk_Rheumatoid_Arthritis',\n",
      "       'Risk_Untreated_Chronic_Hyperthyroidism',\n",
      "       'Risk_Untreated_Chronic_Hypogonadism', 'Risk_Untreated_Early_Menopause',\n",
      "       'Risk_Patient_Parent_Fractured_Their_Hip', 'Risk_Smoking_Tobacco',\n",
      "       'Risk_Chronic_Malnutrition_Or_Malabsorption',\n",
      "       'Risk_Chronic_Liver_Disease', 'Risk_Family_History_Of_Osteoporosis',\n",
      "       'Risk_Low_Calcium_Intake', 'Risk_Vitamin_D_Insufficiency',\n",
      "       'Risk_Poor_Health_Frailty', 'Risk_Excessive_Thinness',\n",
      "       'Risk_Hysterectomy_Oophorectomy', 'Risk_Estrogen_Deficiency',\n",
      "       'Risk_Immobilization', 'Risk_Recurring_Falls'],\n",
      "      dtype='object')\n"
     ]
    }
   ],
   "source": [
    "print(\"Object Columns: \", data_H.select_dtypes(include = [\"object\"]).columns)\n"
   ]
  },
  {
   "cell_type": "code",
   "execution_count": 9,
   "metadata": {},
   "outputs": [
    {
     "name": "stdout",
     "output_type": "stream",
     "text": [
      "Numerical Columns:  Index(['Dexa_Freq_During_Rx', 'Count_Of_Risks'], dtype='object')\n"
     ]
    }
   ],
   "source": [
    "print(\"Numerical Columns: \", data_H.select_dtypes(include = [\"int64\"]).columns)"
   ]
  },
  {
   "cell_type": "code",
   "execution_count": 10,
   "metadata": {},
   "outputs": [
    {
     "name": "stdout",
     "output_type": "stream",
     "text": [
      "67\n"
     ]
    },
    {
     "data": {
      "text/plain": [
       "['Ptid',\n",
       " 'Persistency_Flag',\n",
       " 'Gender',\n",
       " 'Race',\n",
       " 'Ethnicity',\n",
       " 'Region',\n",
       " 'Age_Bucket',\n",
       " 'Ntm_Speciality',\n",
       " 'Ntm_Specialist_Flag',\n",
       " 'Ntm_Speciality_Bucket',\n",
       " 'Gluco_Record_Prior_Ntm',\n",
       " 'Gluco_Record_During_Rx',\n",
       " 'Dexa_During_Rx',\n",
       " 'Frag_Frac_Prior_Ntm',\n",
       " 'Frag_Frac_During_Rx',\n",
       " 'Risk_Segment_Prior_Ntm',\n",
       " 'Tscore_Bucket_Prior_Ntm',\n",
       " 'Risk_Segment_During_Rx',\n",
       " 'Tscore_Bucket_During_Rx',\n",
       " 'Change_T_Score',\n",
       " 'Change_Risk_Segment',\n",
       " 'Adherent_Flag',\n",
       " 'Idn_Indicator',\n",
       " 'Injectable_Experience_During_Rx',\n",
       " 'Comorb_Encounter_For_Screening_For_Malignant_Neoplasms',\n",
       " 'Comorb_Encounter_For_Immunization',\n",
       " 'Comorb_Encntr_For_General_Exam_W_O_Complaint,_Susp_Or_Reprtd_Dx',\n",
       " 'Comorb_Vitamin_D_Deficiency',\n",
       " 'Comorb_Other_Joint_Disorder_Not_Elsewhere_Classified',\n",
       " 'Comorb_Encntr_For_Oth_Sp_Exam_W_O_Complaint_Suspected_Or_Reprtd_Dx',\n",
       " 'Comorb_Long_Term_Current_Drug_Therapy',\n",
       " 'Comorb_Dorsalgia',\n",
       " 'Comorb_Personal_History_Of_Other_Diseases_And_Conditions',\n",
       " 'Comorb_Other_Disorders_Of_Bone_Density_And_Structure',\n",
       " 'Comorb_Disorders_of_lipoprotein_metabolism_and_other_lipidemias',\n",
       " 'Comorb_Osteoporosis_without_current_pathological_fracture',\n",
       " 'Comorb_Personal_history_of_malignant_neoplasm',\n",
       " 'Comorb_Gastro_esophageal_reflux_disease',\n",
       " 'Concom_Cholesterol_And_Triglyceride_Regulating_Preparations',\n",
       " 'Concom_Narcotics',\n",
       " 'Concom_Systemic_Corticosteroids_Plain',\n",
       " 'Concom_Anti_Depressants_And_Mood_Stabilisers',\n",
       " 'Concom_Fluoroquinolones',\n",
       " 'Concom_Cephalosporins',\n",
       " 'Concom_Macrolides_And_Similar_Types',\n",
       " 'Concom_Broad_Spectrum_Penicillins',\n",
       " 'Concom_Anaesthetics_General',\n",
       " 'Concom_Viral_Vaccines',\n",
       " 'Risk_Type_1_Insulin_Dependent_Diabetes',\n",
       " 'Risk_Osteogenesis_Imperfecta',\n",
       " 'Risk_Rheumatoid_Arthritis',\n",
       " 'Risk_Untreated_Chronic_Hyperthyroidism',\n",
       " 'Risk_Untreated_Chronic_Hypogonadism',\n",
       " 'Risk_Untreated_Early_Menopause',\n",
       " 'Risk_Patient_Parent_Fractured_Their_Hip',\n",
       " 'Risk_Smoking_Tobacco',\n",
       " 'Risk_Chronic_Malnutrition_Or_Malabsorption',\n",
       " 'Risk_Chronic_Liver_Disease',\n",
       " 'Risk_Family_History_Of_Osteoporosis',\n",
       " 'Risk_Low_Calcium_Intake',\n",
       " 'Risk_Vitamin_D_Insufficiency',\n",
       " 'Risk_Poor_Health_Frailty',\n",
       " 'Risk_Excessive_Thinness',\n",
       " 'Risk_Hysterectomy_Oophorectomy',\n",
       " 'Risk_Estrogen_Deficiency',\n",
       " 'Risk_Immobilization',\n",
       " 'Risk_Recurring_Falls']"
      ]
     },
     "execution_count": 10,
     "metadata": {},
     "output_type": "execute_result"
    }
   ],
   "source": [
    "obj_col = list(data_H.select_dtypes(['object']).columns)\n",
    "print(len(obj_col))\n",
    "obj_col"
   ]
  },
  {
   "cell_type": "markdown",
   "metadata": {},
   "source": [
    "**Size of the data**"
   ]
  },
  {
   "cell_type": "code",
   "execution_count": 11,
   "metadata": {},
   "outputs": [
    {
     "data": {
      "text/plain": [
       "236256"
      ]
     },
     "execution_count": 11,
     "metadata": {},
     "output_type": "execute_result"
    }
   ],
   "source": [
    "data_H.size"
   ]
  },
  {
   "cell_type": "markdown",
   "metadata": {},
   "source": [
    "**Check Missing values**"
   ]
  },
  {
   "cell_type": "code",
   "execution_count": 12,
   "metadata": {},
   "outputs": [
    {
     "data": {
      "text/plain": [
       "Ptid                              0.0\n",
       "Persistency_Flag                  0.0\n",
       "Gender                            0.0\n",
       "Race                              0.0\n",
       "Ethnicity                         0.0\n",
       "                                 ... \n",
       "Risk_Hysterectomy_Oophorectomy    0.0\n",
       "Risk_Estrogen_Deficiency          0.0\n",
       "Risk_Immobilization               0.0\n",
       "Risk_Recurring_Falls              0.0\n",
       "Count_Of_Risks                    0.0\n",
       "Length: 69, dtype: float64"
      ]
     },
     "execution_count": 12,
     "metadata": {},
     "output_type": "execute_result"
    }
   ],
   "source": [
    "missing_values = data_H.isna().sum()/len(data_H)*1004\n",
    "missing_values"
   ]
  },
  {
   "cell_type": "markdown",
   "metadata": {},
   "source": [
    "**Unique values**"
   ]
  },
  {
   "cell_type": "code",
   "execution_count": 13,
   "metadata": {},
   "outputs": [
    {
     "data": {
      "text/plain": [
       "Ptid                              3424\n",
       "Persistency_Flag                     2\n",
       "Gender                               2\n",
       "Race                                 4\n",
       "Ethnicity                            3\n",
       "                                  ... \n",
       "Risk_Hysterectomy_Oophorectomy       2\n",
       "Risk_Estrogen_Deficiency             2\n",
       "Risk_Immobilization                  2\n",
       "Risk_Recurring_Falls                 2\n",
       "Count_Of_Risks                       8\n",
       "Length: 69, dtype: int64"
      ]
     },
     "execution_count": 13,
     "metadata": {},
     "output_type": "execute_result"
    }
   ],
   "source": [
    "data_H.nunique()"
   ]
  },
  {
   "cell_type": "code",
   "execution_count": 14,
   "metadata": {},
   "outputs": [
    {
     "data": {
      "text/html": [
       "<div>\n",
       "<style scoped>\n",
       "    .dataframe tbody tr th:only-of-type {\n",
       "        vertical-align: middle;\n",
       "    }\n",
       "\n",
       "    .dataframe tbody tr th {\n",
       "        vertical-align: top;\n",
       "    }\n",
       "\n",
       "    .dataframe thead th {\n",
       "        text-align: right;\n",
       "    }\n",
       "</style>\n",
       "<table border=\"1\" class=\"dataframe\">\n",
       "  <thead>\n",
       "    <tr style=\"text-align: right;\">\n",
       "      <th></th>\n",
       "      <th>Dexa_Freq_During_Rx</th>\n",
       "      <th>Count_Of_Risks</th>\n",
       "    </tr>\n",
       "  </thead>\n",
       "  <tbody>\n",
       "    <tr>\n",
       "      <th>count</th>\n",
       "      <td>3424.000000</td>\n",
       "      <td>3424.000000</td>\n",
       "    </tr>\n",
       "    <tr>\n",
       "      <th>mean</th>\n",
       "      <td>3.016063</td>\n",
       "      <td>1.239486</td>\n",
       "    </tr>\n",
       "    <tr>\n",
       "      <th>std</th>\n",
       "      <td>8.136545</td>\n",
       "      <td>1.094914</td>\n",
       "    </tr>\n",
       "    <tr>\n",
       "      <th>min</th>\n",
       "      <td>0.000000</td>\n",
       "      <td>0.000000</td>\n",
       "    </tr>\n",
       "    <tr>\n",
       "      <th>25%</th>\n",
       "      <td>0.000000</td>\n",
       "      <td>0.000000</td>\n",
       "    </tr>\n",
       "    <tr>\n",
       "      <th>50%</th>\n",
       "      <td>0.000000</td>\n",
       "      <td>1.000000</td>\n",
       "    </tr>\n",
       "    <tr>\n",
       "      <th>75%</th>\n",
       "      <td>3.000000</td>\n",
       "      <td>2.000000</td>\n",
       "    </tr>\n",
       "    <tr>\n",
       "      <th>max</th>\n",
       "      <td>146.000000</td>\n",
       "      <td>7.000000</td>\n",
       "    </tr>\n",
       "  </tbody>\n",
       "</table>\n",
       "</div>"
      ],
      "text/plain": [
       "       Dexa_Freq_During_Rx  Count_Of_Risks\n",
       "count          3424.000000     3424.000000\n",
       "mean              3.016063        1.239486\n",
       "std               8.136545        1.094914\n",
       "min               0.000000        0.000000\n",
       "25%               0.000000        0.000000\n",
       "50%               0.000000        1.000000\n",
       "75%               3.000000        2.000000\n",
       "max             146.000000        7.000000"
      ]
     },
     "execution_count": 14,
     "metadata": {},
     "output_type": "execute_result"
    }
   ],
   "source": [
    "data_H.describe()"
   ]
  },
  {
   "cell_type": "code",
   "execution_count": 15,
   "metadata": {},
   "outputs": [
    {
     "data": {
      "text/plain": [
       "Persistency_Flag\n",
       "Non-Persistent    2135\n",
       "Persistent        1289\n",
       "dtype: int64"
      ]
     },
     "execution_count": 15,
     "metadata": {},
     "output_type": "execute_result"
    }
   ],
   "source": [
    "data_H.value_counts('Persistency_Flag')\n"
   ]
  },
  {
   "cell_type": "markdown",
   "metadata": {},
   "source": [
    "**Check duplicates**"
   ]
  },
  {
   "cell_type": "code",
   "execution_count": 16,
   "metadata": {},
   "outputs": [
    {
     "data": {
      "text/html": [
       "<div>\n",
       "<style scoped>\n",
       "    .dataframe tbody tr th:only-of-type {\n",
       "        vertical-align: middle;\n",
       "    }\n",
       "\n",
       "    .dataframe tbody tr th {\n",
       "        vertical-align: top;\n",
       "    }\n",
       "\n",
       "    .dataframe thead th {\n",
       "        text-align: right;\n",
       "    }\n",
       "</style>\n",
       "<table border=\"1\" class=\"dataframe\">\n",
       "  <thead>\n",
       "    <tr style=\"text-align: right;\">\n",
       "      <th></th>\n",
       "      <th>Ptid</th>\n",
       "      <th>Persistency_Flag</th>\n",
       "      <th>Gender</th>\n",
       "      <th>Race</th>\n",
       "      <th>Ethnicity</th>\n",
       "      <th>Region</th>\n",
       "      <th>Age_Bucket</th>\n",
       "      <th>Ntm_Speciality</th>\n",
       "      <th>Ntm_Specialist_Flag</th>\n",
       "      <th>Ntm_Speciality_Bucket</th>\n",
       "      <th>...</th>\n",
       "      <th>Risk_Family_History_Of_Osteoporosis</th>\n",
       "      <th>Risk_Low_Calcium_Intake</th>\n",
       "      <th>Risk_Vitamin_D_Insufficiency</th>\n",
       "      <th>Risk_Poor_Health_Frailty</th>\n",
       "      <th>Risk_Excessive_Thinness</th>\n",
       "      <th>Risk_Hysterectomy_Oophorectomy</th>\n",
       "      <th>Risk_Estrogen_Deficiency</th>\n",
       "      <th>Risk_Immobilization</th>\n",
       "      <th>Risk_Recurring_Falls</th>\n",
       "      <th>Count_Of_Risks</th>\n",
       "    </tr>\n",
       "  </thead>\n",
       "  <tbody>\n",
       "    <tr>\n",
       "      <th>0</th>\n",
       "      <td>P1</td>\n",
       "      <td>Persistent</td>\n",
       "      <td>Male</td>\n",
       "      <td>Caucasian</td>\n",
       "      <td>Not Hispanic</td>\n",
       "      <td>West</td>\n",
       "      <td>&gt;75</td>\n",
       "      <td>GENERAL PRACTITIONER</td>\n",
       "      <td>Others</td>\n",
       "      <td>OB/GYN/Others/PCP/Unknown</td>\n",
       "      <td>...</td>\n",
       "      <td>N</td>\n",
       "      <td>N</td>\n",
       "      <td>N</td>\n",
       "      <td>N</td>\n",
       "      <td>N</td>\n",
       "      <td>N</td>\n",
       "      <td>N</td>\n",
       "      <td>N</td>\n",
       "      <td>N</td>\n",
       "      <td>0</td>\n",
       "    </tr>\n",
       "    <tr>\n",
       "      <th>1</th>\n",
       "      <td>P2</td>\n",
       "      <td>Non-Persistent</td>\n",
       "      <td>Male</td>\n",
       "      <td>Asian</td>\n",
       "      <td>Not Hispanic</td>\n",
       "      <td>West</td>\n",
       "      <td>55-65</td>\n",
       "      <td>GENERAL PRACTITIONER</td>\n",
       "      <td>Others</td>\n",
       "      <td>OB/GYN/Others/PCP/Unknown</td>\n",
       "      <td>...</td>\n",
       "      <td>N</td>\n",
       "      <td>N</td>\n",
       "      <td>N</td>\n",
       "      <td>N</td>\n",
       "      <td>N</td>\n",
       "      <td>N</td>\n",
       "      <td>N</td>\n",
       "      <td>N</td>\n",
       "      <td>N</td>\n",
       "      <td>0</td>\n",
       "    </tr>\n",
       "    <tr>\n",
       "      <th>2</th>\n",
       "      <td>P3</td>\n",
       "      <td>Non-Persistent</td>\n",
       "      <td>Female</td>\n",
       "      <td>Other/Unknown</td>\n",
       "      <td>Hispanic</td>\n",
       "      <td>Midwest</td>\n",
       "      <td>65-75</td>\n",
       "      <td>GENERAL PRACTITIONER</td>\n",
       "      <td>Others</td>\n",
       "      <td>OB/GYN/Others/PCP/Unknown</td>\n",
       "      <td>...</td>\n",
       "      <td>N</td>\n",
       "      <td>Y</td>\n",
       "      <td>N</td>\n",
       "      <td>N</td>\n",
       "      <td>N</td>\n",
       "      <td>N</td>\n",
       "      <td>N</td>\n",
       "      <td>N</td>\n",
       "      <td>N</td>\n",
       "      <td>2</td>\n",
       "    </tr>\n",
       "    <tr>\n",
       "      <th>3</th>\n",
       "      <td>P4</td>\n",
       "      <td>Non-Persistent</td>\n",
       "      <td>Female</td>\n",
       "      <td>Caucasian</td>\n",
       "      <td>Not Hispanic</td>\n",
       "      <td>Midwest</td>\n",
       "      <td>&gt;75</td>\n",
       "      <td>GENERAL PRACTITIONER</td>\n",
       "      <td>Others</td>\n",
       "      <td>OB/GYN/Others/PCP/Unknown</td>\n",
       "      <td>...</td>\n",
       "      <td>N</td>\n",
       "      <td>N</td>\n",
       "      <td>N</td>\n",
       "      <td>N</td>\n",
       "      <td>N</td>\n",
       "      <td>N</td>\n",
       "      <td>N</td>\n",
       "      <td>N</td>\n",
       "      <td>N</td>\n",
       "      <td>1</td>\n",
       "    </tr>\n",
       "    <tr>\n",
       "      <th>4</th>\n",
       "      <td>P5</td>\n",
       "      <td>Non-Persistent</td>\n",
       "      <td>Female</td>\n",
       "      <td>Caucasian</td>\n",
       "      <td>Not Hispanic</td>\n",
       "      <td>Midwest</td>\n",
       "      <td>&gt;75</td>\n",
       "      <td>GENERAL PRACTITIONER</td>\n",
       "      <td>Others</td>\n",
       "      <td>OB/GYN/Others/PCP/Unknown</td>\n",
       "      <td>...</td>\n",
       "      <td>N</td>\n",
       "      <td>N</td>\n",
       "      <td>N</td>\n",
       "      <td>N</td>\n",
       "      <td>N</td>\n",
       "      <td>N</td>\n",
       "      <td>N</td>\n",
       "      <td>N</td>\n",
       "      <td>N</td>\n",
       "      <td>1</td>\n",
       "    </tr>\n",
       "    <tr>\n",
       "      <th>...</th>\n",
       "      <td>...</td>\n",
       "      <td>...</td>\n",
       "      <td>...</td>\n",
       "      <td>...</td>\n",
       "      <td>...</td>\n",
       "      <td>...</td>\n",
       "      <td>...</td>\n",
       "      <td>...</td>\n",
       "      <td>...</td>\n",
       "      <td>...</td>\n",
       "      <td>...</td>\n",
       "      <td>...</td>\n",
       "      <td>...</td>\n",
       "      <td>...</td>\n",
       "      <td>...</td>\n",
       "      <td>...</td>\n",
       "      <td>...</td>\n",
       "      <td>...</td>\n",
       "      <td>...</td>\n",
       "      <td>...</td>\n",
       "      <td>...</td>\n",
       "    </tr>\n",
       "    <tr>\n",
       "      <th>3419</th>\n",
       "      <td>P3420</td>\n",
       "      <td>Persistent</td>\n",
       "      <td>Female</td>\n",
       "      <td>Caucasian</td>\n",
       "      <td>Not Hispanic</td>\n",
       "      <td>South</td>\n",
       "      <td>&gt;75</td>\n",
       "      <td>GENERAL PRACTITIONER</td>\n",
       "      <td>Others</td>\n",
       "      <td>OB/GYN/Others/PCP/Unknown</td>\n",
       "      <td>...</td>\n",
       "      <td>N</td>\n",
       "      <td>N</td>\n",
       "      <td>Y</td>\n",
       "      <td>N</td>\n",
       "      <td>N</td>\n",
       "      <td>N</td>\n",
       "      <td>N</td>\n",
       "      <td>N</td>\n",
       "      <td>N</td>\n",
       "      <td>1</td>\n",
       "    </tr>\n",
       "    <tr>\n",
       "      <th>3420</th>\n",
       "      <td>P3421</td>\n",
       "      <td>Persistent</td>\n",
       "      <td>Female</td>\n",
       "      <td>Caucasian</td>\n",
       "      <td>Not Hispanic</td>\n",
       "      <td>South</td>\n",
       "      <td>&gt;75</td>\n",
       "      <td>Unknown</td>\n",
       "      <td>Others</td>\n",
       "      <td>OB/GYN/Others/PCP/Unknown</td>\n",
       "      <td>...</td>\n",
       "      <td>N</td>\n",
       "      <td>N</td>\n",
       "      <td>N</td>\n",
       "      <td>N</td>\n",
       "      <td>N</td>\n",
       "      <td>N</td>\n",
       "      <td>N</td>\n",
       "      <td>N</td>\n",
       "      <td>N</td>\n",
       "      <td>0</td>\n",
       "    </tr>\n",
       "    <tr>\n",
       "      <th>3421</th>\n",
       "      <td>P3422</td>\n",
       "      <td>Persistent</td>\n",
       "      <td>Female</td>\n",
       "      <td>Caucasian</td>\n",
       "      <td>Not Hispanic</td>\n",
       "      <td>South</td>\n",
       "      <td>&gt;75</td>\n",
       "      <td>ENDOCRINOLOGY</td>\n",
       "      <td>Specialist</td>\n",
       "      <td>Endo/Onc/Uro</td>\n",
       "      <td>...</td>\n",
       "      <td>N</td>\n",
       "      <td>N</td>\n",
       "      <td>Y</td>\n",
       "      <td>N</td>\n",
       "      <td>N</td>\n",
       "      <td>N</td>\n",
       "      <td>N</td>\n",
       "      <td>N</td>\n",
       "      <td>N</td>\n",
       "      <td>1</td>\n",
       "    </tr>\n",
       "    <tr>\n",
       "      <th>3422</th>\n",
       "      <td>P3423</td>\n",
       "      <td>Non-Persistent</td>\n",
       "      <td>Female</td>\n",
       "      <td>Caucasian</td>\n",
       "      <td>Not Hispanic</td>\n",
       "      <td>South</td>\n",
       "      <td>55-65</td>\n",
       "      <td>Unknown</td>\n",
       "      <td>Others</td>\n",
       "      <td>OB/GYN/Others/PCP/Unknown</td>\n",
       "      <td>...</td>\n",
       "      <td>N</td>\n",
       "      <td>N</td>\n",
       "      <td>N</td>\n",
       "      <td>N</td>\n",
       "      <td>N</td>\n",
       "      <td>N</td>\n",
       "      <td>N</td>\n",
       "      <td>N</td>\n",
       "      <td>N</td>\n",
       "      <td>0</td>\n",
       "    </tr>\n",
       "    <tr>\n",
       "      <th>3423</th>\n",
       "      <td>P3424</td>\n",
       "      <td>Non-Persistent</td>\n",
       "      <td>Female</td>\n",
       "      <td>Caucasian</td>\n",
       "      <td>Not Hispanic</td>\n",
       "      <td>South</td>\n",
       "      <td>65-75</td>\n",
       "      <td>Unknown</td>\n",
       "      <td>Others</td>\n",
       "      <td>OB/GYN/Others/PCP/Unknown</td>\n",
       "      <td>...</td>\n",
       "      <td>N</td>\n",
       "      <td>N</td>\n",
       "      <td>Y</td>\n",
       "      <td>N</td>\n",
       "      <td>N</td>\n",
       "      <td>N</td>\n",
       "      <td>N</td>\n",
       "      <td>N</td>\n",
       "      <td>N</td>\n",
       "      <td>1</td>\n",
       "    </tr>\n",
       "  </tbody>\n",
       "</table>\n",
       "<p>3424 rows × 69 columns</p>\n",
       "</div>"
      ],
      "text/plain": [
       "       Ptid Persistency_Flag  Gender           Race     Ethnicity   Region  \\\n",
       "0        P1       Persistent    Male      Caucasian  Not Hispanic     West   \n",
       "1        P2   Non-Persistent    Male          Asian  Not Hispanic     West   \n",
       "2        P3   Non-Persistent  Female  Other/Unknown      Hispanic  Midwest   \n",
       "3        P4   Non-Persistent  Female      Caucasian  Not Hispanic  Midwest   \n",
       "4        P5   Non-Persistent  Female      Caucasian  Not Hispanic  Midwest   \n",
       "...     ...              ...     ...            ...           ...      ...   \n",
       "3419  P3420       Persistent  Female      Caucasian  Not Hispanic    South   \n",
       "3420  P3421       Persistent  Female      Caucasian  Not Hispanic    South   \n",
       "3421  P3422       Persistent  Female      Caucasian  Not Hispanic    South   \n",
       "3422  P3423   Non-Persistent  Female      Caucasian  Not Hispanic    South   \n",
       "3423  P3424   Non-Persistent  Female      Caucasian  Not Hispanic    South   \n",
       "\n",
       "     Age_Bucket        Ntm_Speciality Ntm_Specialist_Flag  \\\n",
       "0           >75  GENERAL PRACTITIONER              Others   \n",
       "1         55-65  GENERAL PRACTITIONER              Others   \n",
       "2         65-75  GENERAL PRACTITIONER              Others   \n",
       "3           >75  GENERAL PRACTITIONER              Others   \n",
       "4           >75  GENERAL PRACTITIONER              Others   \n",
       "...         ...                   ...                 ...   \n",
       "3419        >75  GENERAL PRACTITIONER              Others   \n",
       "3420        >75               Unknown              Others   \n",
       "3421        >75         ENDOCRINOLOGY          Specialist   \n",
       "3422      55-65               Unknown              Others   \n",
       "3423      65-75               Unknown              Others   \n",
       "\n",
       "          Ntm_Speciality_Bucket  ... Risk_Family_History_Of_Osteoporosis  \\\n",
       "0     OB/GYN/Others/PCP/Unknown  ...                                   N   \n",
       "1     OB/GYN/Others/PCP/Unknown  ...                                   N   \n",
       "2     OB/GYN/Others/PCP/Unknown  ...                                   N   \n",
       "3     OB/GYN/Others/PCP/Unknown  ...                                   N   \n",
       "4     OB/GYN/Others/PCP/Unknown  ...                                   N   \n",
       "...                         ...  ...                                 ...   \n",
       "3419  OB/GYN/Others/PCP/Unknown  ...                                   N   \n",
       "3420  OB/GYN/Others/PCP/Unknown  ...                                   N   \n",
       "3421               Endo/Onc/Uro  ...                                   N   \n",
       "3422  OB/GYN/Others/PCP/Unknown  ...                                   N   \n",
       "3423  OB/GYN/Others/PCP/Unknown  ...                                   N   \n",
       "\n",
       "     Risk_Low_Calcium_Intake  Risk_Vitamin_D_Insufficiency  \\\n",
       "0                          N                             N   \n",
       "1                          N                             N   \n",
       "2                          Y                             N   \n",
       "3                          N                             N   \n",
       "4                          N                             N   \n",
       "...                      ...                           ...   \n",
       "3419                       N                             Y   \n",
       "3420                       N                             N   \n",
       "3421                       N                             Y   \n",
       "3422                       N                             N   \n",
       "3423                       N                             Y   \n",
       "\n",
       "     Risk_Poor_Health_Frailty Risk_Excessive_Thinness  \\\n",
       "0                           N                       N   \n",
       "1                           N                       N   \n",
       "2                           N                       N   \n",
       "3                           N                       N   \n",
       "4                           N                       N   \n",
       "...                       ...                     ...   \n",
       "3419                        N                       N   \n",
       "3420                        N                       N   \n",
       "3421                        N                       N   \n",
       "3422                        N                       N   \n",
       "3423                        N                       N   \n",
       "\n",
       "     Risk_Hysterectomy_Oophorectomy Risk_Estrogen_Deficiency  \\\n",
       "0                                 N                        N   \n",
       "1                                 N                        N   \n",
       "2                                 N                        N   \n",
       "3                                 N                        N   \n",
       "4                                 N                        N   \n",
       "...                             ...                      ...   \n",
       "3419                              N                        N   \n",
       "3420                              N                        N   \n",
       "3421                              N                        N   \n",
       "3422                              N                        N   \n",
       "3423                              N                        N   \n",
       "\n",
       "     Risk_Immobilization Risk_Recurring_Falls Count_Of_Risks  \n",
       "0                      N                    N              0  \n",
       "1                      N                    N              0  \n",
       "2                      N                    N              2  \n",
       "3                      N                    N              1  \n",
       "4                      N                    N              1  \n",
       "...                  ...                  ...            ...  \n",
       "3419                   N                    N              1  \n",
       "3420                   N                    N              0  \n",
       "3421                   N                    N              1  \n",
       "3422                   N                    N              0  \n",
       "3423                   N                    N              1  \n",
       "\n",
       "[3424 rows x 69 columns]"
      ]
     },
     "execution_count": 16,
     "metadata": {},
     "output_type": "execute_result"
    }
   ],
   "source": [
    "data_H=data_H.drop_duplicates()\n",
    "data_H\n"
   ]
  },
  {
   "cell_type": "markdown",
   "metadata": {},
   "source": [
    "# No duplicate found"
   ]
  },
  {
   "cell_type": "markdown",
   "metadata": {},
   "source": [
    "**Drop id column**"
   ]
  },
  {
   "cell_type": "code",
   "execution_count": 17,
   "metadata": {},
   "outputs": [
    {
     "data": {
      "text/html": [
       "<div>\n",
       "<style scoped>\n",
       "    .dataframe tbody tr th:only-of-type {\n",
       "        vertical-align: middle;\n",
       "    }\n",
       "\n",
       "    .dataframe tbody tr th {\n",
       "        vertical-align: top;\n",
       "    }\n",
       "\n",
       "    .dataframe thead th {\n",
       "        text-align: right;\n",
       "    }\n",
       "</style>\n",
       "<table border=\"1\" class=\"dataframe\">\n",
       "  <thead>\n",
       "    <tr style=\"text-align: right;\">\n",
       "      <th></th>\n",
       "      <th>Persistency_Flag</th>\n",
       "      <th>Gender</th>\n",
       "      <th>Race</th>\n",
       "      <th>Ethnicity</th>\n",
       "      <th>Region</th>\n",
       "      <th>Age_Bucket</th>\n",
       "      <th>Ntm_Speciality</th>\n",
       "      <th>Ntm_Specialist_Flag</th>\n",
       "      <th>Ntm_Speciality_Bucket</th>\n",
       "      <th>Gluco_Record_Prior_Ntm</th>\n",
       "      <th>...</th>\n",
       "      <th>Risk_Family_History_Of_Osteoporosis</th>\n",
       "      <th>Risk_Low_Calcium_Intake</th>\n",
       "      <th>Risk_Vitamin_D_Insufficiency</th>\n",
       "      <th>Risk_Poor_Health_Frailty</th>\n",
       "      <th>Risk_Excessive_Thinness</th>\n",
       "      <th>Risk_Hysterectomy_Oophorectomy</th>\n",
       "      <th>Risk_Estrogen_Deficiency</th>\n",
       "      <th>Risk_Immobilization</th>\n",
       "      <th>Risk_Recurring_Falls</th>\n",
       "      <th>Count_Of_Risks</th>\n",
       "    </tr>\n",
       "  </thead>\n",
       "  <tbody>\n",
       "    <tr>\n",
       "      <th>0</th>\n",
       "      <td>Persistent</td>\n",
       "      <td>Male</td>\n",
       "      <td>Caucasian</td>\n",
       "      <td>Not Hispanic</td>\n",
       "      <td>West</td>\n",
       "      <td>&gt;75</td>\n",
       "      <td>GENERAL PRACTITIONER</td>\n",
       "      <td>Others</td>\n",
       "      <td>OB/GYN/Others/PCP/Unknown</td>\n",
       "      <td>N</td>\n",
       "      <td>...</td>\n",
       "      <td>N</td>\n",
       "      <td>N</td>\n",
       "      <td>N</td>\n",
       "      <td>N</td>\n",
       "      <td>N</td>\n",
       "      <td>N</td>\n",
       "      <td>N</td>\n",
       "      <td>N</td>\n",
       "      <td>N</td>\n",
       "      <td>0</td>\n",
       "    </tr>\n",
       "    <tr>\n",
       "      <th>1</th>\n",
       "      <td>Non-Persistent</td>\n",
       "      <td>Male</td>\n",
       "      <td>Asian</td>\n",
       "      <td>Not Hispanic</td>\n",
       "      <td>West</td>\n",
       "      <td>55-65</td>\n",
       "      <td>GENERAL PRACTITIONER</td>\n",
       "      <td>Others</td>\n",
       "      <td>OB/GYN/Others/PCP/Unknown</td>\n",
       "      <td>N</td>\n",
       "      <td>...</td>\n",
       "      <td>N</td>\n",
       "      <td>N</td>\n",
       "      <td>N</td>\n",
       "      <td>N</td>\n",
       "      <td>N</td>\n",
       "      <td>N</td>\n",
       "      <td>N</td>\n",
       "      <td>N</td>\n",
       "      <td>N</td>\n",
       "      <td>0</td>\n",
       "    </tr>\n",
       "    <tr>\n",
       "      <th>2</th>\n",
       "      <td>Non-Persistent</td>\n",
       "      <td>Female</td>\n",
       "      <td>Other/Unknown</td>\n",
       "      <td>Hispanic</td>\n",
       "      <td>Midwest</td>\n",
       "      <td>65-75</td>\n",
       "      <td>GENERAL PRACTITIONER</td>\n",
       "      <td>Others</td>\n",
       "      <td>OB/GYN/Others/PCP/Unknown</td>\n",
       "      <td>N</td>\n",
       "      <td>...</td>\n",
       "      <td>N</td>\n",
       "      <td>Y</td>\n",
       "      <td>N</td>\n",
       "      <td>N</td>\n",
       "      <td>N</td>\n",
       "      <td>N</td>\n",
       "      <td>N</td>\n",
       "      <td>N</td>\n",
       "      <td>N</td>\n",
       "      <td>2</td>\n",
       "    </tr>\n",
       "    <tr>\n",
       "      <th>3</th>\n",
       "      <td>Non-Persistent</td>\n",
       "      <td>Female</td>\n",
       "      <td>Caucasian</td>\n",
       "      <td>Not Hispanic</td>\n",
       "      <td>Midwest</td>\n",
       "      <td>&gt;75</td>\n",
       "      <td>GENERAL PRACTITIONER</td>\n",
       "      <td>Others</td>\n",
       "      <td>OB/GYN/Others/PCP/Unknown</td>\n",
       "      <td>N</td>\n",
       "      <td>...</td>\n",
       "      <td>N</td>\n",
       "      <td>N</td>\n",
       "      <td>N</td>\n",
       "      <td>N</td>\n",
       "      <td>N</td>\n",
       "      <td>N</td>\n",
       "      <td>N</td>\n",
       "      <td>N</td>\n",
       "      <td>N</td>\n",
       "      <td>1</td>\n",
       "    </tr>\n",
       "    <tr>\n",
       "      <th>4</th>\n",
       "      <td>Non-Persistent</td>\n",
       "      <td>Female</td>\n",
       "      <td>Caucasian</td>\n",
       "      <td>Not Hispanic</td>\n",
       "      <td>Midwest</td>\n",
       "      <td>&gt;75</td>\n",
       "      <td>GENERAL PRACTITIONER</td>\n",
       "      <td>Others</td>\n",
       "      <td>OB/GYN/Others/PCP/Unknown</td>\n",
       "      <td>Y</td>\n",
       "      <td>...</td>\n",
       "      <td>N</td>\n",
       "      <td>N</td>\n",
       "      <td>N</td>\n",
       "      <td>N</td>\n",
       "      <td>N</td>\n",
       "      <td>N</td>\n",
       "      <td>N</td>\n",
       "      <td>N</td>\n",
       "      <td>N</td>\n",
       "      <td>1</td>\n",
       "    </tr>\n",
       "  </tbody>\n",
       "</table>\n",
       "<p>5 rows × 68 columns</p>\n",
       "</div>"
      ],
      "text/plain": [
       "  Persistency_Flag  Gender           Race     Ethnicity   Region Age_Bucket  \\\n",
       "0       Persistent    Male      Caucasian  Not Hispanic     West        >75   \n",
       "1   Non-Persistent    Male          Asian  Not Hispanic     West      55-65   \n",
       "2   Non-Persistent  Female  Other/Unknown      Hispanic  Midwest      65-75   \n",
       "3   Non-Persistent  Female      Caucasian  Not Hispanic  Midwest        >75   \n",
       "4   Non-Persistent  Female      Caucasian  Not Hispanic  Midwest        >75   \n",
       "\n",
       "         Ntm_Speciality Ntm_Specialist_Flag      Ntm_Speciality_Bucket  \\\n",
       "0  GENERAL PRACTITIONER              Others  OB/GYN/Others/PCP/Unknown   \n",
       "1  GENERAL PRACTITIONER              Others  OB/GYN/Others/PCP/Unknown   \n",
       "2  GENERAL PRACTITIONER              Others  OB/GYN/Others/PCP/Unknown   \n",
       "3  GENERAL PRACTITIONER              Others  OB/GYN/Others/PCP/Unknown   \n",
       "4  GENERAL PRACTITIONER              Others  OB/GYN/Others/PCP/Unknown   \n",
       "\n",
       "  Gluco_Record_Prior_Ntm  ... Risk_Family_History_Of_Osteoporosis  \\\n",
       "0                      N  ...                                   N   \n",
       "1                      N  ...                                   N   \n",
       "2                      N  ...                                   N   \n",
       "3                      N  ...                                   N   \n",
       "4                      Y  ...                                   N   \n",
       "\n",
       "   Risk_Low_Calcium_Intake Risk_Vitamin_D_Insufficiency  \\\n",
       "0                        N                            N   \n",
       "1                        N                            N   \n",
       "2                        Y                            N   \n",
       "3                        N                            N   \n",
       "4                        N                            N   \n",
       "\n",
       "  Risk_Poor_Health_Frailty Risk_Excessive_Thinness  \\\n",
       "0                        N                       N   \n",
       "1                        N                       N   \n",
       "2                        N                       N   \n",
       "3                        N                       N   \n",
       "4                        N                       N   \n",
       "\n",
       "  Risk_Hysterectomy_Oophorectomy Risk_Estrogen_Deficiency Risk_Immobilization  \\\n",
       "0                              N                        N                   N   \n",
       "1                              N                        N                   N   \n",
       "2                              N                        N                   N   \n",
       "3                              N                        N                   N   \n",
       "4                              N                        N                   N   \n",
       "\n",
       "  Risk_Recurring_Falls Count_Of_Risks  \n",
       "0                    N              0  \n",
       "1                    N              0  \n",
       "2                    N              2  \n",
       "3                    N              1  \n",
       "4                    N              1  \n",
       "\n",
       "[5 rows x 68 columns]"
      ]
     },
     "execution_count": 17,
     "metadata": {},
     "output_type": "execute_result"
    }
   ],
   "source": [
    "data_H.drop (['Ptid'], axis=1 , inplace=True)\n",
    "data_H.head()"
   ]
  },
  {
   "cell_type": "markdown",
   "metadata": {},
   "source": [
    "**Outliers for numerical columns**"
   ]
  },
  {
   "cell_type": "code",
   "execution_count": 18,
   "metadata": {},
   "outputs": [
    {
     "data": {
      "image/png": "[encoded data removed]",
      "text/plain": [
       "<Figure size 720x720 with 2 Axes>"
      ]
     },
     "metadata": {
      "needs_background": "light"
     },
     "output_type": "display_data"
    }
   ],
   "source": [
    "df = data_H.select_dtypes([int, float])\n",
    "\n",
    "fig=plt.figure(figsize=(10,10))\n",
    "for i ,columns in enumerate (df,1):\n",
    "    ax= plt.subplot(5,3,i)\n",
    "    sns.boxplot(data= df , x=df[columns])\n",
    "    ax.set_xlabel(None)\n",
    "    ax.set_title(f'Distribution of {columns}')\n",
    "    plt.tight_layout(w_pad=3)\n",
    "plt.show()"
   ]
  },
  {
   "cell_type": "markdown",
   "metadata": {},
   "source": [
    "**Check for Skeweness**"
   ]
  },
  {
   "cell_type": "code",
   "execution_count": 19,
   "metadata": {},
   "outputs": [
    {
     "name": "stderr",
     "output_type": "stream",
     "text": [
      "C:\\Users\\HP\\AppData\\Local\\Temp\\ipykernel_10780\\3687651342.py:1: FutureWarning: Dropping of nuisance columns in DataFrame reductions (with 'numeric_only=None') is deprecated; in a future version this will raise TypeError.  Select only valid columns before calling the reduction.\n",
      "  data_H.skew(axis=0, skipna=True)\n"
     ]
    },
    {
     "data": {
      "text/plain": [
       "Dexa_Freq_During_Rx    6.808730\n",
       "Count_Of_Risks         0.879791\n",
       "dtype: float64"
      ]
     },
     "execution_count": 19,
     "metadata": {},
     "output_type": "execute_result"
    }
   ],
   "source": [
    "data_H.skew(axis=0, skipna=True)"
   ]
  },
  {
   "cell_type": "markdown",
   "metadata": {},
   "source": [
    "skew was greater than zero so the more weight in the left tail of the distribution"
   ]
  },
  {
   "cell_type": "markdown",
   "metadata": {},
   "source": [
    "**Histograms for numeric values**"
   ]
  },
  {
   "cell_type": "code",
   "execution_count": 23,
   "metadata": {},
   "outputs": [
    {
     "data": {
      "text/plain": [
       "array([[<AxesSubplot:title={'center':'Dexa_Freq_During_Rx'}>]],\n",
       "      dtype=object)"
      ]
     },
     "execution_count": 23,
     "metadata": {},
     "output_type": "execute_result"
    },
    {
     "data": {
      "image/png": "[encoded data removed]",
      "text/plain": [
       "<Figure size 432x288 with 1 Axes>"
      ]
     },
     "metadata": {
      "needs_background": "light"
     },
     "output_type": "display_data"
    }
   ],
   "source": [
    "data_H.hist(column='Dexa_Freq_During_Rx')"
   ]
  },
  {
   "cell_type": "code",
   "execution_count": 21,
   "metadata": {},
   "outputs": [
    {
     "data": {
      "text/plain": [
       "array([[<AxesSubplot:title={'center':'Count_Of_Risks'}>]], dtype=object)"
      ]
     },
     "execution_count": 21,
     "metadata": {},
     "output_type": "execute_result"
    },
    {
     "data": {
      "image/png": "[encoded data removed]",
      "text/plain": [
       "<Figure size 432x288 with 1 Axes>"
      ]
     },
     "metadata": {
      "needs_background": "light"
     },
     "output_type": "display_data"
    }
   ],
   "source": [
    "data_H.hist(column='Count_Of_Risks')"
   ]
  },
  {
   "cell_type": "markdown",
   "metadata": {},
   "source": [
    "# Data Cleaning"
   ]
  },
  {
   "cell_type": "markdown",
   "metadata": {},
   "source": [
    "**Remove outliers by IQR**"
   ]
  },
  {
   "cell_type": "code",
   "execution_count": 22,
   "metadata": {},
   "outputs": [
    {
     "name": "stdout",
     "output_type": "stream",
     "text": [
      "7\n",
      "0\n",
      "-3.0 5.0\n"
     ]
    },
    {
     "data": {
      "text/plain": [
       "(3416, 68)"
      ]
     },
     "execution_count": 22,
     "metadata": {},
     "output_type": "execute_result"
    }
   ],
   "source": [
    "maxval = data_H[\"Count_Of_Risks\"].max()\n",
    "print(maxval)\n",
    "\n",
    "minval = data_H[\"Count_Of_Risks\"].min()\n",
    "print(minval)\n",
    "\n",
    "# Removing Outliers from weight using IQR\n",
    "Q1 = data_H[\"Count_Of_Risks\"].quantile(0.25)\n",
    "Q3 = data_H[\"Count_Of_Risks\"].quantile(0.75)\n",
    "IQR = Q3-Q1\n",
    "lowqe_bound = Q1 - 1.5 * IQR\n",
    "upper_bound = Q3 + 1.5 * IQR\n",
    "print(lowqe_bound, upper_bound)\n",
    "\n",
    "\n",
    "data_H = data_H[~(\n",
    "    (data_H[\"Count_Of_Risks\"] < lowqe_bound) | (data_H[\"Count_Of_Risks\"] > upper_bound))]\n",
    "data_H.shape"
   ]
  },
  {
   "cell_type": "code",
   "execution_count": null,
   "metadata": {},
   "outputs": [],
   "source": [
    "maxval = data_H[\"Dexa_Freq_During_Rx\"].max()\n",
    "print(maxval)\n",
    "\n",
    "minval = data_H[\"Dexa_Freq_During_Rx\"].min()\n",
    "print(minval)\n",
    "\n",
    "# Removing Outliers from weight using IQR\n",
    "Q1 = data_H[\"Dexa_Freq_During_Rx\"].quantile(0.25)\n",
    "Q3 = data_H[\"Dexa_Freq_During_Rx\"].quantile(0.75)\n",
    "IQR = Q3-Q1\n",
    "lowqe_bound = Q1 - 1.5 * IQR\n",
    "upper_bound = Q3 + 1.5 * IQR\n",
    "print(lowqe_bound, upper_bound)\n",
    "\n",
    "\n",
    "data_H = data_H[~(\n",
    "    (data_H[\"Dexa_Freq_During_Rx\"] < lowqe_bound) | (data_H[\"Dexa_Freq_During_Rx\"] > upper_bound))]\n",
    "data_H.shape"
   ]
  },
  {
   "cell_type": "code",
   "execution_count": null,
   "metadata": {},
   "outputs": [],
   "source": []
  },
  {
   "cell_type": "code",
   "execution_count": null,
   "metadata": {},
   "outputs": [],
   "source": []
  }
 ],
 "metadata": {
  "kernelspec": {
   "display_name": "Python 3.10.4 64-bit",
   "language": "python",
   "name": "python3"
  },
  "language_info": {
   "codemirror_mode": {
    "name": "ipython",
    "version": 3
   },
   "file_extension": ".py",
   "mimetype": "text/x-python",
   "name": "python",
   "nbconvert_exporter": "python",
   "pygments_lexer": "ipython3",
   "version": "3.10.4"
  },
  "orig_nbformat": 4,
  "vscode": {
   "interpreter": {
    "hash": "a9cff5a362bc38ef45d817ae74b1af54d6a076e3d773891282bce078b815ba34"
   }
  }
 },
 "nbformat": 4,
 "nbformat_minor": 2
}
