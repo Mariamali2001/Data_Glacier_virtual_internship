{
 "cells": [
  {
   "cell_type": "markdown",
   "metadata": {},
   "source": [
    "**Task: File Ingestion and Schema validation**\n",
    "\n",
    "Take any csv/text file of 2+ GB of your choice.\n",
    "\n",
    "Read the file ( Present approach of reading the file )\n",
    "\n",
    "Try different methods of file reading eg: Dask, Modin, Ray, pandas and present your findings in term of computational efficiency\n",
    "\n",
    "Perform basic validation on data columns : eg: remove special character , white spaces from the col name\n",
    "\n",
    "As you already know the schema hence create a YAML file and write the column name in YAML file. --define separator of\n",
    "read and write file, column name in YAML\n",
    "\n",
    "Validate number of columns and column name of ingested file with YAML.\n",
    "\n",
    "Write the file in pipe separated text file (|) in gz format.\n",
    "\n",
    "Create a summary of the file:\n",
    "\n",
    "*  Total number of rows\n",
    "*   total number of columns\n",
    "*   file size\n",
    "\n"
   ]
  },
  {
   "cell_type": "markdown",
   "metadata": {},
   "source": [
    "# Amazon Books Reviews dataset used from kaggle \n",
    "# (10 columns)"
   ]
  },
  {
   "cell_type": "code",
   "execution_count": 1,
   "metadata": {},
   "outputs": [],
   "source": [
    "import os\n",
    "import time"
   ]
  },
  {
   "cell_type": "markdown",
   "metadata": {},
   "source": [
    "# Size of the file"
   ]
  },
  {
   "cell_type": "code",
   "execution_count": 2,
   "metadata": {},
   "outputs": [
    {
     "data": {
      "text/plain": [
       "2859504349"
      ]
     },
     "execution_count": 2,
     "metadata": {},
     "output_type": "execute_result"
    }
   ],
   "source": [
    "os.path.getsize('E:/solo projects/Data_Glacier_virtual_internship/Data_Glacier_virtual_internship/Week 6/Books_rating.csv')"
   ]
  },
  {
   "cell_type": "markdown",
   "metadata": {},
   "source": [
    "**Read the date with Pandas**"
   ]
  },
  {
   "cell_type": "code",
   "execution_count": 3,
   "metadata": {},
   "outputs": [
    {
     "name": "stdout",
     "output_type": "stream",
     "text": [
      "Read data with Pandas:  55.97093319892883 sec\n"
     ]
    }
   ],
   "source": [
    "import pandas as pd\n",
    "\n",
    "start = time.time()\n",
    "pd_data = pd.read_csv('E:/solo projects/Data_Glacier_virtual_internship/Data_Glacier_virtual_internship/Week 6/Books_rating.csv')\n",
    "end = time.time()\n",
    "\n",
    "print(\"Read data with Pandas: \",(end-start),\"sec\")\n"
   ]
  },
  {
   "cell_type": "markdown",
   "metadata": {},
   "source": [
    "**Read the data with Dask** "
   ]
  },
  {
   "cell_type": "code",
   "execution_count": 4,
   "metadata": {},
   "outputs": [
    {
     "name": "stdout",
     "output_type": "stream",
     "text": [
      "Read data with Dask:  0.006974697113037109 sec\n"
     ]
    }
   ],
   "source": [
    "from dask import dataframe as dd\n",
    "\n",
    "start = time.time()\n",
    "dask_data = dd.read_csv('E:/solo projects/Data_Glacier_virtual_internship/Data_Glacier_virtual_internship/Week 6/Books_rating.csv')\n",
    "end = time.time()\n",
    "\n",
    "print(\"Read data with Dask: \",(end-start),\"sec\")\n"
   ]
  },
  {
   "cell_type": "markdown",
   "metadata": {},
   "source": [
    "**Read the data with Modin and Ray**"
   ]
  },
  {
   "cell_type": "code",
   "execution_count": 5,
   "metadata": {},
   "outputs": [
    {
     "name": "stderr",
     "output_type": "stream",
     "text": [
      "UserWarning: Dask execution environment not yet initialized. Initializing...\n",
      "To remove this warning, run the following python code before doing dataframe operations:\n",
      "\n",
      "    from distributed import Client\n",
      "\n",
      "    client = Client()\n",
      "\n"
     ]
    },
    {
     "name": "stdout",
     "output_type": "stream",
     "text": [
      "Read data with Modin:  17.882729053497314 sec\n"
     ]
    }
   ],
   "source": [
    "# os.environ[\"MODIN_ENGINE\"] = \"ray\"  # Modin will use Ray\n",
    "import modin.pandas as pd\n",
    "\n",
    "start = time.time()\n",
    "modin_data = pd.read_csv('E:/solo projects/Data_Glacier_virtual_internship/Data_Glacier_virtual_internship/Week 6/Books_rating.csv')\n",
    "end = time.time()\n",
    "\n",
    "print(\"Read data with Modin: \",(end-start),\"sec\")\n",
    "\n"
   ]
  },
  {
   "cell_type": "markdown",
   "metadata": {},
   "source": [
    "# Dask is better than Pandas, Modin and ray with least reading time of 0.006"
   ]
  },
  {
   "cell_type": "code",
   "execution_count": 6,
   "metadata": {},
   "outputs": [],
   "source": [
    "from dask import dataframe as dd\n",
    "d_data= dd.read_csv('E:/solo projects/Data_Glacier_virtual_internship/Data_Glacier_virtual_internship/Week 6/Books_rating.csv')\n"
   ]
  },
  {
   "cell_type": "code",
   "execution_count": 7,
   "metadata": {},
   "outputs": [
    {
     "name": "stdout",
     "output_type": "stream",
     "text": [
      "<class 'dask.dataframe.core.DataFrame'>\n",
      "Columns: 10 entries, Id to review/text\n",
      "dtypes: object(6), float64(2), int64(2)"
     ]
    }
   ],
   "source": [
    "d_data.info()\n"
   ]
  },
  {
   "cell_type": "markdown",
   "metadata": {},
   "source": [
    "**remove underscores**"
   ]
  },
  {
   "cell_type": "code",
   "execution_count": 8,
   "metadata": {},
   "outputs": [
    {
     "name": "stderr",
     "output_type": "stream",
     "text": [
      "FutureWarning: The default value of regex will change from True to False in a future version.\n"
     ]
    }
   ],
   "source": [
    "\n",
    "d_data.columns=d_data.columns.str.replace('[_,@,&]','')\n",
    "\n"
   ]
  },
  {
   "cell_type": "code",
   "execution_count": 9,
   "metadata": {},
   "outputs": [],
   "source": [
    "#To remove white space from columns\n",
    "d_data.columns = d_data.columns.str.replace(' ', '')"
   ]
  },
  {
   "cell_type": "code",
   "execution_count": 10,
   "metadata": {},
   "outputs": [
    {
     "data": {
      "text/plain": [
       "Index(['Id', 'Title', 'Price', 'Userid', 'profileName', 'review/helpfulness',\n",
       "       'review/score', 'review/time', 'review/summary', 'review/text'],\n",
       "      dtype='object')"
      ]
     },
     "execution_count": 10,
     "metadata": {},
     "output_type": "execute_result"
    }
   ],
   "source": [
    "d_data.columns"
   ]
  },
  {
   "cell_type": "markdown",
   "metadata": {},
   "source": [
    "# Validation"
   ]
  },
  {
   "cell_type": "markdown",
   "metadata": {},
   "source": [
    "**Create YAML file**"
   ]
  },
  {
   "cell_type": "markdown",
   "metadata": {},
   "source": [
    "**File Reading**"
   ]
  },
  {
   "cell_type": "code",
   "execution_count": 11,
   "metadata": {},
   "outputs": [
    {
     "name": "stdout",
     "output_type": "stream",
     "text": [
      "Overwriting Testutility.py\n"
     ]
    }
   ],
   "source": [
    "%%writefile Testutility.py\n",
    "import yaml\n",
    "import logging\n",
    "import subprocess\n",
    "import yaml\n",
    "import datetime\n",
    "import gc\n",
    "import re \n",
    "import pandas as pd\n",
    "def read_config_file(filepath):\n",
    "    with open(filepath, 'r') as stream:\n",
    "        try:\n",
    "            return yaml.safe_load(stream)\n",
    "        except yaml.YAMLError as exc:\n",
    "            logging.error(exc)\n",
    "\n",
    "\n",
    "def replacer(string, char):\n",
    "    pattern = char + '{2,}'\n",
    "    string = re.sub(pattern, char, string)\n",
    "    return string\n",
    "\n",
    "\n",
    "def col_header_val(df, table_config):\n",
    "    df.columns = df.columns.str.lower()\n",
    "    df.columns = df.columns.str.replace('[^\\w]', '_', regex=True)\n",
    "    df.columns = list(map(lambda x: x.strip('_'), list(df.columns)))\n",
    "    df.columns = list(map(lambda x: replacer(x, '_'), list(df.columns)))\n",
    "    expected_col = list(map(lambda x: x.lower(),  table_config['columns']))\n",
    "    expected_col.sort()\n",
    "    df.columns = list(map(lambda x: x.lower(), list(df.columns)))\n",
    "    df = df.reindex(sorted(df.columns), axis=1)\n",
    "    if len(df.columns) == len(expected_col) and list(expected_col)  == list(df.columns):\n",
    "        print(\"column name and column length validation passed\")\n",
    "        return 1\n",
    "    else:\n",
    "        print(\"column name and column length validation failed\")\n",
    "        mismatched_columns_file = list(set(df.columns).difference(expected_col))\n",
    "        print(\"Following File columns are not in the YAML file\", mismatched_columns_file)\n",
    "        missing_YAML_file = list(set(expected_col).difference(df.columns))\n",
    "        print(\"Following YAML columns are not in the file uploaded\", missing_YAML_file)\n",
    "        logging.info(f'df columns: {df.columns}')\n",
    "        logging.info(f'expected columns: {expected_col}')\n",
    "        return 0"
   ]
  },
  {
   "cell_type": "code",
   "execution_count": 12,
   "metadata": {},
   "outputs": [
    {
     "name": "stdout",
     "output_type": "stream",
     "text": [
      "Overwriting books.yaml\n"
     ]
    }
   ],
   "source": [
    "%%writefile books.yaml\n",
    "file_type: csv\n",
    "dataset_name: file\n",
    "file_name: books_rating\n",
    "table_name : edsurv\n",
    "inbound_delimiter : \",\"\n",
    "outbound_delimiter : \"|\"\n",
    "skip_leading_rows: 1\n",
    "columns: \n",
    "    - Id\n",
    "    - Title\n",
    "    - Price\n",
    "    - Userid\n",
    "    - profileName\n",
    "    - review/helpfulness\n",
    "    - review/score\n",
    "    - review/time\n",
    "    - review/summary\n",
    "    - review/text\n"
   ]
  },
  {
   "cell_type": "markdown",
   "metadata": {},
   "source": [
    "**Read config file**"
   ]
  },
  {
   "cell_type": "code",
   "execution_count": 13,
   "metadata": {},
   "outputs": [],
   "source": [
    "import Testutility as util\n",
    "\n",
    "data_config =util.read_config_file(\"books.yaml\")"
   ]
  },
  {
   "cell_type": "markdown",
   "metadata": {},
   "source": [
    "**Data of config file**"
   ]
  },
  {
   "cell_type": "code",
   "execution_count": 14,
   "metadata": {},
   "outputs": [
    {
     "data": {
      "text/plain": [
       "{'file_type': 'csv',\n",
       " 'dataset_name': 'file',\n",
       " 'file_name': 'books_rating',\n",
       " 'table_name': 'edsurv',\n",
       " 'inbound_delimiter': ',',\n",
       " 'outbound_delimiter': '|',\n",
       " 'skip_leading_rows': 1,\n",
       " 'columns': ['Id',\n",
       "  'Title',\n",
       "  'Price',\n",
       "  'Userid',\n",
       "  'profileName',\n",
       "  'review/helpfulness',\n",
       "  'review/score',\n",
       "  'review/time',\n",
       "  'review/summary',\n",
       "  'review/text']}"
      ]
     },
     "execution_count": 14,
     "metadata": {},
     "output_type": "execute_result"
    }
   ],
   "source": [
    "\n",
    "data_config"
   ]
  },
  {
   "cell_type": "markdown",
   "metadata": {},
   "source": [
    "**Normal reading process of the file**"
   ]
  },
  {
   "cell_type": "code",
   "execution_count": 20,
   "metadata": {},
   "outputs": [
    {
     "data": {
      "text/html": [
       "<div>\n",
       "<style scoped>\n",
       "    .dataframe tbody tr th:only-of-type {\n",
       "        vertical-align: middle;\n",
       "    }\n",
       "\n",
       "    .dataframe tbody tr th {\n",
       "        vertical-align: top;\n",
       "    }\n",
       "\n",
       "    .dataframe thead th {\n",
       "        text-align: right;\n",
       "    }\n",
       "</style>\n",
       "<table border=\"1\" class=\"dataframe\">\n",
       "  <thead>\n",
       "    <tr style=\"text-align: right;\">\n",
       "      <th></th>\n",
       "      <th>Id</th>\n",
       "      <th>Title</th>\n",
       "      <th>Price</th>\n",
       "      <th>User_id</th>\n",
       "      <th>profileName</th>\n",
       "      <th>review/helpfulness</th>\n",
       "      <th>review/score</th>\n",
       "      <th>review/time</th>\n",
       "      <th>review/summary</th>\n",
       "      <th>review/text</th>\n",
       "    </tr>\n",
       "  </thead>\n",
       "  <tbody>\n",
       "    <tr>\n",
       "      <th>0</th>\n",
       "      <td>1882931173</td>\n",
       "      <td>Its Only Art If Its Well Hung!</td>\n",
       "      <td>NaN</td>\n",
       "      <td>AVCGYZL8FQQTD</td>\n",
       "      <td>Jim of Oz \"jim-of-oz\"</td>\n",
       "      <td>7/7</td>\n",
       "      <td>4.0</td>\n",
       "      <td>940636800</td>\n",
       "      <td>Nice collection of Julie Strain images</td>\n",
       "      <td>This is only for Julie Strain fans. It's a col...</td>\n",
       "    </tr>\n",
       "    <tr>\n",
       "      <th>1</th>\n",
       "      <td>0826414346</td>\n",
       "      <td>Dr. Seuss: American Icon</td>\n",
       "      <td>NaN</td>\n",
       "      <td>A30TK6U7DNS82R</td>\n",
       "      <td>Kevin Killian</td>\n",
       "      <td>10/10</td>\n",
       "      <td>5.0</td>\n",
       "      <td>1095724800</td>\n",
       "      <td>Really Enjoyed It</td>\n",
       "      <td>I don't care much for Dr. Seuss but after read...</td>\n",
       "    </tr>\n",
       "    <tr>\n",
       "      <th>2</th>\n",
       "      <td>0826414346</td>\n",
       "      <td>Dr. Seuss: American Icon</td>\n",
       "      <td>NaN</td>\n",
       "      <td>A3UH4UZ4RSVO82</td>\n",
       "      <td>John Granger</td>\n",
       "      <td>10/11</td>\n",
       "      <td>5.0</td>\n",
       "      <td>1078790400</td>\n",
       "      <td>Essential for every personal and Public Library</td>\n",
       "      <td>If people become the books they read and if \"t...</td>\n",
       "    </tr>\n",
       "    <tr>\n",
       "      <th>3</th>\n",
       "      <td>0826414346</td>\n",
       "      <td>Dr. Seuss: American Icon</td>\n",
       "      <td>NaN</td>\n",
       "      <td>A2MVUWT453QH61</td>\n",
       "      <td>Roy E. Perry \"amateur philosopher\"</td>\n",
       "      <td>7/7</td>\n",
       "      <td>4.0</td>\n",
       "      <td>1090713600</td>\n",
       "      <td>Phlip Nel gives silly Seuss a serious treatment</td>\n",
       "      <td>Theodore Seuss Geisel (1904-1991), aka &amp;quot;D...</td>\n",
       "    </tr>\n",
       "    <tr>\n",
       "      <th>4</th>\n",
       "      <td>0826414346</td>\n",
       "      <td>Dr. Seuss: American Icon</td>\n",
       "      <td>NaN</td>\n",
       "      <td>A22X4XUPKF66MR</td>\n",
       "      <td>D. H. Richards \"ninthwavestore\"</td>\n",
       "      <td>3/3</td>\n",
       "      <td>4.0</td>\n",
       "      <td>1107993600</td>\n",
       "      <td>Good academic overview</td>\n",
       "      <td>Philip Nel - Dr. Seuss: American IconThis is b...</td>\n",
       "    </tr>\n",
       "  </tbody>\n",
       "</table>\n",
       "</div>"
      ],
      "text/plain": [
       "           Id                           Title  Price         User_id  \\\n",
       "0  1882931173  Its Only Art If Its Well Hung!    NaN   AVCGYZL8FQQTD   \n",
       "1  0826414346        Dr. Seuss: American Icon    NaN  A30TK6U7DNS82R   \n",
       "2  0826414346        Dr. Seuss: American Icon    NaN  A3UH4UZ4RSVO82   \n",
       "3  0826414346        Dr. Seuss: American Icon    NaN  A2MVUWT453QH61   \n",
       "4  0826414346        Dr. Seuss: American Icon    NaN  A22X4XUPKF66MR   \n",
       "\n",
       "                          profileName review/helpfulness  review/score  \\\n",
       "0               Jim of Oz \"jim-of-oz\"                7/7           4.0   \n",
       "1                       Kevin Killian              10/10           5.0   \n",
       "2                        John Granger              10/11           5.0   \n",
       "3  Roy E. Perry \"amateur philosopher\"                7/7           4.0   \n",
       "4     D. H. Richards \"ninthwavestore\"                3/3           4.0   \n",
       "\n",
       "   review/time                                   review/summary  \\\n",
       "0    940636800           Nice collection of Julie Strain images   \n",
       "1   1095724800                                Really Enjoyed It   \n",
       "2   1078790400  Essential for every personal and Public Library   \n",
       "3   1090713600  Phlip Nel gives silly Seuss a serious treatment   \n",
       "4   1107993600                           Good academic overview   \n",
       "\n",
       "                                         review/text  \n",
       "0  This is only for Julie Strain fans. It's a col...  \n",
       "1  I don't care much for Dr. Seuss but after read...  \n",
       "2  If people become the books they read and if \"t...  \n",
       "3  Theodore Seuss Geisel (1904-1991), aka &quot;D...  \n",
       "4  Philip Nel - Dr. Seuss: American IconThis is b...  "
      ]
     },
     "execution_count": 20,
     "metadata": {},
     "output_type": "execute_result"
    }
   ],
   "source": [
    "\n",
    "from dask import dataframe as dd\n",
    "df_data= dd.read_csv('E:/solo projects/Data_Glacier_virtual_internship/Data_Glacier_virtual_internship/Week 6/Books_rating.csv',dtype={'Id': 'object'})\n",
    "df_data.head()"
   ]
  },
  {
   "cell_type": "markdown",
   "metadata": {},
   "source": [
    "**Reading the file using config file**"
   ]
  },
  {
   "cell_type": "code",
   "execution_count": 25,
   "metadata": {},
   "outputs": [
    {
     "name": "stderr",
     "output_type": "stream",
     "text": [
      "FutureWarning: In a future version of pandas all arguments of read_csv except for the argument 'filepath_or_buffer' will be keyword-only.\n"
     ]
    },
    {
     "data": {
      "text/html": [
       "<div>\n",
       "<style scoped>\n",
       "    .dataframe tbody tr th:only-of-type {\n",
       "        vertical-align: middle;\n",
       "    }\n",
       "\n",
       "    .dataframe tbody tr th {\n",
       "        vertical-align: top;\n",
       "    }\n",
       "\n",
       "    .dataframe thead th {\n",
       "        text-align: right;\n",
       "    }\n",
       "</style>\n",
       "<table border=\"1\" class=\"dataframe\">\n",
       "  <thead>\n",
       "    <tr style=\"text-align: right;\">\n",
       "      <th></th>\n",
       "      <th>Id</th>\n",
       "      <th>Title</th>\n",
       "      <th>Price</th>\n",
       "      <th>User_id</th>\n",
       "      <th>profileName</th>\n",
       "      <th>review/helpfulness</th>\n",
       "      <th>review/score</th>\n",
       "      <th>review/time</th>\n",
       "      <th>review/summary</th>\n",
       "      <th>review/text</th>\n",
       "    </tr>\n",
       "  </thead>\n",
       "  <tbody>\n",
       "    <tr>\n",
       "      <th>0</th>\n",
       "      <td>1882931173</td>\n",
       "      <td>Its Only Art If Its Well Hung!</td>\n",
       "      <td>NaN</td>\n",
       "      <td>AVCGYZL8FQQTD</td>\n",
       "      <td>Jim of Oz \"jim-of-oz\"</td>\n",
       "      <td>7/7</td>\n",
       "      <td>4.0</td>\n",
       "      <td>940636800</td>\n",
       "      <td>Nice collection of Julie Strain images</td>\n",
       "      <td>This is only for Julie Strain fans. It's a col...</td>\n",
       "    </tr>\n",
       "    <tr>\n",
       "      <th>1</th>\n",
       "      <td>0826414346</td>\n",
       "      <td>Dr. Seuss: American Icon</td>\n",
       "      <td>NaN</td>\n",
       "      <td>A30TK6U7DNS82R</td>\n",
       "      <td>Kevin Killian</td>\n",
       "      <td>10/10</td>\n",
       "      <td>5.0</td>\n",
       "      <td>1095724800</td>\n",
       "      <td>Really Enjoyed It</td>\n",
       "      <td>I don't care much for Dr. Seuss but after read...</td>\n",
       "    </tr>\n",
       "    <tr>\n",
       "      <th>2</th>\n",
       "      <td>0826414346</td>\n",
       "      <td>Dr. Seuss: American Icon</td>\n",
       "      <td>NaN</td>\n",
       "      <td>A3UH4UZ4RSVO82</td>\n",
       "      <td>John Granger</td>\n",
       "      <td>10/11</td>\n",
       "      <td>5.0</td>\n",
       "      <td>1078790400</td>\n",
       "      <td>Essential for every personal and Public Library</td>\n",
       "      <td>If people become the books they read and if \"t...</td>\n",
       "    </tr>\n",
       "    <tr>\n",
       "      <th>3</th>\n",
       "      <td>0826414346</td>\n",
       "      <td>Dr. Seuss: American Icon</td>\n",
       "      <td>NaN</td>\n",
       "      <td>A2MVUWT453QH61</td>\n",
       "      <td>Roy E. Perry \"amateur philosopher\"</td>\n",
       "      <td>7/7</td>\n",
       "      <td>4.0</td>\n",
       "      <td>1090713600</td>\n",
       "      <td>Phlip Nel gives silly Seuss a serious treatment</td>\n",
       "      <td>Theodore Seuss Geisel (1904-1991), aka &amp;quot;D...</td>\n",
       "    </tr>\n",
       "    <tr>\n",
       "      <th>4</th>\n",
       "      <td>0826414346</td>\n",
       "      <td>Dr. Seuss: American Icon</td>\n",
       "      <td>NaN</td>\n",
       "      <td>A22X4XUPKF66MR</td>\n",
       "      <td>D. H. Richards \"ninthwavestore\"</td>\n",
       "      <td>3/3</td>\n",
       "      <td>4.0</td>\n",
       "      <td>1107993600</td>\n",
       "      <td>Good academic overview</td>\n",
       "      <td>Philip Nel - Dr. Seuss: American IconThis is b...</td>\n",
       "    </tr>\n",
       "  </tbody>\n",
       "</table>\n",
       "</div>"
      ],
      "text/plain": [
       "           Id                           Title  Price         User_id  \\\n",
       "0  1882931173  Its Only Art If Its Well Hung!    NaN   AVCGYZL8FQQTD   \n",
       "1  0826414346        Dr. Seuss: American Icon    NaN  A30TK6U7DNS82R   \n",
       "2  0826414346        Dr. Seuss: American Icon    NaN  A3UH4UZ4RSVO82   \n",
       "3  0826414346        Dr. Seuss: American Icon    NaN  A2MVUWT453QH61   \n",
       "4  0826414346        Dr. Seuss: American Icon    NaN  A22X4XUPKF66MR   \n",
       "\n",
       "                          profileName review/helpfulness  review/score  \\\n",
       "0               Jim of Oz \"jim-of-oz\"                7/7           4.0   \n",
       "1                       Kevin Killian              10/10           5.0   \n",
       "2                        John Granger              10/11           5.0   \n",
       "3  Roy E. Perry \"amateur philosopher\"                7/7           4.0   \n",
       "4     D. H. Richards \"ninthwavestore\"                3/3           4.0   \n",
       "\n",
       "   review/time                                   review/summary  \\\n",
       "0    940636800           Nice collection of Julie Strain images   \n",
       "1   1095724800                                Really Enjoyed It   \n",
       "2   1078790400  Essential for every personal and Public Library   \n",
       "3   1090713600  Phlip Nel gives silly Seuss a serious treatment   \n",
       "4   1107993600                           Good academic overview   \n",
       "\n",
       "                                         review/text  \n",
       "0  This is only for Julie Strain fans. It's a col...  \n",
       "1  I don't care much for Dr. Seuss but after read...  \n",
       "2  If people become the books they read and if \"t...  \n",
       "3  Theodore Seuss Geisel (1904-1991), aka &quot;D...  \n",
       "4  Philip Nel - Dr. Seuss: American IconThis is b...  "
      ]
     },
     "execution_count": 25,
     "metadata": {},
     "output_type": "execute_result"
    }
   ],
   "source": [
    "\n",
    "file_type = data_config['file_type']\n",
    "source_file = \"./\" + data_config['file_name'] + f'.{file_type}'\n",
    "d_data = pd.read_csv(source_file,data_config['inbound_delimiter'])\n",
    "d_data.head()\n",
    "\n"
   ]
  },
  {
   "cell_type": "markdown",
   "metadata": {},
   "source": [
    "**Validate the header of the file**"
   ]
  },
  {
   "cell_type": "code",
   "execution_count": 26,
   "metadata": {},
   "outputs": [
    {
     "name": "stdout",
     "output_type": "stream",
     "text": [
      "column name and column length validation failed\n",
      "Following File columns are not in the YAML file ['user_id', 'review_helpfulness', 'review_score', 'review_text', 'review_summary', 'review_time']\n",
      "Following YAML columns are not in the file uploaded ['review/time', 'review/score', 'review/summary', 'review/text', 'userid', 'review/helpfulness']\n"
     ]
    },
    {
     "data": {
      "text/plain": [
       "0"
      ]
     },
     "execution_count": 26,
     "metadata": {},
     "output_type": "execute_result"
    }
   ],
   "source": [
    "\n",
    "util.col_header_val(d_data,data_config)\n"
   ]
  },
  {
   "cell_type": "code",
   "execution_count": 27,
   "metadata": {},
   "outputs": [
    {
     "name": "stdout",
     "output_type": "stream",
     "text": [
      "columns of files are: Index(['id', 'title', 'price', 'user_id', 'profilename', 'review_helpfulness',\n",
      "       'review_score', 'review_time', 'review_summary', 'review_text'],\n",
      "      dtype='object')\n",
      "columns of YAML are: ['Id', 'Title', 'Price', 'Userid', 'profileName', 'review/helpfulness', 'review/score', 'review/time', 'review/summary', 'review/text']\n"
     ]
    }
   ],
   "source": [
    "print(\"columns of files are:\" ,d_data.columns)\n",
    "print(\"columns of YAML are:\" ,data_config['columns'])"
   ]
  },
  {
   "cell_type": "code",
   "execution_count": 28,
   "metadata": {},
   "outputs": [
    {
     "name": "stdout",
     "output_type": "stream",
     "text": [
      "column name and column length validation failed\n",
      "Following File columns are not in the YAML file ['user_id', 'review_helpfulness', 'review_score', 'review_text', 'review_summary', 'review_time']\n",
      "Following YAML columns are not in the file uploaded ['review/time', 'review/score', 'review/summary', 'review/text', 'userid', 'review/helpfulness']\n",
      "validation failed\n"
     ]
    }
   ],
   "source": [
    "if util.col_header_val(d_data,data_config)==0:\n",
    "    print(\"validation failed\")\n",
    "else:\n",
    "    print(\"col validation passed\")"
   ]
  },
  {
   "cell_type": "code",
   "execution_count": 30,
   "metadata": {},
   "outputs": [
    {
     "data": {
      "text/plain": [
       "['e:\\\\solo projects\\\\Data_Glacier_virtual_internship\\\\Data_Glacier_virtual_internship\\\\Week 6\\\\Books_rating.csv.gz\\\\00.part',\n",
       " 'e:\\\\solo projects\\\\Data_Glacier_virtual_internship\\\\Data_Glacier_virtual_internship\\\\Week 6\\\\Books_rating.csv.gz\\\\01.part',\n",
       " 'e:\\\\solo projects\\\\Data_Glacier_virtual_internship\\\\Data_Glacier_virtual_internship\\\\Week 6\\\\Books_rating.csv.gz\\\\02.part',\n",
       " 'e:\\\\solo projects\\\\Data_Glacier_virtual_internship\\\\Data_Glacier_virtual_internship\\\\Week 6\\\\Books_rating.csv.gz\\\\03.part',\n",
       " 'e:\\\\solo projects\\\\Data_Glacier_virtual_internship\\\\Data_Glacier_virtual_internship\\\\Week 6\\\\Books_rating.csv.gz\\\\04.part',\n",
       " 'e:\\\\solo projects\\\\Data_Glacier_virtual_internship\\\\Data_Glacier_virtual_internship\\\\Week 6\\\\Books_rating.csv.gz\\\\05.part',\n",
       " 'e:\\\\solo projects\\\\Data_Glacier_virtual_internship\\\\Data_Glacier_virtual_internship\\\\Week 6\\\\Books_rating.csv.gz\\\\06.part',\n",
       " 'e:\\\\solo projects\\\\Data_Glacier_virtual_internship\\\\Data_Glacier_virtual_internship\\\\Week 6\\\\Books_rating.csv.gz\\\\07.part',\n",
       " 'e:\\\\solo projects\\\\Data_Glacier_virtual_internship\\\\Data_Glacier_virtual_internship\\\\Week 6\\\\Books_rating.csv.gz\\\\08.part',\n",
       " 'e:\\\\solo projects\\\\Data_Glacier_virtual_internship\\\\Data_Glacier_virtual_internship\\\\Week 6\\\\Books_rating.csv.gz\\\\09.part',\n",
       " 'e:\\\\solo projects\\\\Data_Glacier_virtual_internship\\\\Data_Glacier_virtual_internship\\\\Week 6\\\\Books_rating.csv.gz\\\\10.part',\n",
       " 'e:\\\\solo projects\\\\Data_Glacier_virtual_internship\\\\Data_Glacier_virtual_internship\\\\Week 6\\\\Books_rating.csv.gz\\\\11.part',\n",
       " 'e:\\\\solo projects\\\\Data_Glacier_virtual_internship\\\\Data_Glacier_virtual_internship\\\\Week 6\\\\Books_rating.csv.gz\\\\12.part',\n",
       " 'e:\\\\solo projects\\\\Data_Glacier_virtual_internship\\\\Data_Glacier_virtual_internship\\\\Week 6\\\\Books_rating.csv.gz\\\\13.part',\n",
       " 'e:\\\\solo projects\\\\Data_Glacier_virtual_internship\\\\Data_Glacier_virtual_internship\\\\Week 6\\\\Books_rating.csv.gz\\\\14.part',\n",
       " 'e:\\\\solo projects\\\\Data_Glacier_virtual_internship\\\\Data_Glacier_virtual_internship\\\\Week 6\\\\Books_rating.csv.gz\\\\15.part',\n",
       " 'e:\\\\solo projects\\\\Data_Glacier_virtual_internship\\\\Data_Glacier_virtual_internship\\\\Week 6\\\\Books_rating.csv.gz\\\\16.part',\n",
       " 'e:\\\\solo projects\\\\Data_Glacier_virtual_internship\\\\Data_Glacier_virtual_internship\\\\Week 6\\\\Books_rating.csv.gz\\\\17.part',\n",
       " 'e:\\\\solo projects\\\\Data_Glacier_virtual_internship\\\\Data_Glacier_virtual_internship\\\\Week 6\\\\Books_rating.csv.gz\\\\18.part',\n",
       " 'e:\\\\solo projects\\\\Data_Glacier_virtual_internship\\\\Data_Glacier_virtual_internship\\\\Week 6\\\\Books_rating.csv.gz\\\\19.part',\n",
       " 'e:\\\\solo projects\\\\Data_Glacier_virtual_internship\\\\Data_Glacier_virtual_internship\\\\Week 6\\\\Books_rating.csv.gz\\\\20.part',\n",
       " 'e:\\\\solo projects\\\\Data_Glacier_virtual_internship\\\\Data_Glacier_virtual_internship\\\\Week 6\\\\Books_rating.csv.gz\\\\21.part',\n",
       " 'e:\\\\solo projects\\\\Data_Glacier_virtual_internship\\\\Data_Glacier_virtual_internship\\\\Week 6\\\\Books_rating.csv.gz\\\\22.part',\n",
       " 'e:\\\\solo projects\\\\Data_Glacier_virtual_internship\\\\Data_Glacier_virtual_internship\\\\Week 6\\\\Books_rating.csv.gz\\\\23.part',\n",
       " 'e:\\\\solo projects\\\\Data_Glacier_virtual_internship\\\\Data_Glacier_virtual_internship\\\\Week 6\\\\Books_rating.csv.gz\\\\24.part',\n",
       " 'e:\\\\solo projects\\\\Data_Glacier_virtual_internship\\\\Data_Glacier_virtual_internship\\\\Week 6\\\\Books_rating.csv.gz\\\\25.part',\n",
       " 'e:\\\\solo projects\\\\Data_Glacier_virtual_internship\\\\Data_Glacier_virtual_internship\\\\Week 6\\\\Books_rating.csv.gz\\\\26.part',\n",
       " 'e:\\\\solo projects\\\\Data_Glacier_virtual_internship\\\\Data_Glacier_virtual_internship\\\\Week 6\\\\Books_rating.csv.gz\\\\27.part',\n",
       " 'e:\\\\solo projects\\\\Data_Glacier_virtual_internship\\\\Data_Glacier_virtual_internship\\\\Week 6\\\\Books_rating.csv.gz\\\\28.part',\n",
       " 'e:\\\\solo projects\\\\Data_Glacier_virtual_internship\\\\Data_Glacier_virtual_internship\\\\Week 6\\\\Books_rating.csv.gz\\\\29.part',\n",
       " 'e:\\\\solo projects\\\\Data_Glacier_virtual_internship\\\\Data_Glacier_virtual_internship\\\\Week 6\\\\Books_rating.csv.gz\\\\30.part',\n",
       " 'e:\\\\solo projects\\\\Data_Glacier_virtual_internship\\\\Data_Glacier_virtual_internship\\\\Week 6\\\\Books_rating.csv.gz\\\\31.part',\n",
       " 'e:\\\\solo projects\\\\Data_Glacier_virtual_internship\\\\Data_Glacier_virtual_internship\\\\Week 6\\\\Books_rating.csv.gz\\\\32.part',\n",
       " 'e:\\\\solo projects\\\\Data_Glacier_virtual_internship\\\\Data_Glacier_virtual_internship\\\\Week 6\\\\Books_rating.csv.gz\\\\33.part',\n",
       " 'e:\\\\solo projects\\\\Data_Glacier_virtual_internship\\\\Data_Glacier_virtual_internship\\\\Week 6\\\\Books_rating.csv.gz\\\\34.part',\n",
       " 'e:\\\\solo projects\\\\Data_Glacier_virtual_internship\\\\Data_Glacier_virtual_internship\\\\Week 6\\\\Books_rating.csv.gz\\\\35.part',\n",
       " 'e:\\\\solo projects\\\\Data_Glacier_virtual_internship\\\\Data_Glacier_virtual_internship\\\\Week 6\\\\Books_rating.csv.gz\\\\36.part',\n",
       " 'e:\\\\solo projects\\\\Data_Glacier_virtual_internship\\\\Data_Glacier_virtual_internship\\\\Week 6\\\\Books_rating.csv.gz\\\\37.part',\n",
       " 'e:\\\\solo projects\\\\Data_Glacier_virtual_internship\\\\Data_Glacier_virtual_internship\\\\Week 6\\\\Books_rating.csv.gz\\\\38.part',\n",
       " 'e:\\\\solo projects\\\\Data_Glacier_virtual_internship\\\\Data_Glacier_virtual_internship\\\\Week 6\\\\Books_rating.csv.gz\\\\39.part',\n",
       " 'e:\\\\solo projects\\\\Data_Glacier_virtual_internship\\\\Data_Glacier_virtual_internship\\\\Week 6\\\\Books_rating.csv.gz\\\\40.part',\n",
       " 'e:\\\\solo projects\\\\Data_Glacier_virtual_internship\\\\Data_Glacier_virtual_internship\\\\Week 6\\\\Books_rating.csv.gz\\\\41.part',\n",
       " 'e:\\\\solo projects\\\\Data_Glacier_virtual_internship\\\\Data_Glacier_virtual_internship\\\\Week 6\\\\Books_rating.csv.gz\\\\42.part',\n",
       " 'e:\\\\solo projects\\\\Data_Glacier_virtual_internship\\\\Data_Glacier_virtual_internship\\\\Week 6\\\\Books_rating.csv.gz\\\\43.part']"
      ]
     },
     "execution_count": 30,
     "metadata": {},
     "output_type": "execute_result"
    }
   ],
   "source": [
    "import csv\n",
    "import gzip\n",
    "import datetime\n",
    "\n",
    "from dask import dataframe as dd\n",
    "df = dd.read_csv('E:/solo projects/Data_Glacier_virtual_internship/Data_Glacier_virtual_internship/Week 6/Books_rating.csv',delimiter=',',dtype={'Id': 'object'})\n",
    "\n",
    "\n",
    "# Write csv in gz format in pipe separated text file (|)\n",
    "df.to_csv('Books_rating.csv.gz',\n",
    "          sep='|',\n",
    "          header=True,\n",
    "          index=False,\n",
    "          quoting=csv.QUOTE_ALL,\n",
    "          compression='gzip',\n",
    "          quotechar='\"',\n",
    "          doublequote=True,\n",
    "          line_terminator='\\n')"
   ]
  },
  {
   "cell_type": "markdown",
   "metadata": {},
   "source": [
    "**number of files in gz format folder**"
   ]
  },
  {
   "cell_type": "markdown",
   "metadata": {},
   "source": [
    "**size of the gz format folder**"
   ]
  },
  {
   "cell_type": "code",
   "execution_count": 31,
   "metadata": {},
   "outputs": [
    {
     "name": "stdout",
     "output_type": "stream",
     "text": [
      "00.part\n",
      "01.part\n",
      "02.part\n",
      "03.part\n",
      "04.part\n",
      "05.part\n",
      "06.part\n",
      "07.part\n",
      "08.part\n",
      "09.part\n",
      "10.part\n",
      "11.part\n",
      "12.part\n",
      "13.part\n",
      "14.part\n",
      "15.part\n",
      "16.part\n",
      "17.part\n",
      "18.part\n",
      "19.part\n",
      "20.part\n",
      "21.part\n",
      "22.part\n",
      "23.part\n",
      "24.part\n",
      "25.part\n",
      "26.part\n",
      "27.part\n",
      "28.part\n",
      "29.part\n",
      "30.part\n",
      "31.part\n",
      "32.part\n",
      "33.part\n",
      "34.part\n",
      "35.part\n",
      "36.part\n",
      "37.part\n",
      "38.part\n",
      "39.part\n",
      "40.part\n",
      "41.part\n",
      "42.part\n",
      "43.part\n"
     ]
    }
   ],
   "source": [
    "\n",
    "partitions = os.listdir('E:/solo projects/Data_Glacier_virtual_internship/Data_Glacier_virtual_internship/Week 6/Books_rating.csv.gz')\n",
    "for partition in partitions:\n",
    "    print(partition)\n"
   ]
  },
  {
   "cell_type": "code",
   "execution_count": 32,
   "metadata": {},
   "outputs": [
    {
     "data": {
      "text/plain": [
       "8192"
      ]
     },
     "execution_count": 32,
     "metadata": {},
     "output_type": "execute_result"
    }
   ],
   "source": [
    "os.path.getsize('E:/solo projects/Data_Glacier_virtual_internship/Data_Glacier_virtual_internship/Week 6/Books_rating.csv.gz')    "
   ]
  },
  {
   "cell_type": "code",
   "execution_count": 35,
   "metadata": {},
   "outputs": [
    {
     "name": "stdout",
     "output_type": "stream",
     "text": [
      "Number of Columns:\n",
      "10\n"
     ]
    }
   ],
   "source": [
    "print('Number of Columns:')\n",
    "print(df.shape[1])"
   ]
  },
  {
   "cell_type": "code",
   "execution_count": 37,
   "metadata": {},
   "outputs": [
    {
     "name": "stdout",
     "output_type": "stream",
     "text": [
      "Number of rows:\n",
      "3000000\n"
     ]
    }
   ],
   "source": [
    "print('Number of rows:')\n",
    "print(len(df.index))"
   ]
  }
 ],
 "metadata": {
  "kernelspec": {
   "display_name": "Python 3.10.4 64-bit",
   "language": "python",
   "name": "python3"
  },
  "language_info": {
   "codemirror_mode": {
    "name": "ipython",
    "version": 3
   },
   "file_extension": ".py",
   "mimetype": "text/x-python",
   "name": "python",
   "nbconvert_exporter": "python",
   "pygments_lexer": "ipython3",
   "version": "3.10.4"
  },
  "orig_nbformat": 4,
  "vscode": {
   "interpreter": {
    "hash": "a9cff5a362bc38ef45d817ae74b1af54d6a076e3d773891282bce078b815ba34"
   }
  }
 },
 "nbformat": 4,
 "nbformat_minor": 2
}
