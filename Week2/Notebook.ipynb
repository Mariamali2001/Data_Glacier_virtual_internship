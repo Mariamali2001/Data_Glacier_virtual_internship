{
 "cells": [
  {
   "cell_type": "markdown",
   "metadata": {},
   "source": [
    "# **Table of content**"
   ]
  },
  {
   "cell_type": "markdown",
   "metadata": {},
   "source": [
    "**1-Business Problem**\n",
    "\n",
    "**2-Data understanding** \n",
    "\n",
    "**3-Data Cleaning and Feature Engineering**\n",
    "\n",
    "**4-Data Visualization and hypothesis**\n",
    "\n",
    "**5-Conclusion**"
   ]
  },
  {
   "cell_type": "markdown",
   "metadata": {},
   "source": [
    "#  Business problem\n",
    "\n",
    "The main purpose of this notebook is to understand the market before investing in the Cab industry according to Go-to-Market(G2M)strategy.\n",
    "\n",
    "G2M tends to focus on the short-term,but effective ones will also consider how any immediate success can be sustained over a longer period."
   ]
  },
  {
   "cell_type": "markdown",
   "metadata": {},
   "source": [
    "## Data Understanding and Preparation"
   ]
  },
  {
   "cell_type": "markdown",
   "metadata": {},
   "source": [
    "Import libraries\n"
   ]
  },
  {
   "cell_type": "code",
   "execution_count": 1,
   "metadata": {},
   "outputs": [],
   "source": [
    "import numpy as np\n",
    "import pandas as pd\n",
    "import matplotlib.pyplot as plt\n",
    "import seaborn as sns\n",
    "import plotly.graph_objs as go\n",
    "import plotly\n",
    "import plotly.graph_objects as go\n",
    "from datetime import datetime, timedelta\n"
   ]
  },
  {
   "cell_type": "markdown",
   "metadata": {},
   "source": [
    "Read datasets"
   ]
  },
  {
   "cell_type": "code",
   "execution_count": 2,
   "metadata": {},
   "outputs": [
    {
     "data": {
      "text/html": [
       "<div>\n",
       "<style scoped>\n",
       "    .dataframe tbody tr th:only-of-type {\n",
       "        vertical-align: middle;\n",
       "    }\n",
       "\n",
       "    .dataframe tbody tr th {\n",
       "        vertical-align: top;\n",
       "    }\n",
       "\n",
       "    .dataframe thead th {\n",
       "        text-align: right;\n",
       "    }\n",
       "</style>\n",
       "<table border=\"1\" class=\"dataframe\">\n",
       "  <thead>\n",
       "    <tr style=\"text-align: right;\">\n",
       "      <th></th>\n",
       "      <th>City</th>\n",
       "      <th>Population</th>\n",
       "      <th>Users</th>\n",
       "    </tr>\n",
       "  </thead>\n",
       "  <tbody>\n",
       "    <tr>\n",
       "      <th>0</th>\n",
       "      <td>NEW YORK NY</td>\n",
       "      <td>8,405,837</td>\n",
       "      <td>302,149</td>\n",
       "    </tr>\n",
       "    <tr>\n",
       "      <th>1</th>\n",
       "      <td>CHICAGO IL</td>\n",
       "      <td>1,955,130</td>\n",
       "      <td>164,468</td>\n",
       "    </tr>\n",
       "    <tr>\n",
       "      <th>2</th>\n",
       "      <td>LOS ANGELES CA</td>\n",
       "      <td>1,595,037</td>\n",
       "      <td>144,132</td>\n",
       "    </tr>\n",
       "    <tr>\n",
       "      <th>3</th>\n",
       "      <td>MIAMI FL</td>\n",
       "      <td>1,339,155</td>\n",
       "      <td>17,675</td>\n",
       "    </tr>\n",
       "    <tr>\n",
       "      <th>4</th>\n",
       "      <td>SILICON VALLEY</td>\n",
       "      <td>1,177,609</td>\n",
       "      <td>27,247</td>\n",
       "    </tr>\n",
       "    <tr>\n",
       "      <th>5</th>\n",
       "      <td>ORANGE COUNTY</td>\n",
       "      <td>1,030,185</td>\n",
       "      <td>12,994</td>\n",
       "    </tr>\n",
       "    <tr>\n",
       "      <th>6</th>\n",
       "      <td>SAN DIEGO CA</td>\n",
       "      <td>959,307</td>\n",
       "      <td>69,995</td>\n",
       "    </tr>\n",
       "    <tr>\n",
       "      <th>7</th>\n",
       "      <td>PHOENIX AZ</td>\n",
       "      <td>943,999</td>\n",
       "      <td>6,133</td>\n",
       "    </tr>\n",
       "    <tr>\n",
       "      <th>8</th>\n",
       "      <td>DALLAS TX</td>\n",
       "      <td>942,908</td>\n",
       "      <td>22,157</td>\n",
       "    </tr>\n",
       "    <tr>\n",
       "      <th>9</th>\n",
       "      <td>ATLANTA GA</td>\n",
       "      <td>814,885</td>\n",
       "      <td>24,701</td>\n",
       "    </tr>\n",
       "    <tr>\n",
       "      <th>10</th>\n",
       "      <td>DENVER CO</td>\n",
       "      <td>754,233</td>\n",
       "      <td>12,421</td>\n",
       "    </tr>\n",
       "    <tr>\n",
       "      <th>11</th>\n",
       "      <td>AUSTIN TX</td>\n",
       "      <td>698,371</td>\n",
       "      <td>14,978</td>\n",
       "    </tr>\n",
       "    <tr>\n",
       "      <th>12</th>\n",
       "      <td>SEATTLE WA</td>\n",
       "      <td>671,238</td>\n",
       "      <td>25,063</td>\n",
       "    </tr>\n",
       "    <tr>\n",
       "      <th>13</th>\n",
       "      <td>TUCSON AZ</td>\n",
       "      <td>631,442</td>\n",
       "      <td>5,712</td>\n",
       "    </tr>\n",
       "    <tr>\n",
       "      <th>14</th>\n",
       "      <td>SAN FRANCISCO CA</td>\n",
       "      <td>629,591</td>\n",
       "      <td>213,609</td>\n",
       "    </tr>\n",
       "    <tr>\n",
       "      <th>15</th>\n",
       "      <td>SACRAMENTO CA</td>\n",
       "      <td>545,776</td>\n",
       "      <td>7,044</td>\n",
       "    </tr>\n",
       "    <tr>\n",
       "      <th>16</th>\n",
       "      <td>PITTSBURGH PA</td>\n",
       "      <td>542,085</td>\n",
       "      <td>3,643</td>\n",
       "    </tr>\n",
       "    <tr>\n",
       "      <th>17</th>\n",
       "      <td>WASHINGTON DC</td>\n",
       "      <td>418,859</td>\n",
       "      <td>127,001</td>\n",
       "    </tr>\n",
       "    <tr>\n",
       "      <th>18</th>\n",
       "      <td>NASHVILLE TN</td>\n",
       "      <td>327,225</td>\n",
       "      <td>9,270</td>\n",
       "    </tr>\n",
       "    <tr>\n",
       "      <th>19</th>\n",
       "      <td>BOSTON MA</td>\n",
       "      <td>248,968</td>\n",
       "      <td>80,021</td>\n",
       "    </tr>\n",
       "  </tbody>\n",
       "</table>\n",
       "</div>"
      ],
      "text/plain": [
       "                City   Population      Users\n",
       "0        NEW YORK NY   8,405,837    302,149 \n",
       "1         CHICAGO IL   1,955,130    164,468 \n",
       "2     LOS ANGELES CA   1,595,037    144,132 \n",
       "3           MIAMI FL   1,339,155     17,675 \n",
       "4     SILICON VALLEY   1,177,609     27,247 \n",
       "5      ORANGE COUNTY   1,030,185     12,994 \n",
       "6       SAN DIEGO CA     959,307     69,995 \n",
       "7         PHOENIX AZ     943,999      6,133 \n",
       "8          DALLAS TX     942,908     22,157 \n",
       "9         ATLANTA GA     814,885     24,701 \n",
       "10         DENVER CO     754,233     12,421 \n",
       "11         AUSTIN TX     698,371     14,978 \n",
       "12        SEATTLE WA     671,238     25,063 \n",
       "13         TUCSON AZ     631,442      5,712 \n",
       "14  SAN FRANCISCO CA     629,591    213,609 \n",
       "15     SACRAMENTO CA     545,776      7,044 \n",
       "16     PITTSBURGH PA     542,085      3,643 \n",
       "17     WASHINGTON DC     418,859    127,001 \n",
       "18      NASHVILLE TN     327,225      9,270 \n",
       "19         BOSTON MA     248,968     80,021 "
      ]
     },
     "execution_count": 2,
     "metadata": {},
     "output_type": "execute_result"
    }
   ],
   "source": [
    "City = pd.read_csv('City.csv')\n",
    "City"
   ]
  },
  {
   "cell_type": "code",
   "execution_count": 3,
   "metadata": {},
   "outputs": [
    {
     "data": {
      "text/plain": [
       "City          object\n",
       "Population    object\n",
       "Users         object\n",
       "dtype: object"
      ]
     },
     "execution_count": 3,
     "metadata": {},
     "output_type": "execute_result"
    }
   ],
   "source": [
    "City.dtypes"
   ]
  },
  {
   "cell_type": "code",
   "execution_count": 4,
   "metadata": {},
   "outputs": [
    {
     "data": {
      "text/html": [
       "<div>\n",
       "<style scoped>\n",
       "    .dataframe tbody tr th:only-of-type {\n",
       "        vertical-align: middle;\n",
       "    }\n",
       "\n",
       "    .dataframe tbody tr th {\n",
       "        vertical-align: top;\n",
       "    }\n",
       "\n",
       "    .dataframe thead th {\n",
       "        text-align: right;\n",
       "    }\n",
       "</style>\n",
       "<table border=\"1\" class=\"dataframe\">\n",
       "  <thead>\n",
       "    <tr style=\"text-align: right;\">\n",
       "      <th></th>\n",
       "      <th>Transaction ID</th>\n",
       "      <th>Date of Travel</th>\n",
       "      <th>Company</th>\n",
       "      <th>City</th>\n",
       "      <th>KM Travelled</th>\n",
       "      <th>Price Charged</th>\n",
       "      <th>Cost of Trip</th>\n",
       "    </tr>\n",
       "  </thead>\n",
       "  <tbody>\n",
       "    <tr>\n",
       "      <th>0</th>\n",
       "      <td>10000011</td>\n",
       "      <td>42377</td>\n",
       "      <td>Pink Cab</td>\n",
       "      <td>ATLANTA GA</td>\n",
       "      <td>30.45</td>\n",
       "      <td>370.95</td>\n",
       "      <td>313.6350</td>\n",
       "    </tr>\n",
       "    <tr>\n",
       "      <th>1</th>\n",
       "      <td>10000012</td>\n",
       "      <td>42375</td>\n",
       "      <td>Pink Cab</td>\n",
       "      <td>ATLANTA GA</td>\n",
       "      <td>28.62</td>\n",
       "      <td>358.52</td>\n",
       "      <td>334.8540</td>\n",
       "    </tr>\n",
       "    <tr>\n",
       "      <th>2</th>\n",
       "      <td>10000013</td>\n",
       "      <td>42371</td>\n",
       "      <td>Pink Cab</td>\n",
       "      <td>ATLANTA GA</td>\n",
       "      <td>9.04</td>\n",
       "      <td>125.20</td>\n",
       "      <td>97.6320</td>\n",
       "    </tr>\n",
       "    <tr>\n",
       "      <th>3</th>\n",
       "      <td>10000014</td>\n",
       "      <td>42376</td>\n",
       "      <td>Pink Cab</td>\n",
       "      <td>ATLANTA GA</td>\n",
       "      <td>33.17</td>\n",
       "      <td>377.40</td>\n",
       "      <td>351.6020</td>\n",
       "    </tr>\n",
       "    <tr>\n",
       "      <th>4</th>\n",
       "      <td>10000015</td>\n",
       "      <td>42372</td>\n",
       "      <td>Pink Cab</td>\n",
       "      <td>ATLANTA GA</td>\n",
       "      <td>8.73</td>\n",
       "      <td>114.62</td>\n",
       "      <td>97.7760</td>\n",
       "    </tr>\n",
       "    <tr>\n",
       "      <th>...</th>\n",
       "      <td>...</td>\n",
       "      <td>...</td>\n",
       "      <td>...</td>\n",
       "      <td>...</td>\n",
       "      <td>...</td>\n",
       "      <td>...</td>\n",
       "      <td>...</td>\n",
       "    </tr>\n",
       "    <tr>\n",
       "      <th>359387</th>\n",
       "      <td>10440101</td>\n",
       "      <td>43108</td>\n",
       "      <td>Yellow Cab</td>\n",
       "      <td>WASHINGTON DC</td>\n",
       "      <td>4.80</td>\n",
       "      <td>69.24</td>\n",
       "      <td>63.3600</td>\n",
       "    </tr>\n",
       "    <tr>\n",
       "      <th>359388</th>\n",
       "      <td>10440104</td>\n",
       "      <td>43104</td>\n",
       "      <td>Yellow Cab</td>\n",
       "      <td>WASHINGTON DC</td>\n",
       "      <td>8.40</td>\n",
       "      <td>113.75</td>\n",
       "      <td>106.8480</td>\n",
       "    </tr>\n",
       "    <tr>\n",
       "      <th>359389</th>\n",
       "      <td>10440105</td>\n",
       "      <td>43105</td>\n",
       "      <td>Yellow Cab</td>\n",
       "      <td>WASHINGTON DC</td>\n",
       "      <td>27.75</td>\n",
       "      <td>437.07</td>\n",
       "      <td>349.6500</td>\n",
       "    </tr>\n",
       "    <tr>\n",
       "      <th>359390</th>\n",
       "      <td>10440106</td>\n",
       "      <td>43105</td>\n",
       "      <td>Yellow Cab</td>\n",
       "      <td>WASHINGTON DC</td>\n",
       "      <td>8.80</td>\n",
       "      <td>146.19</td>\n",
       "      <td>114.0480</td>\n",
       "    </tr>\n",
       "    <tr>\n",
       "      <th>359391</th>\n",
       "      <td>10440107</td>\n",
       "      <td>43102</td>\n",
       "      <td>Yellow Cab</td>\n",
       "      <td>WASHINGTON DC</td>\n",
       "      <td>12.76</td>\n",
       "      <td>191.58</td>\n",
       "      <td>177.6192</td>\n",
       "    </tr>\n",
       "  </tbody>\n",
       "</table>\n",
       "<p>359392 rows × 7 columns</p>\n",
       "</div>"
      ],
      "text/plain": [
       "        Transaction ID  Date of Travel     Company           City  \\\n",
       "0             10000011           42377    Pink Cab     ATLANTA GA   \n",
       "1             10000012           42375    Pink Cab     ATLANTA GA   \n",
       "2             10000013           42371    Pink Cab     ATLANTA GA   \n",
       "3             10000014           42376    Pink Cab     ATLANTA GA   \n",
       "4             10000015           42372    Pink Cab     ATLANTA GA   \n",
       "...                ...             ...         ...            ...   \n",
       "359387        10440101           43108  Yellow Cab  WASHINGTON DC   \n",
       "359388        10440104           43104  Yellow Cab  WASHINGTON DC   \n",
       "359389        10440105           43105  Yellow Cab  WASHINGTON DC   \n",
       "359390        10440106           43105  Yellow Cab  WASHINGTON DC   \n",
       "359391        10440107           43102  Yellow Cab  WASHINGTON DC   \n",
       "\n",
       "        KM Travelled  Price Charged  Cost of Trip  \n",
       "0              30.45         370.95      313.6350  \n",
       "1              28.62         358.52      334.8540  \n",
       "2               9.04         125.20       97.6320  \n",
       "3              33.17         377.40      351.6020  \n",
       "4               8.73         114.62       97.7760  \n",
       "...              ...            ...           ...  \n",
       "359387          4.80          69.24       63.3600  \n",
       "359388          8.40         113.75      106.8480  \n",
       "359389         27.75         437.07      349.6500  \n",
       "359390          8.80         146.19      114.0480  \n",
       "359391         12.76         191.58      177.6192  \n",
       "\n",
       "[359392 rows x 7 columns]"
      ]
     },
     "execution_count": 4,
     "metadata": {},
     "output_type": "execute_result"
    }
   ],
   "source": [
    "Cab_Data = pd.read_csv('Cab_Data.csv')\n",
    "Cab_Data"
   ]
  },
  {
   "cell_type": "code",
   "execution_count": 5,
   "metadata": {},
   "outputs": [
    {
     "data": {
      "text/plain": [
       "Transaction ID      int64\n",
       "Date of Travel      int64\n",
       "Company            object\n",
       "City               object\n",
       "KM Travelled      float64\n",
       "Price Charged     float64\n",
       "Cost of Trip      float64\n",
       "dtype: object"
      ]
     },
     "execution_count": 5,
     "metadata": {},
     "output_type": "execute_result"
    }
   ],
   "source": [
    "Cab_Data.dtypes"
   ]
  },
  {
   "cell_type": "code",
   "execution_count": 6,
   "metadata": {},
   "outputs": [
    {
     "data": {
      "text/html": [
       "<div>\n",
       "<style scoped>\n",
       "    .dataframe tbody tr th:only-of-type {\n",
       "        vertical-align: middle;\n",
       "    }\n",
       "\n",
       "    .dataframe tbody tr th {\n",
       "        vertical-align: top;\n",
       "    }\n",
       "\n",
       "    .dataframe thead th {\n",
       "        text-align: right;\n",
       "    }\n",
       "</style>\n",
       "<table border=\"1\" class=\"dataframe\">\n",
       "  <thead>\n",
       "    <tr style=\"text-align: right;\">\n",
       "      <th></th>\n",
       "      <th>Customer ID</th>\n",
       "      <th>Gender</th>\n",
       "      <th>Age</th>\n",
       "      <th>Income (USD/Month)</th>\n",
       "    </tr>\n",
       "  </thead>\n",
       "  <tbody>\n",
       "    <tr>\n",
       "      <th>0</th>\n",
       "      <td>29290</td>\n",
       "      <td>Male</td>\n",
       "      <td>28</td>\n",
       "      <td>10813</td>\n",
       "    </tr>\n",
       "    <tr>\n",
       "      <th>1</th>\n",
       "      <td>27703</td>\n",
       "      <td>Male</td>\n",
       "      <td>27</td>\n",
       "      <td>9237</td>\n",
       "    </tr>\n",
       "    <tr>\n",
       "      <th>2</th>\n",
       "      <td>28712</td>\n",
       "      <td>Male</td>\n",
       "      <td>53</td>\n",
       "      <td>11242</td>\n",
       "    </tr>\n",
       "    <tr>\n",
       "      <th>3</th>\n",
       "      <td>28020</td>\n",
       "      <td>Male</td>\n",
       "      <td>23</td>\n",
       "      <td>23327</td>\n",
       "    </tr>\n",
       "    <tr>\n",
       "      <th>4</th>\n",
       "      <td>27182</td>\n",
       "      <td>Male</td>\n",
       "      <td>33</td>\n",
       "      <td>8536</td>\n",
       "    </tr>\n",
       "  </tbody>\n",
       "</table>\n",
       "</div>"
      ],
      "text/plain": [
       "   Customer ID Gender  Age  Income (USD/Month)\n",
       "0        29290   Male   28               10813\n",
       "1        27703   Male   27                9237\n",
       "2        28712   Male   53               11242\n",
       "3        28020   Male   23               23327\n",
       "4        27182   Male   33                8536"
      ]
     },
     "execution_count": 6,
     "metadata": {},
     "output_type": "execute_result"
    }
   ],
   "source": [
    "Customer_ID = pd.read_csv('Customer_ID.csv')\n",
    "Customer_ID.head()"
   ]
  },
  {
   "cell_type": "code",
   "execution_count": 7,
   "metadata": {},
   "outputs": [
    {
     "data": {
      "text/plain": [
       "Customer ID            int64\n",
       "Gender                object\n",
       "Age                    int64\n",
       "Income (USD/Month)     int64\n",
       "dtype: object"
      ]
     },
     "execution_count": 7,
     "metadata": {},
     "output_type": "execute_result"
    }
   ],
   "source": [
    "Customer_ID.dtypes"
   ]
  },
  {
   "cell_type": "code",
   "execution_count": 8,
   "metadata": {},
   "outputs": [
    {
     "data": {
      "text/html": [
       "<div>\n",
       "<style scoped>\n",
       "    .dataframe tbody tr th:only-of-type {\n",
       "        vertical-align: middle;\n",
       "    }\n",
       "\n",
       "    .dataframe tbody tr th {\n",
       "        vertical-align: top;\n",
       "    }\n",
       "\n",
       "    .dataframe thead th {\n",
       "        text-align: right;\n",
       "    }\n",
       "</style>\n",
       "<table border=\"1\" class=\"dataframe\">\n",
       "  <thead>\n",
       "    <tr style=\"text-align: right;\">\n",
       "      <th></th>\n",
       "      <th>Transaction ID</th>\n",
       "      <th>Customer ID</th>\n",
       "      <th>Payment_Mode</th>\n",
       "    </tr>\n",
       "  </thead>\n",
       "  <tbody>\n",
       "    <tr>\n",
       "      <th>0</th>\n",
       "      <td>10000011</td>\n",
       "      <td>29290</td>\n",
       "      <td>Card</td>\n",
       "    </tr>\n",
       "    <tr>\n",
       "      <th>1</th>\n",
       "      <td>10000012</td>\n",
       "      <td>27703</td>\n",
       "      <td>Card</td>\n",
       "    </tr>\n",
       "    <tr>\n",
       "      <th>2</th>\n",
       "      <td>10000013</td>\n",
       "      <td>28712</td>\n",
       "      <td>Cash</td>\n",
       "    </tr>\n",
       "    <tr>\n",
       "      <th>3</th>\n",
       "      <td>10000014</td>\n",
       "      <td>28020</td>\n",
       "      <td>Cash</td>\n",
       "    </tr>\n",
       "    <tr>\n",
       "      <th>4</th>\n",
       "      <td>10000015</td>\n",
       "      <td>27182</td>\n",
       "      <td>Card</td>\n",
       "    </tr>\n",
       "  </tbody>\n",
       "</table>\n",
       "</div>"
      ],
      "text/plain": [
       "   Transaction ID  Customer ID Payment_Mode\n",
       "0        10000011        29290         Card\n",
       "1        10000012        27703         Card\n",
       "2        10000013        28712         Cash\n",
       "3        10000014        28020         Cash\n",
       "4        10000015        27182         Card"
      ]
     },
     "execution_count": 8,
     "metadata": {},
     "output_type": "execute_result"
    }
   ],
   "source": [
    "Transaction_ID = pd.read_csv('Transaction_ID.csv')\n",
    "Transaction_ID.head()"
   ]
  },
  {
   "cell_type": "code",
   "execution_count": 9,
   "metadata": {},
   "outputs": [
    {
     "data": {
      "text/plain": [
       "Transaction ID     int64\n",
       "Customer ID        int64\n",
       "Payment_Mode      object\n",
       "dtype: object"
      ]
     },
     "execution_count": 9,
     "metadata": {},
     "output_type": "execute_result"
    }
   ],
   "source": [
    "Transaction_ID.dtypes"
   ]
  },
  {
   "cell_type": "markdown",
   "metadata": {},
   "source": [
    "# Merge and explore data"
   ]
  },
  {
   "cell_type": "markdown",
   "metadata": {},
   "source": [
    " Merge Four datasets in one  and become as NewDataset called Final_cab_data\n",
    "\n",
    " Merge Transaction_ID with Customer_ID  since common is Customer ID attribute between Two datasets and \n",
    " \n",
    " \n",
    " common between City and cab_Data is City \n",
    " "
   ]
  },
  {
   "cell_type": "markdown",
   "metadata": {},
   "source": [
    "The final data set that have all data from 4 datasets that were given to us\n"
   ]
  },
  {
   "cell_type": "code",
   "execution_count": 10,
   "metadata": {},
   "outputs": [
    {
     "data": {
      "text/html": [
       "<div>\n",
       "<style scoped>\n",
       "    .dataframe tbody tr th:only-of-type {\n",
       "        vertical-align: middle;\n",
       "    }\n",
       "\n",
       "    .dataframe tbody tr th {\n",
       "        vertical-align: top;\n",
       "    }\n",
       "\n",
       "    .dataframe thead th {\n",
       "        text-align: right;\n",
       "    }\n",
       "</style>\n",
       "<table border=\"1\" class=\"dataframe\">\n",
       "  <thead>\n",
       "    <tr style=\"text-align: right;\">\n",
       "      <th></th>\n",
       "      <th>Transaction ID</th>\n",
       "      <th>Date of Travel</th>\n",
       "      <th>Company</th>\n",
       "      <th>City</th>\n",
       "      <th>KM Travelled</th>\n",
       "      <th>Price Charged</th>\n",
       "      <th>Cost of Trip</th>\n",
       "      <th>Customer ID</th>\n",
       "      <th>Payment_Mode</th>\n",
       "      <th>Gender</th>\n",
       "      <th>Age</th>\n",
       "      <th>Income (USD/Month)</th>\n",
       "      <th>Population</th>\n",
       "      <th>Users</th>\n",
       "    </tr>\n",
       "  </thead>\n",
       "  <tbody>\n",
       "    <tr>\n",
       "      <th>0</th>\n",
       "      <td>10000011</td>\n",
       "      <td>42377</td>\n",
       "      <td>Pink Cab</td>\n",
       "      <td>ATLANTA GA</td>\n",
       "      <td>30.45</td>\n",
       "      <td>370.95</td>\n",
       "      <td>313.6350</td>\n",
       "      <td>29290</td>\n",
       "      <td>Card</td>\n",
       "      <td>Male</td>\n",
       "      <td>28</td>\n",
       "      <td>10813</td>\n",
       "      <td>814,885</td>\n",
       "      <td>24,701</td>\n",
       "    </tr>\n",
       "    <tr>\n",
       "      <th>1</th>\n",
       "      <td>10351127</td>\n",
       "      <td>43302</td>\n",
       "      <td>Yellow Cab</td>\n",
       "      <td>ATLANTA GA</td>\n",
       "      <td>26.19</td>\n",
       "      <td>598.70</td>\n",
       "      <td>317.4228</td>\n",
       "      <td>29290</td>\n",
       "      <td>Cash</td>\n",
       "      <td>Male</td>\n",
       "      <td>28</td>\n",
       "      <td>10813</td>\n",
       "      <td>814,885</td>\n",
       "      <td>24,701</td>\n",
       "    </tr>\n",
       "    <tr>\n",
       "      <th>2</th>\n",
       "      <td>10412921</td>\n",
       "      <td>43427</td>\n",
       "      <td>Yellow Cab</td>\n",
       "      <td>ATLANTA GA</td>\n",
       "      <td>42.55</td>\n",
       "      <td>792.05</td>\n",
       "      <td>597.4020</td>\n",
       "      <td>29290</td>\n",
       "      <td>Card</td>\n",
       "      <td>Male</td>\n",
       "      <td>28</td>\n",
       "      <td>10813</td>\n",
       "      <td>814,885</td>\n",
       "      <td>24,701</td>\n",
       "    </tr>\n",
       "    <tr>\n",
       "      <th>3</th>\n",
       "      <td>10000012</td>\n",
       "      <td>42375</td>\n",
       "      <td>Pink Cab</td>\n",
       "      <td>ATLANTA GA</td>\n",
       "      <td>28.62</td>\n",
       "      <td>358.52</td>\n",
       "      <td>334.8540</td>\n",
       "      <td>27703</td>\n",
       "      <td>Card</td>\n",
       "      <td>Male</td>\n",
       "      <td>27</td>\n",
       "      <td>9237</td>\n",
       "      <td>814,885</td>\n",
       "      <td>24,701</td>\n",
       "    </tr>\n",
       "    <tr>\n",
       "      <th>4</th>\n",
       "      <td>10320494</td>\n",
       "      <td>43211</td>\n",
       "      <td>Yellow Cab</td>\n",
       "      <td>ATLANTA GA</td>\n",
       "      <td>36.38</td>\n",
       "      <td>721.10</td>\n",
       "      <td>467.1192</td>\n",
       "      <td>27703</td>\n",
       "      <td>Card</td>\n",
       "      <td>Male</td>\n",
       "      <td>27</td>\n",
       "      <td>9237</td>\n",
       "      <td>814,885</td>\n",
       "      <td>24,701</td>\n",
       "    </tr>\n",
       "    <tr>\n",
       "      <th>...</th>\n",
       "      <td>...</td>\n",
       "      <td>...</td>\n",
       "      <td>...</td>\n",
       "      <td>...</td>\n",
       "      <td>...</td>\n",
       "      <td>...</td>\n",
       "      <td>...</td>\n",
       "      <td>...</td>\n",
       "      <td>...</td>\n",
       "      <td>...</td>\n",
       "      <td>...</td>\n",
       "      <td>...</td>\n",
       "      <td>...</td>\n",
       "      <td>...</td>\n",
       "    </tr>\n",
       "    <tr>\n",
       "      <th>359387</th>\n",
       "      <td>10307228</td>\n",
       "      <td>43162</td>\n",
       "      <td>Yellow Cab</td>\n",
       "      <td>WASHINGTON DC</td>\n",
       "      <td>38.40</td>\n",
       "      <td>668.93</td>\n",
       "      <td>525.3120</td>\n",
       "      <td>51406</td>\n",
       "      <td>Cash</td>\n",
       "      <td>Female</td>\n",
       "      <td>29</td>\n",
       "      <td>6829</td>\n",
       "      <td>418,859</td>\n",
       "      <td>127,001</td>\n",
       "    </tr>\n",
       "    <tr>\n",
       "      <th>359388</th>\n",
       "      <td>10319775</td>\n",
       "      <td>43203</td>\n",
       "      <td>Yellow Cab</td>\n",
       "      <td>WASHINGTON DC</td>\n",
       "      <td>3.57</td>\n",
       "      <td>67.60</td>\n",
       "      <td>44.5536</td>\n",
       "      <td>51406</td>\n",
       "      <td>Cash</td>\n",
       "      <td>Female</td>\n",
       "      <td>29</td>\n",
       "      <td>6829</td>\n",
       "      <td>418,859</td>\n",
       "      <td>127,001</td>\n",
       "    </tr>\n",
       "    <tr>\n",
       "      <th>359389</th>\n",
       "      <td>10347676</td>\n",
       "      <td>43287</td>\n",
       "      <td>Yellow Cab</td>\n",
       "      <td>WASHINGTON DC</td>\n",
       "      <td>23.46</td>\n",
       "      <td>331.97</td>\n",
       "      <td>337.8240</td>\n",
       "      <td>51406</td>\n",
       "      <td>Card</td>\n",
       "      <td>Female</td>\n",
       "      <td>29</td>\n",
       "      <td>6829</td>\n",
       "      <td>418,859</td>\n",
       "      <td>127,001</td>\n",
       "    </tr>\n",
       "    <tr>\n",
       "      <th>359390</th>\n",
       "      <td>10358624</td>\n",
       "      <td>43314</td>\n",
       "      <td>Yellow Cab</td>\n",
       "      <td>WASHINGTON DC</td>\n",
       "      <td>27.60</td>\n",
       "      <td>358.23</td>\n",
       "      <td>364.3200</td>\n",
       "      <td>51406</td>\n",
       "      <td>Cash</td>\n",
       "      <td>Female</td>\n",
       "      <td>29</td>\n",
       "      <td>6829</td>\n",
       "      <td>418,859</td>\n",
       "      <td>127,001</td>\n",
       "    </tr>\n",
       "    <tr>\n",
       "      <th>359391</th>\n",
       "      <td>10370709</td>\n",
       "      <td>43342</td>\n",
       "      <td>Yellow Cab</td>\n",
       "      <td>WASHINGTON DC</td>\n",
       "      <td>34.24</td>\n",
       "      <td>453.11</td>\n",
       "      <td>427.3152</td>\n",
       "      <td>51406</td>\n",
       "      <td>Card</td>\n",
       "      <td>Female</td>\n",
       "      <td>29</td>\n",
       "      <td>6829</td>\n",
       "      <td>418,859</td>\n",
       "      <td>127,001</td>\n",
       "    </tr>\n",
       "  </tbody>\n",
       "</table>\n",
       "<p>359392 rows × 14 columns</p>\n",
       "</div>"
      ],
      "text/plain": [
       "        Transaction ID  Date of Travel     Company           City  \\\n",
       "0             10000011           42377    Pink Cab     ATLANTA GA   \n",
       "1             10351127           43302  Yellow Cab     ATLANTA GA   \n",
       "2             10412921           43427  Yellow Cab     ATLANTA GA   \n",
       "3             10000012           42375    Pink Cab     ATLANTA GA   \n",
       "4             10320494           43211  Yellow Cab     ATLANTA GA   \n",
       "...                ...             ...         ...            ...   \n",
       "359387        10307228           43162  Yellow Cab  WASHINGTON DC   \n",
       "359388        10319775           43203  Yellow Cab  WASHINGTON DC   \n",
       "359389        10347676           43287  Yellow Cab  WASHINGTON DC   \n",
       "359390        10358624           43314  Yellow Cab  WASHINGTON DC   \n",
       "359391        10370709           43342  Yellow Cab  WASHINGTON DC   \n",
       "\n",
       "        KM Travelled  Price Charged  Cost of Trip  Customer ID Payment_Mode  \\\n",
       "0              30.45         370.95      313.6350        29290         Card   \n",
       "1              26.19         598.70      317.4228        29290         Cash   \n",
       "2              42.55         792.05      597.4020        29290         Card   \n",
       "3              28.62         358.52      334.8540        27703         Card   \n",
       "4              36.38         721.10      467.1192        27703         Card   \n",
       "...              ...            ...           ...          ...          ...   \n",
       "359387         38.40         668.93      525.3120        51406         Cash   \n",
       "359388          3.57          67.60       44.5536        51406         Cash   \n",
       "359389         23.46         331.97      337.8240        51406         Card   \n",
       "359390         27.60         358.23      364.3200        51406         Cash   \n",
       "359391         34.24         453.11      427.3152        51406         Card   \n",
       "\n",
       "        Gender  Age  Income (USD/Month) Population      Users  \n",
       "0         Male   28               10813   814,885     24,701   \n",
       "1         Male   28               10813   814,885     24,701   \n",
       "2         Male   28               10813   814,885     24,701   \n",
       "3         Male   27                9237   814,885     24,701   \n",
       "4         Male   27                9237   814,885     24,701   \n",
       "...        ...  ...                 ...        ...        ...  \n",
       "359387  Female   29                6829   418,859    127,001   \n",
       "359388  Female   29                6829   418,859    127,001   \n",
       "359389  Female   29                6829   418,859    127,001   \n",
       "359390  Female   29                6829   418,859    127,001   \n",
       "359391  Female   29                6829   418,859    127,001   \n",
       "\n",
       "[359392 rows x 14 columns]"
      ]
     },
     "execution_count": 10,
     "metadata": {},
     "output_type": "execute_result"
    }
   ],
   "source": [
    "Final_cab_data = Cab_Data.merge(Transaction_ID, on= 'Transaction ID').merge(Customer_ID, on ='Customer ID').merge(City, on = 'City')\n",
    "Final_cab_data"
   ]
  },
  {
   "cell_type": "code",
   "execution_count": 11,
   "metadata": {},
   "outputs": [
    {
     "data": {
      "text/plain": [
       "Transaction ID          int64\n",
       "Date of Travel          int64\n",
       "Company                object\n",
       "City                   object\n",
       "KM Travelled          float64\n",
       "Price Charged         float64\n",
       "Cost of Trip          float64\n",
       "Customer ID             int64\n",
       "Payment_Mode           object\n",
       "Gender                 object\n",
       "Age                     int64\n",
       "Income (USD/Month)      int64\n",
       "Population             object\n",
       "Users                  object\n",
       "dtype: object"
      ]
     },
     "execution_count": 11,
     "metadata": {},
     "output_type": "execute_result"
    }
   ],
   "source": [
    "Final_cab_data.dtypes"
   ]
  },
  {
   "cell_type": "markdown",
   "metadata": {},
   "source": [
    "Check if there are missing values in attributes and we found that no missing values per attribute in our new dataset"
   ]
  },
  {
   "cell_type": "code",
   "execution_count": 12,
   "metadata": {},
   "outputs": [
    {
     "data": {
      "text/plain": [
       "Transaction ID        0.0\n",
       "Date of Travel        0.0\n",
       "Company               0.0\n",
       "City                  0.0\n",
       "KM Travelled          0.0\n",
       "Price Charged         0.0\n",
       "Cost of Trip          0.0\n",
       "Customer ID           0.0\n",
       "Payment_Mode          0.0\n",
       "Gender                0.0\n",
       "Age                   0.0\n",
       "Income (USD/Month)    0.0\n",
       "Population            0.0\n",
       "Users                 0.0\n",
       "dtype: float64"
      ]
     },
     "execution_count": 12,
     "metadata": {},
     "output_type": "execute_result"
    }
   ],
   "source": [
    "missing_values = Final_cab_data.isna().sum()/len(Final_cab_data)*100\n",
    "missing_values"
   ]
  },
  {
   "cell_type": "code",
   "execution_count": 13,
   "metadata": {},
   "outputs": [
    {
     "data": {
      "text/html": [
       "<div>\n",
       "<style scoped>\n",
       "    .dataframe tbody tr th:only-of-type {\n",
       "        vertical-align: middle;\n",
       "    }\n",
       "\n",
       "    .dataframe tbody tr th {\n",
       "        vertical-align: top;\n",
       "    }\n",
       "\n",
       "    .dataframe thead th {\n",
       "        text-align: right;\n",
       "    }\n",
       "</style>\n",
       "<table border=\"1\" class=\"dataframe\">\n",
       "  <thead>\n",
       "    <tr style=\"text-align: right;\">\n",
       "      <th></th>\n",
       "      <th>Transaction ID</th>\n",
       "      <th>Date of Travel</th>\n",
       "      <th>KM Travelled</th>\n",
       "      <th>Price Charged</th>\n",
       "      <th>Cost of Trip</th>\n",
       "      <th>Customer ID</th>\n",
       "      <th>Age</th>\n",
       "      <th>Income (USD/Month)</th>\n",
       "    </tr>\n",
       "  </thead>\n",
       "  <tbody>\n",
       "    <tr>\n",
       "      <th>count</th>\n",
       "      <td>3.593920e+05</td>\n",
       "      <td>359392.000000</td>\n",
       "      <td>359392.000000</td>\n",
       "      <td>359392.000000</td>\n",
       "      <td>359392.000000</td>\n",
       "      <td>359392.000000</td>\n",
       "      <td>359392.000000</td>\n",
       "      <td>359392.000000</td>\n",
       "    </tr>\n",
       "    <tr>\n",
       "      <th>mean</th>\n",
       "      <td>1.022076e+07</td>\n",
       "      <td>42964.067998</td>\n",
       "      <td>22.567254</td>\n",
       "      <td>423.443311</td>\n",
       "      <td>286.190113</td>\n",
       "      <td>19191.652115</td>\n",
       "      <td>35.336705</td>\n",
       "      <td>15048.822937</td>\n",
       "    </tr>\n",
       "    <tr>\n",
       "      <th>std</th>\n",
       "      <td>1.268058e+05</td>\n",
       "      <td>307.467197</td>\n",
       "      <td>12.233526</td>\n",
       "      <td>274.378911</td>\n",
       "      <td>157.993661</td>\n",
       "      <td>21012.412463</td>\n",
       "      <td>12.594234</td>\n",
       "      <td>7969.409482</td>\n",
       "    </tr>\n",
       "    <tr>\n",
       "      <th>min</th>\n",
       "      <td>1.000001e+07</td>\n",
       "      <td>42371.000000</td>\n",
       "      <td>1.900000</td>\n",
       "      <td>15.600000</td>\n",
       "      <td>19.000000</td>\n",
       "      <td>1.000000</td>\n",
       "      <td>18.000000</td>\n",
       "      <td>2000.000000</td>\n",
       "    </tr>\n",
       "    <tr>\n",
       "      <th>25%</th>\n",
       "      <td>1.011081e+07</td>\n",
       "      <td>42697.000000</td>\n",
       "      <td>12.000000</td>\n",
       "      <td>206.437500</td>\n",
       "      <td>151.200000</td>\n",
       "      <td>2705.000000</td>\n",
       "      <td>25.000000</td>\n",
       "      <td>8424.000000</td>\n",
       "    </tr>\n",
       "    <tr>\n",
       "      <th>50%</th>\n",
       "      <td>1.022104e+07</td>\n",
       "      <td>42988.000000</td>\n",
       "      <td>22.440000</td>\n",
       "      <td>386.360000</td>\n",
       "      <td>282.480000</td>\n",
       "      <td>7459.000000</td>\n",
       "      <td>33.000000</td>\n",
       "      <td>14685.000000</td>\n",
       "    </tr>\n",
       "    <tr>\n",
       "      <th>75%</th>\n",
       "      <td>1.033094e+07</td>\n",
       "      <td>43232.000000</td>\n",
       "      <td>32.960000</td>\n",
       "      <td>583.660000</td>\n",
       "      <td>413.683200</td>\n",
       "      <td>36078.000000</td>\n",
       "      <td>42.000000</td>\n",
       "      <td>21035.000000</td>\n",
       "    </tr>\n",
       "    <tr>\n",
       "      <th>max</th>\n",
       "      <td>1.044011e+07</td>\n",
       "      <td>43465.000000</td>\n",
       "      <td>48.000000</td>\n",
       "      <td>2048.030000</td>\n",
       "      <td>691.200000</td>\n",
       "      <td>60000.000000</td>\n",
       "      <td>65.000000</td>\n",
       "      <td>35000.000000</td>\n",
       "    </tr>\n",
       "  </tbody>\n",
       "</table>\n",
       "</div>"
      ],
      "text/plain": [
       "       Transaction ID  Date of Travel   KM Travelled  Price Charged  \\\n",
       "count    3.593920e+05   359392.000000  359392.000000  359392.000000   \n",
       "mean     1.022076e+07    42964.067998      22.567254     423.443311   \n",
       "std      1.268058e+05      307.467197      12.233526     274.378911   \n",
       "min      1.000001e+07    42371.000000       1.900000      15.600000   \n",
       "25%      1.011081e+07    42697.000000      12.000000     206.437500   \n",
       "50%      1.022104e+07    42988.000000      22.440000     386.360000   \n",
       "75%      1.033094e+07    43232.000000      32.960000     583.660000   \n",
       "max      1.044011e+07    43465.000000      48.000000    2048.030000   \n",
       "\n",
       "        Cost of Trip    Customer ID            Age  Income (USD/Month)  \n",
       "count  359392.000000  359392.000000  359392.000000       359392.000000  \n",
       "mean      286.190113   19191.652115      35.336705        15048.822937  \n",
       "std       157.993661   21012.412463      12.594234         7969.409482  \n",
       "min        19.000000       1.000000      18.000000         2000.000000  \n",
       "25%       151.200000    2705.000000      25.000000         8424.000000  \n",
       "50%       282.480000    7459.000000      33.000000        14685.000000  \n",
       "75%       413.683200   36078.000000      42.000000        21035.000000  \n",
       "max       691.200000   60000.000000      65.000000        35000.000000  "
      ]
     },
     "execution_count": 13,
     "metadata": {},
     "output_type": "execute_result"
    }
   ],
   "source": [
    "Final_cab_data.describe()"
   ]
  },
  {
   "cell_type": "markdown",
   "metadata": {},
   "source": [
    "Outliers are present in Price_Charged feature but due to unavailability of trip duration details ,\n",
    "we are not treating this as outlier and there is no other feature present in it outliers\n"
   ]
  },
  {
   "cell_type": "code",
   "execution_count": 14,
   "metadata": {},
   "outputs": [
    {
     "data": {
      "image/png": "[encoded data removed]",
      "text/plain": [
       "<Figure size 720x720 with 8 Axes>"
      ]
     },
     "metadata": {
      "needs_background": "light"
     },
     "output_type": "display_data"
    }
   ],
   "source": [
    "final_Data = Final_cab_data.select_dtypes([int, float])\n",
    "\n",
    "\n",
    "fig=plt.figure(figsize=(10,10))\n",
    "for i ,columns in enumerate (final_Data,1):\n",
    "    ax= plt.subplot(5,3,i)\n",
    "    sns.boxplot(data= final_Data , x=final_Data[columns])\n",
    "    ax.set_xlabel(None)\n",
    "    ax.set_title(f'Distribution of {columns}')\n",
    "    plt.tight_layout(w_pad=3)\n",
    "plt.show()\n",
    "\n"
   ]
  },
  {
   "cell_type": "markdown",
   "metadata": {},
   "source": [
    "# Data cleaning and Feature Engineering\n"
   ]
  },
  {
   "cell_type": "markdown",
   "metadata": {},
   "source": [
    "Check if there are duplicates by (duplicated) in dataframe and there are no duplicates in our data"
   ]
  },
  {
   "cell_type": "code",
   "execution_count": 15,
   "metadata": {},
   "outputs": [
    {
     "name": "stdout",
     "output_type": "stream",
     "text": [
      "The number of duplicated rows 0\n"
     ]
    }
   ],
   "source": [
    "\n",
    "duplicateRows = Final_cab_data[Final_cab_data.duplicated()]\n",
    "print('The number of duplicated rows', duplicateRows.shape[0])"
   ]
  },
  {
   "cell_type": "markdown",
   "metadata": {},
   "source": [
    "Rename columns "
   ]
  },
  {
   "cell_type": "code",
   "execution_count": 16,
   "metadata": {},
   "outputs": [],
   "source": [
    "for column in Final_cab_data.columns:\n",
    "    if ' ' in column:\n",
    "        Final_cab_data = Final_cab_data.rename(columns={column:column.replace(' ','_')})"
   ]
  },
  {
   "cell_type": "markdown",
   "metadata": {},
   "source": [
    "Change a comma in values of Population and Users to not give an error when we change the datatype to int64"
   ]
  },
  {
   "cell_type": "code",
   "execution_count": 17,
   "metadata": {},
   "outputs": [],
   "source": [
    "for column in [\"Population\",\"Users\"] :\n",
    "    Final_cab_data[column] = Final_cab_data[column].str.replace(',','')"
   ]
  },
  {
   "cell_type": "code",
   "execution_count": 18,
   "metadata": {},
   "outputs": [],
   "source": [
    "for column in [\"Population\", \"Users\"] :\n",
    "    Final_cab_data[column] = Final_cab_data[column].astype('int64')"
   ]
  },
  {
   "cell_type": "markdown",
   "metadata": {},
   "source": [
    "Change type of these attributes to be a category"
   ]
  },
  {
   "cell_type": "code",
   "execution_count": 19,
   "metadata": {},
   "outputs": [],
   "source": [
    "for column in [\"Company\", \"City\" , \"Payment_Mode\" , \"Gender\" ] :\n",
    "    Final_cab_data[column] = Final_cab_data[column].astype('category')"
   ]
  },
  {
   "cell_type": "code",
   "execution_count": 20,
   "metadata": {},
   "outputs": [
    {
     "data": {
      "text/html": [
       "<div>\n",
       "<style scoped>\n",
       "    .dataframe tbody tr th:only-of-type {\n",
       "        vertical-align: middle;\n",
       "    }\n",
       "\n",
       "    .dataframe tbody tr th {\n",
       "        vertical-align: top;\n",
       "    }\n",
       "\n",
       "    .dataframe thead th {\n",
       "        text-align: right;\n",
       "    }\n",
       "</style>\n",
       "<table border=\"1\" class=\"dataframe\">\n",
       "  <thead>\n",
       "    <tr style=\"text-align: right;\">\n",
       "      <th></th>\n",
       "      <th>Transaction_ID</th>\n",
       "      <th>Date_of_Travel</th>\n",
       "      <th>Company</th>\n",
       "      <th>City</th>\n",
       "      <th>KM_Travelled</th>\n",
       "      <th>Price_Charged</th>\n",
       "      <th>Cost_of_Trip</th>\n",
       "      <th>Customer_ID</th>\n",
       "      <th>Payment_Mode</th>\n",
       "      <th>Gender</th>\n",
       "      <th>Age</th>\n",
       "      <th>Income_(USD/Month)</th>\n",
       "      <th>Population</th>\n",
       "      <th>Users</th>\n",
       "    </tr>\n",
       "  </thead>\n",
       "  <tbody>\n",
       "    <tr>\n",
       "      <th>0</th>\n",
       "      <td>10000011</td>\n",
       "      <td>42377</td>\n",
       "      <td>Pink Cab</td>\n",
       "      <td>ATLANTA GA</td>\n",
       "      <td>30.45</td>\n",
       "      <td>370.95</td>\n",
       "      <td>313.6350</td>\n",
       "      <td>29290</td>\n",
       "      <td>Card</td>\n",
       "      <td>Male</td>\n",
       "      <td>28</td>\n",
       "      <td>10813</td>\n",
       "      <td>814885</td>\n",
       "      <td>24701</td>\n",
       "    </tr>\n",
       "    <tr>\n",
       "      <th>1</th>\n",
       "      <td>10351127</td>\n",
       "      <td>43302</td>\n",
       "      <td>Yellow Cab</td>\n",
       "      <td>ATLANTA GA</td>\n",
       "      <td>26.19</td>\n",
       "      <td>598.70</td>\n",
       "      <td>317.4228</td>\n",
       "      <td>29290</td>\n",
       "      <td>Cash</td>\n",
       "      <td>Male</td>\n",
       "      <td>28</td>\n",
       "      <td>10813</td>\n",
       "      <td>814885</td>\n",
       "      <td>24701</td>\n",
       "    </tr>\n",
       "    <tr>\n",
       "      <th>2</th>\n",
       "      <td>10412921</td>\n",
       "      <td>43427</td>\n",
       "      <td>Yellow Cab</td>\n",
       "      <td>ATLANTA GA</td>\n",
       "      <td>42.55</td>\n",
       "      <td>792.05</td>\n",
       "      <td>597.4020</td>\n",
       "      <td>29290</td>\n",
       "      <td>Card</td>\n",
       "      <td>Male</td>\n",
       "      <td>28</td>\n",
       "      <td>10813</td>\n",
       "      <td>814885</td>\n",
       "      <td>24701</td>\n",
       "    </tr>\n",
       "    <tr>\n",
       "      <th>3</th>\n",
       "      <td>10000012</td>\n",
       "      <td>42375</td>\n",
       "      <td>Pink Cab</td>\n",
       "      <td>ATLANTA GA</td>\n",
       "      <td>28.62</td>\n",
       "      <td>358.52</td>\n",
       "      <td>334.8540</td>\n",
       "      <td>27703</td>\n",
       "      <td>Card</td>\n",
       "      <td>Male</td>\n",
       "      <td>27</td>\n",
       "      <td>9237</td>\n",
       "      <td>814885</td>\n",
       "      <td>24701</td>\n",
       "    </tr>\n",
       "    <tr>\n",
       "      <th>4</th>\n",
       "      <td>10320494</td>\n",
       "      <td>43211</td>\n",
       "      <td>Yellow Cab</td>\n",
       "      <td>ATLANTA GA</td>\n",
       "      <td>36.38</td>\n",
       "      <td>721.10</td>\n",
       "      <td>467.1192</td>\n",
       "      <td>27703</td>\n",
       "      <td>Card</td>\n",
       "      <td>Male</td>\n",
       "      <td>27</td>\n",
       "      <td>9237</td>\n",
       "      <td>814885</td>\n",
       "      <td>24701</td>\n",
       "    </tr>\n",
       "    <tr>\n",
       "      <th>...</th>\n",
       "      <td>...</td>\n",
       "      <td>...</td>\n",
       "      <td>...</td>\n",
       "      <td>...</td>\n",
       "      <td>...</td>\n",
       "      <td>...</td>\n",
       "      <td>...</td>\n",
       "      <td>...</td>\n",
       "      <td>...</td>\n",
       "      <td>...</td>\n",
       "      <td>...</td>\n",
       "      <td>...</td>\n",
       "      <td>...</td>\n",
       "      <td>...</td>\n",
       "    </tr>\n",
       "    <tr>\n",
       "      <th>359387</th>\n",
       "      <td>10307228</td>\n",
       "      <td>43162</td>\n",
       "      <td>Yellow Cab</td>\n",
       "      <td>WASHINGTON DC</td>\n",
       "      <td>38.40</td>\n",
       "      <td>668.93</td>\n",
       "      <td>525.3120</td>\n",
       "      <td>51406</td>\n",
       "      <td>Cash</td>\n",
       "      <td>Female</td>\n",
       "      <td>29</td>\n",
       "      <td>6829</td>\n",
       "      <td>418859</td>\n",
       "      <td>127001</td>\n",
       "    </tr>\n",
       "    <tr>\n",
       "      <th>359388</th>\n",
       "      <td>10319775</td>\n",
       "      <td>43203</td>\n",
       "      <td>Yellow Cab</td>\n",
       "      <td>WASHINGTON DC</td>\n",
       "      <td>3.57</td>\n",
       "      <td>67.60</td>\n",
       "      <td>44.5536</td>\n",
       "      <td>51406</td>\n",
       "      <td>Cash</td>\n",
       "      <td>Female</td>\n",
       "      <td>29</td>\n",
       "      <td>6829</td>\n",
       "      <td>418859</td>\n",
       "      <td>127001</td>\n",
       "    </tr>\n",
       "    <tr>\n",
       "      <th>359389</th>\n",
       "      <td>10347676</td>\n",
       "      <td>43287</td>\n",
       "      <td>Yellow Cab</td>\n",
       "      <td>WASHINGTON DC</td>\n",
       "      <td>23.46</td>\n",
       "      <td>331.97</td>\n",
       "      <td>337.8240</td>\n",
       "      <td>51406</td>\n",
       "      <td>Card</td>\n",
       "      <td>Female</td>\n",
       "      <td>29</td>\n",
       "      <td>6829</td>\n",
       "      <td>418859</td>\n",
       "      <td>127001</td>\n",
       "    </tr>\n",
       "    <tr>\n",
       "      <th>359390</th>\n",
       "      <td>10358624</td>\n",
       "      <td>43314</td>\n",
       "      <td>Yellow Cab</td>\n",
       "      <td>WASHINGTON DC</td>\n",
       "      <td>27.60</td>\n",
       "      <td>358.23</td>\n",
       "      <td>364.3200</td>\n",
       "      <td>51406</td>\n",
       "      <td>Cash</td>\n",
       "      <td>Female</td>\n",
       "      <td>29</td>\n",
       "      <td>6829</td>\n",
       "      <td>418859</td>\n",
       "      <td>127001</td>\n",
       "    </tr>\n",
       "    <tr>\n",
       "      <th>359391</th>\n",
       "      <td>10370709</td>\n",
       "      <td>43342</td>\n",
       "      <td>Yellow Cab</td>\n",
       "      <td>WASHINGTON DC</td>\n",
       "      <td>34.24</td>\n",
       "      <td>453.11</td>\n",
       "      <td>427.3152</td>\n",
       "      <td>51406</td>\n",
       "      <td>Card</td>\n",
       "      <td>Female</td>\n",
       "      <td>29</td>\n",
       "      <td>6829</td>\n",
       "      <td>418859</td>\n",
       "      <td>127001</td>\n",
       "    </tr>\n",
       "  </tbody>\n",
       "</table>\n",
       "<p>359392 rows × 14 columns</p>\n",
       "</div>"
      ],
      "text/plain": [
       "        Transaction_ID  Date_of_Travel     Company           City  \\\n",
       "0             10000011           42377    Pink Cab     ATLANTA GA   \n",
       "1             10351127           43302  Yellow Cab     ATLANTA GA   \n",
       "2             10412921           43427  Yellow Cab     ATLANTA GA   \n",
       "3             10000012           42375    Pink Cab     ATLANTA GA   \n",
       "4             10320494           43211  Yellow Cab     ATLANTA GA   \n",
       "...                ...             ...         ...            ...   \n",
       "359387        10307228           43162  Yellow Cab  WASHINGTON DC   \n",
       "359388        10319775           43203  Yellow Cab  WASHINGTON DC   \n",
       "359389        10347676           43287  Yellow Cab  WASHINGTON DC   \n",
       "359390        10358624           43314  Yellow Cab  WASHINGTON DC   \n",
       "359391        10370709           43342  Yellow Cab  WASHINGTON DC   \n",
       "\n",
       "        KM_Travelled  Price_Charged  Cost_of_Trip  Customer_ID Payment_Mode  \\\n",
       "0              30.45         370.95      313.6350        29290         Card   \n",
       "1              26.19         598.70      317.4228        29290         Cash   \n",
       "2              42.55         792.05      597.4020        29290         Card   \n",
       "3              28.62         358.52      334.8540        27703         Card   \n",
       "4              36.38         721.10      467.1192        27703         Card   \n",
       "...              ...            ...           ...          ...          ...   \n",
       "359387         38.40         668.93      525.3120        51406         Cash   \n",
       "359388          3.57          67.60       44.5536        51406         Cash   \n",
       "359389         23.46         331.97      337.8240        51406         Card   \n",
       "359390         27.60         358.23      364.3200        51406         Cash   \n",
       "359391         34.24         453.11      427.3152        51406         Card   \n",
       "\n",
       "        Gender  Age  Income_(USD/Month)  Population   Users  \n",
       "0         Male   28               10813      814885   24701  \n",
       "1         Male   28               10813      814885   24701  \n",
       "2         Male   28               10813      814885   24701  \n",
       "3         Male   27                9237      814885   24701  \n",
       "4         Male   27                9237      814885   24701  \n",
       "...        ...  ...                 ...         ...     ...  \n",
       "359387  Female   29                6829      418859  127001  \n",
       "359388  Female   29                6829      418859  127001  \n",
       "359389  Female   29                6829      418859  127001  \n",
       "359390  Female   29                6829      418859  127001  \n",
       "359391  Female   29                6829      418859  127001  \n",
       "\n",
       "[359392 rows x 14 columns]"
      ]
     },
     "execution_count": 20,
     "metadata": {},
     "output_type": "execute_result"
    }
   ],
   "source": [
    "Final_cab_data"
   ]
  },
  {
   "cell_type": "markdown",
   "metadata": {},
   "source": [
    "Datatypes for our new dataset"
   ]
  },
  {
   "cell_type": "code",
   "execution_count": 21,
   "metadata": {},
   "outputs": [
    {
     "data": {
      "text/plain": [
       "Transaction_ID           int64\n",
       "Date_of_Travel           int64\n",
       "Company               category\n",
       "City                  category\n",
       "KM_Travelled           float64\n",
       "Price_Charged          float64\n",
       "Cost_of_Trip           float64\n",
       "Customer_ID              int64\n",
       "Payment_Mode          category\n",
       "Gender                category\n",
       "Age                      int64\n",
       "Income_(USD/Month)       int64\n",
       "Population               int64\n",
       "Users                    int64\n",
       "dtype: object"
      ]
     },
     "execution_count": 21,
     "metadata": {},
     "output_type": "execute_result"
    }
   ],
   "source": [
    "Final_cab_data.dtypes"
   ]
  },
  {
   "cell_type": "markdown",
   "metadata": {},
   "source": [
    "Calculate Profit from Price Charged and cost of trip"
   ]
  },
  {
   "cell_type": "code",
   "execution_count": 22,
   "metadata": {},
   "outputs": [
    {
     "data": {
      "text/html": [
       "<div>\n",
       "<style scoped>\n",
       "    .dataframe tbody tr th:only-of-type {\n",
       "        vertical-align: middle;\n",
       "    }\n",
       "\n",
       "    .dataframe tbody tr th {\n",
       "        vertical-align: top;\n",
       "    }\n",
       "\n",
       "    .dataframe thead th {\n",
       "        text-align: right;\n",
       "    }\n",
       "</style>\n",
       "<table border=\"1\" class=\"dataframe\">\n",
       "  <thead>\n",
       "    <tr style=\"text-align: right;\">\n",
       "      <th></th>\n",
       "      <th>Transaction_ID</th>\n",
       "      <th>Date_of_Travel</th>\n",
       "      <th>Company</th>\n",
       "      <th>City</th>\n",
       "      <th>KM_Travelled</th>\n",
       "      <th>Price_Charged</th>\n",
       "      <th>Cost_of_Trip</th>\n",
       "      <th>Customer_ID</th>\n",
       "      <th>Payment_Mode</th>\n",
       "      <th>Gender</th>\n",
       "      <th>Age</th>\n",
       "      <th>Income_(USD/Month)</th>\n",
       "      <th>Population</th>\n",
       "      <th>Users</th>\n",
       "      <th>Profit</th>\n",
       "    </tr>\n",
       "  </thead>\n",
       "  <tbody>\n",
       "    <tr>\n",
       "      <th>0</th>\n",
       "      <td>10000011</td>\n",
       "      <td>42377</td>\n",
       "      <td>Pink Cab</td>\n",
       "      <td>ATLANTA GA</td>\n",
       "      <td>30.45</td>\n",
       "      <td>370.95</td>\n",
       "      <td>313.6350</td>\n",
       "      <td>29290</td>\n",
       "      <td>Card</td>\n",
       "      <td>Male</td>\n",
       "      <td>28</td>\n",
       "      <td>10813</td>\n",
       "      <td>814885</td>\n",
       "      <td>24701</td>\n",
       "      <td>57.3150</td>\n",
       "    </tr>\n",
       "    <tr>\n",
       "      <th>1</th>\n",
       "      <td>10351127</td>\n",
       "      <td>43302</td>\n",
       "      <td>Yellow Cab</td>\n",
       "      <td>ATLANTA GA</td>\n",
       "      <td>26.19</td>\n",
       "      <td>598.70</td>\n",
       "      <td>317.4228</td>\n",
       "      <td>29290</td>\n",
       "      <td>Cash</td>\n",
       "      <td>Male</td>\n",
       "      <td>28</td>\n",
       "      <td>10813</td>\n",
       "      <td>814885</td>\n",
       "      <td>24701</td>\n",
       "      <td>281.2772</td>\n",
       "    </tr>\n",
       "    <tr>\n",
       "      <th>2</th>\n",
       "      <td>10412921</td>\n",
       "      <td>43427</td>\n",
       "      <td>Yellow Cab</td>\n",
       "      <td>ATLANTA GA</td>\n",
       "      <td>42.55</td>\n",
       "      <td>792.05</td>\n",
       "      <td>597.4020</td>\n",
       "      <td>29290</td>\n",
       "      <td>Card</td>\n",
       "      <td>Male</td>\n",
       "      <td>28</td>\n",
       "      <td>10813</td>\n",
       "      <td>814885</td>\n",
       "      <td>24701</td>\n",
       "      <td>194.6480</td>\n",
       "    </tr>\n",
       "    <tr>\n",
       "      <th>3</th>\n",
       "      <td>10000012</td>\n",
       "      <td>42375</td>\n",
       "      <td>Pink Cab</td>\n",
       "      <td>ATLANTA GA</td>\n",
       "      <td>28.62</td>\n",
       "      <td>358.52</td>\n",
       "      <td>334.8540</td>\n",
       "      <td>27703</td>\n",
       "      <td>Card</td>\n",
       "      <td>Male</td>\n",
       "      <td>27</td>\n",
       "      <td>9237</td>\n",
       "      <td>814885</td>\n",
       "      <td>24701</td>\n",
       "      <td>23.6660</td>\n",
       "    </tr>\n",
       "    <tr>\n",
       "      <th>4</th>\n",
       "      <td>10320494</td>\n",
       "      <td>43211</td>\n",
       "      <td>Yellow Cab</td>\n",
       "      <td>ATLANTA GA</td>\n",
       "      <td>36.38</td>\n",
       "      <td>721.10</td>\n",
       "      <td>467.1192</td>\n",
       "      <td>27703</td>\n",
       "      <td>Card</td>\n",
       "      <td>Male</td>\n",
       "      <td>27</td>\n",
       "      <td>9237</td>\n",
       "      <td>814885</td>\n",
       "      <td>24701</td>\n",
       "      <td>253.9808</td>\n",
       "    </tr>\n",
       "    <tr>\n",
       "      <th>...</th>\n",
       "      <td>...</td>\n",
       "      <td>...</td>\n",
       "      <td>...</td>\n",
       "      <td>...</td>\n",
       "      <td>...</td>\n",
       "      <td>...</td>\n",
       "      <td>...</td>\n",
       "      <td>...</td>\n",
       "      <td>...</td>\n",
       "      <td>...</td>\n",
       "      <td>...</td>\n",
       "      <td>...</td>\n",
       "      <td>...</td>\n",
       "      <td>...</td>\n",
       "      <td>...</td>\n",
       "    </tr>\n",
       "    <tr>\n",
       "      <th>359387</th>\n",
       "      <td>10307228</td>\n",
       "      <td>43162</td>\n",
       "      <td>Yellow Cab</td>\n",
       "      <td>WASHINGTON DC</td>\n",
       "      <td>38.40</td>\n",
       "      <td>668.93</td>\n",
       "      <td>525.3120</td>\n",
       "      <td>51406</td>\n",
       "      <td>Cash</td>\n",
       "      <td>Female</td>\n",
       "      <td>29</td>\n",
       "      <td>6829</td>\n",
       "      <td>418859</td>\n",
       "      <td>127001</td>\n",
       "      <td>143.6180</td>\n",
       "    </tr>\n",
       "    <tr>\n",
       "      <th>359388</th>\n",
       "      <td>10319775</td>\n",
       "      <td>43203</td>\n",
       "      <td>Yellow Cab</td>\n",
       "      <td>WASHINGTON DC</td>\n",
       "      <td>3.57</td>\n",
       "      <td>67.60</td>\n",
       "      <td>44.5536</td>\n",
       "      <td>51406</td>\n",
       "      <td>Cash</td>\n",
       "      <td>Female</td>\n",
       "      <td>29</td>\n",
       "      <td>6829</td>\n",
       "      <td>418859</td>\n",
       "      <td>127001</td>\n",
       "      <td>23.0464</td>\n",
       "    </tr>\n",
       "    <tr>\n",
       "      <th>359389</th>\n",
       "      <td>10347676</td>\n",
       "      <td>43287</td>\n",
       "      <td>Yellow Cab</td>\n",
       "      <td>WASHINGTON DC</td>\n",
       "      <td>23.46</td>\n",
       "      <td>331.97</td>\n",
       "      <td>337.8240</td>\n",
       "      <td>51406</td>\n",
       "      <td>Card</td>\n",
       "      <td>Female</td>\n",
       "      <td>29</td>\n",
       "      <td>6829</td>\n",
       "      <td>418859</td>\n",
       "      <td>127001</td>\n",
       "      <td>-5.8540</td>\n",
       "    </tr>\n",
       "    <tr>\n",
       "      <th>359390</th>\n",
       "      <td>10358624</td>\n",
       "      <td>43314</td>\n",
       "      <td>Yellow Cab</td>\n",
       "      <td>WASHINGTON DC</td>\n",
       "      <td>27.60</td>\n",
       "      <td>358.23</td>\n",
       "      <td>364.3200</td>\n",
       "      <td>51406</td>\n",
       "      <td>Cash</td>\n",
       "      <td>Female</td>\n",
       "      <td>29</td>\n",
       "      <td>6829</td>\n",
       "      <td>418859</td>\n",
       "      <td>127001</td>\n",
       "      <td>-6.0900</td>\n",
       "    </tr>\n",
       "    <tr>\n",
       "      <th>359391</th>\n",
       "      <td>10370709</td>\n",
       "      <td>43342</td>\n",
       "      <td>Yellow Cab</td>\n",
       "      <td>WASHINGTON DC</td>\n",
       "      <td>34.24</td>\n",
       "      <td>453.11</td>\n",
       "      <td>427.3152</td>\n",
       "      <td>51406</td>\n",
       "      <td>Card</td>\n",
       "      <td>Female</td>\n",
       "      <td>29</td>\n",
       "      <td>6829</td>\n",
       "      <td>418859</td>\n",
       "      <td>127001</td>\n",
       "      <td>25.7948</td>\n",
       "    </tr>\n",
       "  </tbody>\n",
       "</table>\n",
       "<p>359392 rows × 15 columns</p>\n",
       "</div>"
      ],
      "text/plain": [
       "        Transaction_ID  Date_of_Travel     Company           City  \\\n",
       "0             10000011           42377    Pink Cab     ATLANTA GA   \n",
       "1             10351127           43302  Yellow Cab     ATLANTA GA   \n",
       "2             10412921           43427  Yellow Cab     ATLANTA GA   \n",
       "3             10000012           42375    Pink Cab     ATLANTA GA   \n",
       "4             10320494           43211  Yellow Cab     ATLANTA GA   \n",
       "...                ...             ...         ...            ...   \n",
       "359387        10307228           43162  Yellow Cab  WASHINGTON DC   \n",
       "359388        10319775           43203  Yellow Cab  WASHINGTON DC   \n",
       "359389        10347676           43287  Yellow Cab  WASHINGTON DC   \n",
       "359390        10358624           43314  Yellow Cab  WASHINGTON DC   \n",
       "359391        10370709           43342  Yellow Cab  WASHINGTON DC   \n",
       "\n",
       "        KM_Travelled  Price_Charged  Cost_of_Trip  Customer_ID Payment_Mode  \\\n",
       "0              30.45         370.95      313.6350        29290         Card   \n",
       "1              26.19         598.70      317.4228        29290         Cash   \n",
       "2              42.55         792.05      597.4020        29290         Card   \n",
       "3              28.62         358.52      334.8540        27703         Card   \n",
       "4              36.38         721.10      467.1192        27703         Card   \n",
       "...              ...            ...           ...          ...          ...   \n",
       "359387         38.40         668.93      525.3120        51406         Cash   \n",
       "359388          3.57          67.60       44.5536        51406         Cash   \n",
       "359389         23.46         331.97      337.8240        51406         Card   \n",
       "359390         27.60         358.23      364.3200        51406         Cash   \n",
       "359391         34.24         453.11      427.3152        51406         Card   \n",
       "\n",
       "        Gender  Age  Income_(USD/Month)  Population   Users    Profit  \n",
       "0         Male   28               10813      814885   24701   57.3150  \n",
       "1         Male   28               10813      814885   24701  281.2772  \n",
       "2         Male   28               10813      814885   24701  194.6480  \n",
       "3         Male   27                9237      814885   24701   23.6660  \n",
       "4         Male   27                9237      814885   24701  253.9808  \n",
       "...        ...  ...                 ...         ...     ...       ...  \n",
       "359387  Female   29                6829      418859  127001  143.6180  \n",
       "359388  Female   29                6829      418859  127001   23.0464  \n",
       "359389  Female   29                6829      418859  127001   -5.8540  \n",
       "359390  Female   29                6829      418859  127001   -6.0900  \n",
       "359391  Female   29                6829      418859  127001   25.7948  \n",
       "\n",
       "[359392 rows x 15 columns]"
      ]
     },
     "execution_count": 22,
     "metadata": {},
     "output_type": "execute_result"
    }
   ],
   "source": [
    "Final_cab_data['Profit'] = Final_cab_data['Price_Charged'] - Final_cab_data['Cost_of_Trip']\n",
    "Final_cab_data"
   ]
  },
  {
   "cell_type": "markdown",
   "metadata": {},
   "source": [
    "Change format the date to be not in integer and be d-m-y and this the right format for us for date"
   ]
  },
  {
   "cell_type": "code",
   "execution_count": 23,
   "metadata": {},
   "outputs": [
    {
     "data": {
      "text/html": [
       "<div>\n",
       "<style scoped>\n",
       "    .dataframe tbody tr th:only-of-type {\n",
       "        vertical-align: middle;\n",
       "    }\n",
       "\n",
       "    .dataframe tbody tr th {\n",
       "        vertical-align: top;\n",
       "    }\n",
       "\n",
       "    .dataframe thead th {\n",
       "        text-align: right;\n",
       "    }\n",
       "</style>\n",
       "<table border=\"1\" class=\"dataframe\">\n",
       "  <thead>\n",
       "    <tr style=\"text-align: right;\">\n",
       "      <th></th>\n",
       "      <th>Transaction_ID</th>\n",
       "      <th>Date_of_Travel</th>\n",
       "      <th>Company</th>\n",
       "      <th>City</th>\n",
       "      <th>KM_Travelled</th>\n",
       "      <th>Price_Charged</th>\n",
       "      <th>Cost_of_Trip</th>\n",
       "      <th>Customer_ID</th>\n",
       "      <th>Payment_Mode</th>\n",
       "      <th>Gender</th>\n",
       "      <th>Age</th>\n",
       "      <th>Income_(USD/Month)</th>\n",
       "      <th>Population</th>\n",
       "      <th>Users</th>\n",
       "      <th>Profit</th>\n",
       "    </tr>\n",
       "  </thead>\n",
       "  <tbody>\n",
       "    <tr>\n",
       "      <th>0</th>\n",
       "      <td>10000011</td>\n",
       "      <td>2016-01-07</td>\n",
       "      <td>Pink Cab</td>\n",
       "      <td>ATLANTA GA</td>\n",
       "      <td>30.45</td>\n",
       "      <td>370.95</td>\n",
       "      <td>313.6350</td>\n",
       "      <td>29290</td>\n",
       "      <td>Card</td>\n",
       "      <td>Male</td>\n",
       "      <td>28</td>\n",
       "      <td>10813</td>\n",
       "      <td>814885</td>\n",
       "      <td>24701</td>\n",
       "      <td>57.3150</td>\n",
       "    </tr>\n",
       "    <tr>\n",
       "      <th>1</th>\n",
       "      <td>10351127</td>\n",
       "      <td>2018-07-20</td>\n",
       "      <td>Yellow Cab</td>\n",
       "      <td>ATLANTA GA</td>\n",
       "      <td>26.19</td>\n",
       "      <td>598.70</td>\n",
       "      <td>317.4228</td>\n",
       "      <td>29290</td>\n",
       "      <td>Cash</td>\n",
       "      <td>Male</td>\n",
       "      <td>28</td>\n",
       "      <td>10813</td>\n",
       "      <td>814885</td>\n",
       "      <td>24701</td>\n",
       "      <td>281.2772</td>\n",
       "    </tr>\n",
       "    <tr>\n",
       "      <th>2</th>\n",
       "      <td>10412921</td>\n",
       "      <td>2018-11-22</td>\n",
       "      <td>Yellow Cab</td>\n",
       "      <td>ATLANTA GA</td>\n",
       "      <td>42.55</td>\n",
       "      <td>792.05</td>\n",
       "      <td>597.4020</td>\n",
       "      <td>29290</td>\n",
       "      <td>Card</td>\n",
       "      <td>Male</td>\n",
       "      <td>28</td>\n",
       "      <td>10813</td>\n",
       "      <td>814885</td>\n",
       "      <td>24701</td>\n",
       "      <td>194.6480</td>\n",
       "    </tr>\n",
       "    <tr>\n",
       "      <th>3</th>\n",
       "      <td>10000012</td>\n",
       "      <td>2016-01-05</td>\n",
       "      <td>Pink Cab</td>\n",
       "      <td>ATLANTA GA</td>\n",
       "      <td>28.62</td>\n",
       "      <td>358.52</td>\n",
       "      <td>334.8540</td>\n",
       "      <td>27703</td>\n",
       "      <td>Card</td>\n",
       "      <td>Male</td>\n",
       "      <td>27</td>\n",
       "      <td>9237</td>\n",
       "      <td>814885</td>\n",
       "      <td>24701</td>\n",
       "      <td>23.6660</td>\n",
       "    </tr>\n",
       "    <tr>\n",
       "      <th>4</th>\n",
       "      <td>10320494</td>\n",
       "      <td>2018-04-20</td>\n",
       "      <td>Yellow Cab</td>\n",
       "      <td>ATLANTA GA</td>\n",
       "      <td>36.38</td>\n",
       "      <td>721.10</td>\n",
       "      <td>467.1192</td>\n",
       "      <td>27703</td>\n",
       "      <td>Card</td>\n",
       "      <td>Male</td>\n",
       "      <td>27</td>\n",
       "      <td>9237</td>\n",
       "      <td>814885</td>\n",
       "      <td>24701</td>\n",
       "      <td>253.9808</td>\n",
       "    </tr>\n",
       "  </tbody>\n",
       "</table>\n",
       "</div>"
      ],
      "text/plain": [
       "   Transaction_ID Date_of_Travel     Company        City  KM_Travelled  \\\n",
       "0        10000011     2016-01-07    Pink Cab  ATLANTA GA         30.45   \n",
       "1        10351127     2018-07-20  Yellow Cab  ATLANTA GA         26.19   \n",
       "2        10412921     2018-11-22  Yellow Cab  ATLANTA GA         42.55   \n",
       "3        10000012     2016-01-05    Pink Cab  ATLANTA GA         28.62   \n",
       "4        10320494     2018-04-20  Yellow Cab  ATLANTA GA         36.38   \n",
       "\n",
       "   Price_Charged  Cost_of_Trip  Customer_ID Payment_Mode Gender  Age  \\\n",
       "0         370.95      313.6350        29290         Card   Male   28   \n",
       "1         598.70      317.4228        29290         Cash   Male   28   \n",
       "2         792.05      597.4020        29290         Card   Male   28   \n",
       "3         358.52      334.8540        27703         Card   Male   27   \n",
       "4         721.10      467.1192        27703         Card   Male   27   \n",
       "\n",
       "   Income_(USD/Month)  Population  Users    Profit  \n",
       "0               10813      814885  24701   57.3150  \n",
       "1               10813      814885  24701  281.2772  \n",
       "2               10813      814885  24701  194.6480  \n",
       "3                9237      814885  24701   23.6660  \n",
       "4                9237      814885  24701  253.9808  "
      ]
     },
     "execution_count": 23,
     "metadata": {},
     "output_type": "execute_result"
    }
   ],
   "source": [
    "\n",
    "def todate_format(n):\n",
    "    date_str =(datetime(1899,12,30) + timedelta(n-1)).strftime(\"%d-%m-%Y\")\n",
    "    date_date =  datetime.strptime(date_str, \"%d-%m-%Y\")\n",
    "    return date_date\n",
    "\n",
    "Final_cab_data['Date_of_Travel']=Final_cab_data['Date_of_Travel'].apply(lambda x:todate_format(x))\n",
    "Final_cab_data.head()"
   ]
  },
  {
   "cell_type": "markdown",
   "metadata": {},
   "source": [
    "Split data into two dataset one for Yellow Cab anf one for Pink Cap and start our visualization and analysis on the new datasets "
   ]
  },
  {
   "cell_type": "markdown",
   "metadata": {},
   "source": [
    "**Here I splitted MasterData into two dataset for every Cab Firm to analyze them individually.**\n"
   ]
  },
  {
   "cell_type": "code",
   "execution_count": 24,
   "metadata": {},
   "outputs": [],
   "source": [
    "Pink_CapData = Final_cab_data [Final_cab_data['Company'] == 'Pink Cab'] \n",
    "Yellow_CapData = Final_cab_data [Final_cab_data['Company'] == 'Yellow Cab']"
   ]
  },
  {
   "cell_type": "markdown",
   "metadata": {},
   "source": [
    "# **Data Visualization and hypothesis**"
   ]
  },
  {
   "cell_type": "markdown",
   "metadata": {},
   "source": [
    "**hypothesis**"
   ]
  },
  {
   "cell_type": "markdown",
   "metadata": {},
   "source": [
    "# Compare Yellow Cab and Pink Cab from Different Aspects\n"
   ]
  },
  {
   "cell_type": "markdown",
   "metadata": {},
   "source": [
    "What's the profit rate of Cab market? Which company has higher profit rate?\n",
    "\n",
    "Does Yellow Cab have bigger market share than Pink Cab?\n",
    "\n",
    "Do Customers prefer Yellow Cab to Pink Cab?\n",
    "\n",
    "Who serves the higher income\n",
    "\n",
    "\n",
    "Can Yellow Cab make more profit in the future?"
   ]
  },
  {
   "cell_type": "markdown",
   "metadata": {},
   "source": [
    "**Visualization**"
   ]
  },
  {
   "cell_type": "code",
   "execution_count": 25,
   "metadata": {},
   "outputs": [
    {
     "data": {
      "text/plain": [
       "<AxesSubplot:xlabel='Income_(USD/Month)', ylabel='Count'>"
      ]
     },
     "execution_count": 25,
     "metadata": {},
     "output_type": "execute_result"
    },
    {
     "data": {
      "image/png": "[encoded data removed]",
      "text/plain": [
       "<Figure size 1872x576 with 3 Axes>"
      ]
     },
     "metadata": {
      "needs_background": "light"
     },
     "output_type": "display_data"
    }
   ],
   "source": [
    "fig,axes = plt.subplots(1, 3 , figsize=(26,8), sharey=True)\n",
    "fig.suptitle('Distributions of Variables')\n",
    "sns.histplot(ax=axes[0], data=Final_cab_data , x='Cost_of_Trip' , kde = True , hue=\"Company\")\n",
    "sns.histplot(ax=axes[1], data=Final_cab_data , x='Price_Charged' , kde = True , hue=\"Company\")\n",
    "sns.histplot(ax=axes[2], data=Final_cab_data , x='Income_(USD/Month)' , kde = True , hue=\"Company\") "
   ]
  },
  {
   "cell_type": "markdown",
   "metadata": {},
   "source": [
    "Those Histograms indicates that yellow cab is higher is cost of trip , price charged and income that gained in month "
   ]
  },
  {
   "cell_type": "markdown",
   "metadata": {},
   "source": [
    "Transaction_ID\tDate_of_Travel\tCompany\tCity\tKM_Travelled\n",
    "\tPrice_Charged\tCost_of_Trip\t\n",
    "Customer_ID\tPayment_Mode\t\n",
    "Gender\tAge\tIncome_(USD/Month)\tPopulation\tUsers\tProfit"
   ]
  },
  {
   "cell_type": "code",
   "execution_count": 26,
   "metadata": {},
   "outputs": [
    {
     "data": {
      "text/plain": [
       "Text(0.5, 0, 'Price Charged')"
      ]
     },
     "execution_count": 26,
     "metadata": {},
     "output_type": "execute_result"
    },
    {
     "data": {
      "image/png": "[encoded data removed]",
      "text/plain": [
       "<Figure size 648x432 with 1 Axes>"
      ]
     },
     "metadata": {
      "needs_background": "light"
     },
     "output_type": "display_data"
    }
   ],
   "source": [
    "plt.figure(figsize=(9,6))\n",
    "sns.histplot(data=Final_cab_data, x=\"Price_Charged\",bins=60 , color=\"Black\")\n",
    "plt.title('Price Charged Distribution', fontsize=20)\n",
    "plt.ylabel('Count')\n",
    "plt.xlabel('Price Charged')"
   ]
  },
  {
   "cell_type": "markdown",
   "metadata": {},
   "source": [
    "# **Histogram indicates that payment method that used across the users tha most is card** "
   ]
  },
  {
   "cell_type": "code",
   "execution_count": 27,
   "metadata": {},
   "outputs": [
    {
     "data": {
      "text/plain": [
       "Text(0.5, 0, 'Payment Mode')"
      ]
     },
     "execution_count": 27,
     "metadata": {},
     "output_type": "execute_result"
    },
    {
     "data": {
      "image/png": "[encoded data removed]",
      "text/plain": [
       "<Figure size 720x432 with 1 Axes>"
      ]
     },
     "metadata": {
      "needs_background": "light"
     },
     "output_type": "display_data"
    }
   ],
   "source": [
    "plt.figure(figsize=(10,6))\n",
    "sns.countplot(data=Final_cab_data, x=\"Payment_Mode\", palette='PuRd')\n",
    "plt.title(\"Payment's method\", fontsize=15)\n",
    "plt.ylabel('Count')\n",
    "plt.xlabel('Payment Mode')"
   ]
  },
  {
   "cell_type": "markdown",
   "metadata": {},
   "source": [
    "# **Gender , is it female or male that used the cap more?**"
   ]
  },
  {
   "cell_type": "markdown",
   "metadata": {},
   "source": [
    "Based on figure the users are more male then female"
   ]
  },
  {
   "cell_type": "code",
   "execution_count": 28,
   "metadata": {},
   "outputs": [
    {
     "data": {
      "text/plain": [
       "Text(0.5, 0, 'Gender')"
      ]
     },
     "execution_count": 28,
     "metadata": {},
     "output_type": "execute_result"
    },
    {
     "data": {
      "image/png": "[encoded data removed]",
      "text/plain": [
       "<Figure size 792x504 with 1 Axes>"
      ]
     },
     "metadata": {
      "needs_background": "light"
     },
     "output_type": "display_data"
    }
   ],
   "source": [
    "plt.figure(figsize=(11,7))\n",
    "sns.countplot(data=Final_cab_data, x=\"Gender\", palette='dark')\n",
    "plt.title('Gender', fontsize=20)\n",
    "plt.ylabel('Count')\n",
    "plt.xlabel('Gender')"
   ]
  },
  {
   "cell_type": "markdown",
   "metadata": {},
   "source": [
    "# From the graph shown that yellow Cap have female and male users more that pink in both genders "
   ]
  },
  {
   "cell_type": "code",
   "execution_count": 30,
   "metadata": {},
   "outputs": [
    {
     "data": {
      "application/vnd.plotly.v1+json": {
       "config": {
        "plotlyServerURL": "https://plot.ly"
       },
       "data": [
        {
         "marker": {
          "color": "pink"
         },
         "name": "Pink Cab",
         "type": "bar",
         "x": [
          "Female",
          "Male"
         ],
         "y": [
          37480,
          47231
         ]
        },
        {
         "marker": {
          "color": "orange"
         },
         "name": "Yellow Cab",
         "type": "bar",
         "x": [
          "Female",
          "Male"
         ],
         "y": [
          116000,
          158681
         ]
        }
       ],
       "layout": {
        "template": {
         "data": {
          "bar": [
           {
            "error_x": {
             "color": "#2a3f5f"
            },
            "error_y": {
             "color": "#2a3f5f"
            },
            "marker": {
             "line": {
              "color": "#E5ECF6",
              "width": 0.5
             },
             "pattern": {
              "fillmode": "overlay",
              "size": 10,
              "solidity": 0.2
             }
            },
            "type": "bar"
           }
          ],
          "barpolar": [
           {
            "marker": {
             "line": {
              "color": "#E5ECF6",
              "width": 0.5
             },
             "pattern": {
              "fillmode": "overlay",
              "size": 10,
              "solidity": 0.2
             }
            },
            "type": "barpolar"
           }
          ],
          "carpet": [
           {
            "aaxis": {
             "endlinecolor": "#2a3f5f",
             "gridcolor": "white",
             "linecolor": "white",
             "minorgridcolor": "white",
             "startlinecolor": "#2a3f5f"
            },
            "baxis": {
             "endlinecolor": "#2a3f5f",
             "gridcolor": "white",
             "linecolor": "white",
             "minorgridcolor": "white",
             "startlinecolor": "#2a3f5f"
            },
            "type": "carpet"
           }
          ],
          "choropleth": [
           {
            "colorbar": {
             "outlinewidth": 0,
             "ticks": ""
            },
            "type": "choropleth"
           }
          ],
          "contour": [
           {
            "colorbar": {
             "outlinewidth": 0,
             "ticks": ""
            },
            "colorscale": [
             [
              0,
              "#0d0887"
             ],
             [
              0.1111111111111111,
              "#46039f"
             ],
             [
              0.2222222222222222,
              "#7201a8"
             ],
             [
              0.3333333333333333,
              "#9c179e"
             ],
             [
              0.4444444444444444,
              "#bd3786"
             ],
             [
              0.5555555555555556,
              "#d8576b"
             ],
             [
              0.6666666666666666,
              "#ed7953"
             ],
             [
              0.7777777777777778,
              "#fb9f3a"
             ],
             [
              0.8888888888888888,
              "#fdca26"
             ],
             [
              1,
              "#f0f921"
             ]
            ],
            "type": "contour"
           }
          ],
          "contourcarpet": [
           {
            "colorbar": {
             "outlinewidth": 0,
             "ticks": ""
            },
            "type": "contourcarpet"
           }
          ],
          "heatmap": [
           {
            "colorbar": {
             "outlinewidth": 0,
             "ticks": ""
            },
            "colorscale": [
             [
              0,
              "#0d0887"
             ],
             [
              0.1111111111111111,
              "#46039f"
             ],
             [
              0.2222222222222222,
              "#7201a8"
             ],
             [
              0.3333333333333333,
              "#9c179e"
             ],
             [
              0.4444444444444444,
              "#bd3786"
             ],
             [
              0.5555555555555556,
              "#d8576b"
             ],
             [
              0.6666666666666666,
              "#ed7953"
             ],
             [
              0.7777777777777778,
              "#fb9f3a"
             ],
             [
              0.8888888888888888,
              "#fdca26"
             ],
             [
              1,
              "#f0f921"
             ]
            ],
            "type": "heatmap"
           }
          ],
          "heatmapgl": [
           {
            "colorbar": {
             "outlinewidth": 0,
             "ticks": ""
            },
            "colorscale": [
             [
              0,
              "#0d0887"
             ],
             [
              0.1111111111111111,
              "#46039f"
             ],
             [
              0.2222222222222222,
              "#7201a8"
             ],
             [
              0.3333333333333333,
              "#9c179e"
             ],
             [
              0.4444444444444444,
              "#bd3786"
             ],
             [
              0.5555555555555556,
              "#d8576b"
             ],
             [
              0.6666666666666666,
              "#ed7953"
             ],
             [
              0.7777777777777778,
              "#fb9f3a"
             ],
             [
              0.8888888888888888,
              "#fdca26"
             ],
             [
              1,
              "#f0f921"
             ]
            ],
            "type": "heatmapgl"
           }
          ],
          "histogram": [
           {
            "marker": {
             "pattern": {
              "fillmode": "overlay",
              "size": 10,
              "solidity": 0.2
             }
            },
            "type": "histogram"
           }
          ],
          "histogram2d": [
           {
            "colorbar": {
             "outlinewidth": 0,
             "ticks": ""
            },
            "colorscale": [
             [
              0,
              "#0d0887"
             ],
             [
              0.1111111111111111,
              "#46039f"
             ],
             [
              0.2222222222222222,
              "#7201a8"
             ],
             [
              0.3333333333333333,
              "#9c179e"
             ],
             [
              0.4444444444444444,
              "#bd3786"
             ],
             [
              0.5555555555555556,
              "#d8576b"
             ],
             [
              0.6666666666666666,
              "#ed7953"
             ],
             [
              0.7777777777777778,
              "#fb9f3a"
             ],
             [
              0.8888888888888888,
              "#fdca26"
             ],
             [
              1,
              "#f0f921"
             ]
            ],
            "type": "histogram2d"
           }
          ],
          "histogram2dcontour": [
           {
            "colorbar": {
             "outlinewidth": 0,
             "ticks": ""
            },
            "colorscale": [
             [
              0,
              "#0d0887"
             ],
             [
              0.1111111111111111,
              "#46039f"
             ],
             [
              0.2222222222222222,
              "#7201a8"
             ],
             [
              0.3333333333333333,
              "#9c179e"
             ],
             [
              0.4444444444444444,
              "#bd3786"
             ],
             [
              0.5555555555555556,
              "#d8576b"
             ],
             [
              0.6666666666666666,
              "#ed7953"
             ],
             [
              0.7777777777777778,
              "#fb9f3a"
             ],
             [
              0.8888888888888888,
              "#fdca26"
             ],
             [
              1,
              "#f0f921"
             ]
            ],
            "type": "histogram2dcontour"
           }
          ],
          "mesh3d": [
           {
            "colorbar": {
             "outlinewidth": 0,
             "ticks": ""
            },
            "type": "mesh3d"
           }
          ],
          "parcoords": [
           {
            "line": {
             "colorbar": {
              "outlinewidth": 0,
              "ticks": ""
             }
            },
            "type": "parcoords"
           }
          ],
          "pie": [
           {
            "automargin": true,
            "type": "pie"
           }
          ],
          "scatter": [
           {
            "fillpattern": {
             "fillmode": "overlay",
             "size": 10,
             "solidity": 0.2
            },
            "type": "scatter"
           }
          ],
          "scatter3d": [
           {
            "line": {
             "colorbar": {
              "outlinewidth": 0,
              "ticks": ""
             }
            },
            "marker": {
             "colorbar": {
              "outlinewidth": 0,
              "ticks": ""
             }
            },
            "type": "scatter3d"
           }
          ],
          "scattercarpet": [
           {
            "marker": {
             "colorbar": {
              "outlinewidth": 0,
              "ticks": ""
             }
            },
            "type": "scattercarpet"
           }
          ],
          "scattergeo": [
           {
            "marker": {
             "colorbar": {
              "outlinewidth": 0,
              "ticks": ""
             }
            },
            "type": "scattergeo"
           }
          ],
          "scattergl": [
           {
            "marker": {
             "colorbar": {
              "outlinewidth": 0,
              "ticks": ""
             }
            },
            "type": "scattergl"
           }
          ],
          "scattermapbox": [
           {
            "marker": {
             "colorbar": {
              "outlinewidth": 0,
              "ticks": ""
             }
            },
            "type": "scattermapbox"
           }
          ],
          "scatterpolar": [
           {
            "marker": {
             "colorbar": {
              "outlinewidth": 0,
              "ticks": ""
             }
            },
            "type": "scatterpolar"
           }
          ],
          "scatterpolargl": [
           {
            "marker": {
             "colorbar": {
              "outlinewidth": 0,
              "ticks": ""
             }
            },
            "type": "scatterpolargl"
           }
          ],
          "scatterternary": [
           {
            "marker": {
             "colorbar": {
              "outlinewidth": 0,
              "ticks": ""
             }
            },
            "type": "scatterternary"
           }
          ],
          "surface": [
           {
            "colorbar": {
             "outlinewidth": 0,
             "ticks": ""
            },
            "colorscale": [
             [
              0,
              "#0d0887"
             ],
             [
              0.1111111111111111,
              "#46039f"
             ],
             [
              0.2222222222222222,
              "#7201a8"
             ],
             [
              0.3333333333333333,
              "#9c179e"
             ],
             [
              0.4444444444444444,
              "#bd3786"
             ],
             [
              0.5555555555555556,
              "#d8576b"
             ],
             [
              0.6666666666666666,
              "#ed7953"
             ],
             [
              0.7777777777777778,
              "#fb9f3a"
             ],
             [
              0.8888888888888888,
              "#fdca26"
             ],
             [
              1,
              "#f0f921"
             ]
            ],
            "type": "surface"
           }
          ],
          "table": [
           {
            "cells": {
             "fill": {
              "color": "#EBF0F8"
             },
             "line": {
              "color": "white"
             }
            },
            "header": {
             "fill": {
              "color": "#C8D4E3"
             },
             "line": {
              "color": "white"
             }
            },
            "type": "table"
           }
          ]
         },
         "layout": {
          "annotationdefaults": {
           "arrowcolor": "#2a3f5f",
           "arrowhead": 0,
           "arrowwidth": 1
          },
          "autotypenumbers": "strict",
          "coloraxis": {
           "colorbar": {
            "outlinewidth": 0,
            "ticks": ""
           }
          },
          "colorscale": {
           "diverging": [
            [
             0,
             "#8e0152"
            ],
            [
             0.1,
             "#c51b7d"
            ],
            [
             0.2,
             "#de77ae"
            ],
            [
             0.3,
             "#f1b6da"
            ],
            [
             0.4,
             "#fde0ef"
            ],
            [
             0.5,
             "#f7f7f7"
            ],
            [
             0.6,
             "#e6f5d0"
            ],
            [
             0.7,
             "#b8e186"
            ],
            [
             0.8,
             "#7fbc41"
            ],
            [
             0.9,
             "#4d9221"
            ],
            [
             1,
             "#276419"
            ]
           ],
           "sequential": [
            [
             0,
             "#0d0887"
            ],
            [
             0.1111111111111111,
             "#46039f"
            ],
            [
             0.2222222222222222,
             "#7201a8"
            ],
            [
             0.3333333333333333,
             "#9c179e"
            ],
            [
             0.4444444444444444,
             "#bd3786"
            ],
            [
             0.5555555555555556,
             "#d8576b"
            ],
            [
             0.6666666666666666,
             "#ed7953"
            ],
            [
             0.7777777777777778,
             "#fb9f3a"
            ],
            [
             0.8888888888888888,
             "#fdca26"
            ],
            [
             1,
             "#f0f921"
            ]
           ],
           "sequentialminus": [
            [
             0,
             "#0d0887"
            ],
            [
             0.1111111111111111,
             "#46039f"
            ],
            [
             0.2222222222222222,
             "#7201a8"
            ],
            [
             0.3333333333333333,
             "#9c179e"
            ],
            [
             0.4444444444444444,
             "#bd3786"
            ],
            [
             0.5555555555555556,
             "#d8576b"
            ],
            [
             0.6666666666666666,
             "#ed7953"
            ],
            [
             0.7777777777777778,
             "#fb9f3a"
            ],
            [
             0.8888888888888888,
             "#fdca26"
            ],
            [
             1,
             "#f0f921"
            ]
           ]
          },
          "colorway": [
           "#636efa",
           "#EF553B",
           "#00cc96",
           "#ab63fa",
           "#FFA15A",
           "#19d3f3",
           "#FF6692",
           "#B6E880",
           "#FF97FF",
           "#FECB52"
          ],
          "font": {
           "color": "#2a3f5f"
          },
          "geo": {
           "bgcolor": "white",
           "lakecolor": "white",
           "landcolor": "#E5ECF6",
           "showlakes": true,
           "showland": true,
           "subunitcolor": "white"
          },
          "hoverlabel": {
           "align": "left"
          },
          "hovermode": "closest",
          "mapbox": {
           "style": "light"
          },
          "paper_bgcolor": "white",
          "plot_bgcolor": "#E5ECF6",
          "polar": {
           "angularaxis": {
            "gridcolor": "white",
            "linecolor": "white",
            "ticks": ""
           },
           "bgcolor": "#E5ECF6",
           "radialaxis": {
            "gridcolor": "white",
            "linecolor": "white",
            "ticks": ""
           }
          },
          "scene": {
           "xaxis": {
            "backgroundcolor": "#E5ECF6",
            "gridcolor": "white",
            "gridwidth": 2,
            "linecolor": "white",
            "showbackground": true,
            "ticks": "",
            "zerolinecolor": "white"
           },
           "yaxis": {
            "backgroundcolor": "#E5ECF6",
            "gridcolor": "white",
            "gridwidth": 2,
            "linecolor": "white",
            "showbackground": true,
            "ticks": "",
            "zerolinecolor": "white"
           },
           "zaxis": {
            "backgroundcolor": "#E5ECF6",
            "gridcolor": "white",
            "gridwidth": 2,
            "linecolor": "white",
            "showbackground": true,
            "ticks": "",
            "zerolinecolor": "white"
           }
          },
          "shapedefaults": {
           "line": {
            "color": "#2a3f5f"
           }
          },
          "ternary": {
           "aaxis": {
            "gridcolor": "white",
            "linecolor": "white",
            "ticks": ""
           },
           "baxis": {
            "gridcolor": "white",
            "linecolor": "white",
            "ticks": ""
           },
           "bgcolor": "#E5ECF6",
           "caxis": {
            "gridcolor": "white",
            "linecolor": "white",
            "ticks": ""
           }
          },
          "title": {
           "x": 0.05
          },
          "xaxis": {
           "automargin": true,
           "gridcolor": "white",
           "linecolor": "white",
           "ticks": "",
           "title": {
            "standoff": 15
           },
           "zerolinecolor": "white",
           "zerolinewidth": 2
          },
          "yaxis": {
           "automargin": true,
           "gridcolor": "white",
           "linecolor": "white",
           "ticks": "",
           "title": {
            "standoff": 15
           },
           "zerolinecolor": "white",
           "zerolinewidth": 2
          }
         }
        },
        "title": {
         "text": "Pink & Yellow Cab Firm Users Distribution Over Gender"
        },
        "yaxis": {
         "title": {
          "text": "Users"
         }
        }
       }
      }
     },
     "metadata": {},
     "output_type": "display_data"
    }
   ],
   "source": [
    "data_1 = Pink_CapData.groupby(\"Gender\").count()\n",
    "data_2 = Yellow_CapData.groupby(\"Gender\").count()\n",
    "\n",
    "fig = go.Figure()\n",
    "fig.add_trace(go.Bar(\n",
    "                    x=data_1.index,\n",
    "                    y=data_1['Users'],\n",
    "                    name='Pink Cab',\n",
    "                    marker_color='pink' \n",
    "                    ))            \n",
    "fig.add_trace(go.Bar(\n",
    "                    x=data_2.index,\n",
    "                    y=data_2['Users'],\n",
    "                    name='Yellow Cab',\n",
    "                    marker_color='orange'\n",
    "                    ))\n",
    "fig.update_layout(\n",
    "    yaxis_title=\"Users\",\n",
    "    title=\"Pink & Yellow Cab Firm Users Distribution Over Gender\" )"
   ]
  },
  {
   "cell_type": "code",
   "execution_count": null,
   "metadata": {},
   "outputs": [],
   "source": []
  }
 ],
 "metadata": {
  "kernelspec": {
   "display_name": "Python 3.10.4 64-bit",
   "language": "python",
   "name": "python3"
  },
  "language_info": {
   "codemirror_mode": {
    "name": "ipython",
    "version": 3
   },
   "file_extension": ".py",
   "mimetype": "text/x-python",
   "name": "python",
   "nbconvert_exporter": "python",
   "pygments_lexer": "ipython3",
   "version": "3.10.4"
  },
  "orig_nbformat": 4,
  "vscode": {
   "interpreter": {
    "hash": "a9cff5a362bc38ef45d817ae74b1af54d6a076e3d773891282bce078b815ba34"
   }
  }
 },
 "nbformat": 4,
 "nbformat_minor": 2
}
